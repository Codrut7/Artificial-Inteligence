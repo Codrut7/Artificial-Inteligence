{
 "cells": [
  {
   "cell_type": "code",
   "execution_count": 8,
   "metadata": {},
   "outputs": [],
   "source": [
    "import numpy as np\n",
    "import matplotlib.pyplot as plt\n",
    "from copy import deepcopy"
   ]
  },
  {
   "cell_type": "code",
   "execution_count": 9,
   "metadata": {},
   "outputs": [],
   "source": [
    "# Sphere test function\n",
    "def cost_function(x):\n",
    "    return sum(x**2)"
   ]
  },
  {
   "cell_type": "code",
   "execution_count": 10,
   "metadata": {},
   "outputs": [],
   "source": [
    "def crossover(p1, p2, gamma=0.1):\n",
    "    \n",
    "    c1 = deepcopy(p1)\n",
    "    c2 = deepcopy(p2)\n",
    "    \n",
    "    alpha = np.random.uniform(-gamma, gamma+1, c1[\"position\"].shape)\n",
    "    \n",
    "    c1[\"position\"] = alpha * p1[\"position\"] + (1-alpha) * p2[\"position\"]\n",
    "    c2[\"position\"] = (1-alpha) * p1[\"position\"] + alpha * p2[\"position\"]\n",
    "    \n",
    "    return c1, c2"
   ]
  },
  {
   "cell_type": "code",
   "execution_count": 25,
   "metadata": {},
   "outputs": [],
   "source": [
    "def mutate(x, mutation_rate=0.2, sigma=0.1):\n",
    "    \n",
    "    y = deepcopy(x)\n",
    "    # Only 20% of the genes are mutated for each child\n",
    "    flag = np.random.rand(*x[\"position\"].shape) <= mutation_rate\n",
    "    indices = np.argwhere(flag)\n",
    "    # random.randn -> N(0, 1) -> mean = 0, std = 1\n",
    "    # sigma = standard deviance, miu = mean\n",
    "    # Mutate the gene by adding N(miu=init_position, standard dev = sigma)\n",
    "    y[\"position\"][indices] = x[\"position\"][indices] + sigma * np.random.randn(*indices.shape)\n",
    "    \n",
    "    return y"
   ]
  },
  {
   "cell_type": "code",
   "execution_count": 46,
   "metadata": {},
   "outputs": [],
   "source": [
    "def iterate_population(problem, params):\n",
    "    population = []\n",
    "    \n",
    "    for i in range(params[\"npop\"]):\n",
    "        \n",
    "        individual = {}\n",
    "        individual[\"position\"] = np.random.uniform(problem[\"varmin\"], problem[\"varmax\"], problem[\"nvar\"])\n",
    "        individual[\"cost\"] = cost_function(individual[\"position\"])\n",
    "        \n",
    "        population.append(individual)\n",
    "    \n",
    "    best_individual = deepcopy(sorted(population, key = lambda i: i[\"cost\"])[0])\n",
    "    best_costs = [best_individual]\n",
    "    \n",
    "    for i in range(params[\"maxit\"]):\n",
    "        \n",
    "        offsprings = []\n",
    "        for j in range(params[\"nchildren\"] // 2):\n",
    "            \n",
    "            # Index of random parents\n",
    "            permutation = np.random.permutation(params[\"npop\"])\n",
    "            # Extract the random parents\n",
    "            # Parents are selected random\n",
    "            parent1 = population[permutation[0]]\n",
    "            parent2 = population[permutation[1]]\n",
    "            \n",
    "            # Perform crossover\n",
    "            c1, c2 = crossover(parent1, parent2)\n",
    "            \n",
    "            c1 = mutate(c1)\n",
    "            c2 = mutate(c2)\n",
    "            \n",
    "            # CLip the mutated childs\n",
    "            c1[\"position\"] = np.clip(c1[\"position\"], problem[\"varmin\"], problem[\"varmax\"])\n",
    "            c2[\"position\"] = np.clip(c2[\"position\"], problem[\"varmin\"], problem[\"varmax\"])\n",
    "            \n",
    "            # Calculate the new cost\n",
    "            c1[\"cost\"] = cost_function(c1[\"position\"])\n",
    "            c2[\"cost\"] = cost_function(c2[\"position\"])\n",
    "            \n",
    "            offsprings.append(c1)\n",
    "            offsprings.append(c2)\n",
    "            \n",
    "        population += offsprings\n",
    "        population = sorted(population, key = lambda i: i[\"cost\"])\n",
    "        population = population[0:params[\"npop\"]]\n",
    "        best_costs.append(population[0])\n",
    "\n",
    "        print(\"Iteration {} : Best Cost = {}\".format(i, best_costs[i][\"cost\"]))\n",
    "            \n",
    "    return best_costs\n",
    "        "
   ]
  },
  {
   "cell_type": "code",
   "execution_count": 47,
   "metadata": {},
   "outputs": [],
   "source": [
    "problem = {}\n",
    "problem[\"nvar\"] = 5\n",
    "problem[\"varmin\"] = -10\n",
    "problem[\"varmax\"] = 10"
   ]
  },
  {
   "cell_type": "code",
   "execution_count": 48,
   "metadata": {},
   "outputs": [],
   "source": [
    "params = {}\n",
    "params[\"maxit\"] = 100\n",
    "params[\"npop\"] = 20\n",
    "params[\"children_scale\"] = 1\n",
    "params[\"nchildren\"] = params[\"npop\"] * params[\"children_scale\"]\n"
   ]
  },
  {
   "cell_type": "code",
   "execution_count": 50,
   "metadata": {},
   "outputs": [
    {
     "name": "stdout",
     "output_type": "stream",
     "text": [
      "Iteration 0 : Best Cost = 29.908888701849396\n",
      "Iteration 1 : Best Cost = 28.38339883981565\n",
      "Iteration 2 : Best Cost = 25.719400885249648\n",
      "Iteration 3 : Best Cost = 11.58823805574811\n",
      "Iteration 4 : Best Cost = 7.666374503421084\n",
      "Iteration 5 : Best Cost = 5.476220011701904\n",
      "Iteration 6 : Best Cost = 5.476220011701904\n",
      "Iteration 7 : Best Cost = 2.1101037628839805\n",
      "Iteration 8 : Best Cost = 0.44675920173660444\n",
      "Iteration 9 : Best Cost = 0.44675920173660444\n",
      "Iteration 10 : Best Cost = 0.44675920173660444\n",
      "Iteration 11 : Best Cost = 0.36645280364684046\n",
      "Iteration 12 : Best Cost = 0.2009598580756338\n",
      "Iteration 13 : Best Cost = 0.2009598580756338\n",
      "Iteration 14 : Best Cost = 0.12502288027653788\n",
      "Iteration 15 : Best Cost = 0.12502288027653788\n",
      "Iteration 16 : Best Cost = 0.06288753589271055\n",
      "Iteration 17 : Best Cost = 0.05010291643371971\n",
      "Iteration 18 : Best Cost = 0.03824483907027222\n",
      "Iteration 19 : Best Cost = 0.025237940394096693\n",
      "Iteration 20 : Best Cost = 0.017715521509579685\n",
      "Iteration 21 : Best Cost = 0.017715521509579685\n",
      "Iteration 22 : Best Cost = 0.017715521509579685\n",
      "Iteration 23 : Best Cost = 0.011531849729592387\n",
      "Iteration 24 : Best Cost = 0.011531849729592387\n",
      "Iteration 25 : Best Cost = 0.011531849729592387\n",
      "Iteration 26 : Best Cost = 0.009212442794547315\n",
      "Iteration 27 : Best Cost = 0.0014864271549255232\n",
      "Iteration 28 : Best Cost = 0.0014864271549255232\n",
      "Iteration 29 : Best Cost = 0.0014864271549255232\n",
      "Iteration 30 : Best Cost = 0.0014864271549255232\n",
      "Iteration 31 : Best Cost = 0.0011071268043648262\n",
      "Iteration 32 : Best Cost = 0.0010140259424965851\n",
      "Iteration 33 : Best Cost = 0.00037569766190712853\n",
      "Iteration 34 : Best Cost = 0.0003455330133523003\n",
      "Iteration 35 : Best Cost = 0.0003455330133523003\n",
      "Iteration 36 : Best Cost = 0.0002917651947652735\n",
      "Iteration 37 : Best Cost = 0.00023387199627595886\n",
      "Iteration 38 : Best Cost = 0.00018696901106019285\n",
      "Iteration 39 : Best Cost = 0.00018696901106019285\n",
      "Iteration 40 : Best Cost = 0.00018696901106019285\n",
      "Iteration 41 : Best Cost = 0.00018696901106019285\n",
      "Iteration 42 : Best Cost = 0.00018696901106019285\n",
      "Iteration 43 : Best Cost = 0.00018696901106019285\n",
      "Iteration 44 : Best Cost = 9.241273292208195e-05\n",
      "Iteration 45 : Best Cost = 9.241273292208195e-05\n",
      "Iteration 46 : Best Cost = 9.241273292208195e-05\n",
      "Iteration 47 : Best Cost = 8.084308431714239e-05\n",
      "Iteration 48 : Best Cost = 8.084308431714239e-05\n",
      "Iteration 49 : Best Cost = 8.084308431714239e-05\n",
      "Iteration 50 : Best Cost = 8.084308431714239e-05\n",
      "Iteration 51 : Best Cost = 1.94355799183566e-05\n",
      "Iteration 52 : Best Cost = 1.5742625210129144e-05\n",
      "Iteration 53 : Best Cost = 1.5742625210129144e-05\n",
      "Iteration 54 : Best Cost = 1.5742625210129144e-05\n",
      "Iteration 55 : Best Cost = 1.5742625210129144e-05\n",
      "Iteration 56 : Best Cost = 1.5742625210129144e-05\n",
      "Iteration 57 : Best Cost = 1.5742625210129144e-05\n",
      "Iteration 58 : Best Cost = 2.4274039372478063e-06\n",
      "Iteration 59 : Best Cost = 2.4274039372478063e-06\n",
      "Iteration 60 : Best Cost = 2.4274039372478063e-06\n",
      "Iteration 61 : Best Cost = 2.4274039372478063e-06\n",
      "Iteration 62 : Best Cost = 2.4274039372478063e-06\n",
      "Iteration 63 : Best Cost = 2.4274039372478063e-06\n",
      "Iteration 64 : Best Cost = 2.4274039372478063e-06\n",
      "Iteration 65 : Best Cost = 2.4274039372478063e-06\n",
      "Iteration 66 : Best Cost = 2.4274039372478063e-06\n",
      "Iteration 67 : Best Cost = 2.4274039372478063e-06\n",
      "Iteration 68 : Best Cost = 2.4274039372478063e-06\n",
      "Iteration 69 : Best Cost = 2.4274039372478063e-06\n",
      "Iteration 70 : Best Cost = 2.4274039372478063e-06\n",
      "Iteration 71 : Best Cost = 1.463083694956597e-06\n",
      "Iteration 72 : Best Cost = 1.463083694956597e-06\n",
      "Iteration 73 : Best Cost = 1.463083694956597e-06\n",
      "Iteration 74 : Best Cost = 1.463083694956597e-06\n",
      "Iteration 75 : Best Cost = 1.463083694956597e-06\n",
      "Iteration 76 : Best Cost = 1.463083694956597e-06\n",
      "Iteration 77 : Best Cost = 1.463083694956597e-06\n",
      "Iteration 78 : Best Cost = 1.085569695519299e-06\n",
      "Iteration 79 : Best Cost = 1.085569695519299e-06\n",
      "Iteration 80 : Best Cost = 1.085569695519299e-06\n",
      "Iteration 81 : Best Cost = 1.085569695519299e-06\n",
      "Iteration 82 : Best Cost = 1.052622684371912e-06\n",
      "Iteration 83 : Best Cost = 1.052622684371912e-06\n",
      "Iteration 84 : Best Cost = 1.052622684371912e-06\n",
      "Iteration 85 : Best Cost = 9.017956660914348e-07\n",
      "Iteration 86 : Best Cost = 9.017956660914348e-07\n",
      "Iteration 87 : Best Cost = 9.017956660914348e-07\n",
      "Iteration 88 : Best Cost = 9.017956660914348e-07\n",
      "Iteration 89 : Best Cost = 9.017956660914348e-07\n",
      "Iteration 90 : Best Cost = 9.017956660914348e-07\n",
      "Iteration 91 : Best Cost = 9.017956660914348e-07\n",
      "Iteration 92 : Best Cost = 9.017956660914348e-07\n",
      "Iteration 93 : Best Cost = 8.777390150332771e-07\n",
      "Iteration 94 : Best Cost = 8.777390150332771e-07\n",
      "Iteration 95 : Best Cost = 8.777390150332771e-07\n",
      "Iteration 96 : Best Cost = 8.777390150332771e-07\n",
      "Iteration 97 : Best Cost = 8.777390150332771e-07\n",
      "Iteration 98 : Best Cost = 8.777390150332771e-07\n",
      "Iteration 99 : Best Cost = 8.101602588762651e-07\n"
     ]
    }
   ],
   "source": [
    "best_individuals = iterate_population(problem, params)"
   ]
  },
  {
   "cell_type": "code",
   "execution_count": 51,
   "metadata": {},
   "outputs": [
    {
     "data": {
      "text/plain": [
       "{'position': array([ 3.31233413e-04, -4.67733277e-04, -5.04407593e-04,  4.69139174e-04,\n",
       "         8.45676223e-05]),\n",
       " 'cost': 8.101602588762651e-07}"
      ]
     },
     "execution_count": 51,
     "metadata": {},
     "output_type": "execute_result"
    }
   ],
   "source": [
    "best_individuals[params[\"maxit\"]-1]"
   ]
  },
  {
   "cell_type": "code",
   "execution_count": null,
   "metadata": {},
   "outputs": [],
   "source": []
  }
 ],
 "metadata": {
  "kernelspec": {
   "display_name": "Python 3",
   "language": "python",
   "name": "python3"
  },
  "language_info": {
   "codemirror_mode": {
    "name": "ipython",
    "version": 3
   },
   "file_extension": ".py",
   "mimetype": "text/x-python",
   "name": "python",
   "nbconvert_exporter": "python",
   "pygments_lexer": "ipython3",
   "version": "3.7.3"
  }
 },
 "nbformat": 4,
 "nbformat_minor": 4
}
