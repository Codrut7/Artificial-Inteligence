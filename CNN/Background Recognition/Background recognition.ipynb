{
 "cells": [
  {
   "cell_type": "code",
   "execution_count": 1,
   "metadata": {},
   "outputs": [
    {
     "name": "stderr",
     "output_type": "stream",
     "text": [
      "Using TensorFlow backend.\n"
     ]
    },
    {
     "name": "stdout",
     "output_type": "stream",
     "text": [
      "Found 14034 images belonging to 6 classes.\n",
      "Found 3000 images belonging to 6 classes.\n"
     ]
    }
   ],
   "source": [
    "from keras.preprocessing.image import ImageDataGenerator\n",
    "\n",
    "train_datagen = ImageDataGenerator(rescale=1./ 255)\n",
    "test_datagen = ImageDataGenerator(rescale=1./ 255)\n",
    "\n",
    "train_generator = train_datagen.flow_from_directory(\n",
    "        \"seg_train\",\n",
    "        color_mode=\"grayscale\",\n",
    "        target_size = (200,200),\n",
    "        batch_size = 64,\n",
    "        class_mode = 'categorical')\n",
    "\n",
    "validation_generator = train_datagen.flow_from_directory(\n",
    "        \"seg_test\",\n",
    "        color_mode=\"grayscale\",\n",
    "        target_size = (200,200),\n",
    "        batch_size = 64,\n",
    "        class_mode = 'categorical')"
   ]
  },
  {
   "cell_type": "code",
   "execution_count": 4,
   "metadata": {},
   "outputs": [
    {
     "name": "stdout",
     "output_type": "stream",
     "text": [
      "_________________________________________________________________\n",
      "Layer (type)                 Output Shape              Param #   \n",
      "=================================================================\n",
      "conv2d_9 (Conv2D)            (None, 200, 200, 64)      640       \n",
      "_________________________________________________________________\n",
      "conv2d_10 (Conv2D)           (None, 200, 200, 64)      36928     \n",
      "_________________________________________________________________\n",
      "max_pooling2d_5 (MaxPooling2 (None, 100, 100, 64)      0         \n",
      "_________________________________________________________________\n",
      "dropout_5 (Dropout)          (None, 100, 100, 64)      0         \n",
      "_________________________________________________________________\n",
      "conv2d_11 (Conv2D)           (None, 100, 100, 128)     73856     \n",
      "_________________________________________________________________\n",
      "conv2d_12 (Conv2D)           (None, 100, 100, 128)     147584    \n",
      "_________________________________________________________________\n",
      "max_pooling2d_6 (MaxPooling2 (None, 50, 50, 128)       0         \n",
      "_________________________________________________________________\n",
      "dropout_6 (Dropout)          (None, 50, 50, 128)       0         \n",
      "_________________________________________________________________\n",
      "conv2d_13 (Conv2D)           (None, 50, 50, 256)       295168    \n",
      "_________________________________________________________________\n",
      "conv2d_14 (Conv2D)           (None, 50, 50, 256)       590080    \n",
      "_________________________________________________________________\n",
      "max_pooling2d_7 (MaxPooling2 (None, 25, 25, 256)       0         \n",
      "_________________________________________________________________\n",
      "dropout_7 (Dropout)          (None, 25, 25, 256)       0         \n",
      "_________________________________________________________________\n",
      "conv2d_15 (Conv2D)           (None, 25, 25, 512)       1180160   \n",
      "_________________________________________________________________\n",
      "conv2d_16 (Conv2D)           (None, 25, 25, 512)       2359808   \n",
      "_________________________________________________________________\n",
      "max_pooling2d_8 (MaxPooling2 (None, 12, 12, 512)       0         \n",
      "_________________________________________________________________\n",
      "dropout_8 (Dropout)          (None, 12, 12, 512)       0         \n",
      "_________________________________________________________________\n",
      "flatten_2 (Flatten)          (None, 73728)             0         \n",
      "_________________________________________________________________\n",
      "dense_3 (Dense)              (None, 256)               18874624  \n",
      "_________________________________________________________________\n",
      "dense_4 (Dense)              (None, 6)                 1542      \n",
      "=================================================================\n",
      "Total params: 23,560,390\n",
      "Trainable params: 23,560,390\n",
      "Non-trainable params: 0\n",
      "_________________________________________________________________\n"
     ]
    }
   ],
   "source": [
    "from keras.layers import Activation, Convolution2D, Dropout, Conv2D\n",
    "from keras.layers import AveragePooling2D, BatchNormalization\n",
    "from keras.layers import GlobalAveragePooling2D\n",
    "from keras.models import Sequential\n",
    "from keras.layers import Flatten\n",
    "from keras.models import Model\n",
    "from keras.layers import Input\n",
    "from keras.layers import MaxPooling2D\n",
    "from keras.layers import SeparableConv2D\n",
    "from keras.layers import Dense\n",
    "from keras import layers\n",
    "from keras.regularizers import l2\n",
    "from keras.optimizers import SGD\n",
    "\n",
    "model = Sequential()\n",
    "model.add(Conv2D(64, kernel_size=(3, 3),\n",
    "                 padding=\"same\",\n",
    "                 activation='relu',\n",
    "                 input_shape=(200,200,1)))\n",
    "model.add(Conv2D(64, (3, 3), activation='relu', kernel_initializer='he_uniform', padding=\"same\"))\n",
    "model.add(MaxPooling2D(pool_size=(2, 2)))\n",
    "model.add(Dropout(.2))\n",
    "model.add(Conv2D(128, (3, 3), activation='relu', kernel_initializer='he_uniform', padding=\"same\"))\n",
    "model.add(Conv2D(128, (3, 3), activation='relu', kernel_initializer='he_uniform', padding=\"same\"))\n",
    "model.add(MaxPooling2D(pool_size=(2, 2)))\n",
    "model.add(Dropout(.2))\n",
    "model.add(Conv2D(256, (3, 3), activation='relu', kernel_initializer='he_uniform', padding=\"same\"))\n",
    "model.add(Conv2D(256, (3, 3), activation='relu', kernel_initializer='he_uniform', padding=\"same\"))\n",
    "#model.add(Conv2D(256, (3, 3), activation='relu', kernel_initializer='he_uniform', padding=\"same\"))\n",
    "model.add(MaxPooling2D(pool_size=(2, 2)))\n",
    "model.add(Dropout(.2))\n",
    "model.add(Conv2D(512, (3, 3), activation='relu', kernel_initializer='he_uniform', padding=\"same\"))\n",
    "model.add(Conv2D(512, (3, 3), activation='relu', kernel_initializer='he_uniform', padding=\"same\"))\n",
    "#model.add(Conv2D(512, (3, 3), activation='relu', kernel_initializer='he_uniform', padding=\"same\"))\n",
    "model.add(MaxPooling2D(pool_size=(2, 2)))\n",
    "model.add(Dropout(.2))\n",
    "model.add(Flatten())\n",
    "model.add(Dense(256, activation='relu'))\n",
    "model.add(Dense(6, activation='softmax'))\n",
    "model.summary()\n",
    "model.compile(optimizer=\"adam\", loss='categorical_crossentropy', metrics=['accuracy'])"
   ]
  },
  {
   "cell_type": "code",
   "execution_count": null,
   "metadata": {},
   "outputs": [
    {
     "name": "stdout",
     "output_type": "stream",
     "text": [
      "Epoch 1/50\n",
      "220/220 [==============================] - 150s 681ms/step - loss: 1.3197 - acc: 0.4865 - val_loss: 0.9154 - val_acc: 0.6487\n",
      "Epoch 2/50\n",
      "220/220 [==============================] - 175s 797ms/step - loss: 0.8011 - acc: 0.6834 - val_loss: 0.7822 - val_acc: 0.6863\n",
      "Epoch 3/50\n",
      "220/220 [==============================] - 224s 1s/step - loss: 0.6566 - acc: 0.7437 - val_loss: 0.6040 - val_acc: 0.7690\n",
      "Epoch 4/50\n",
      "220/220 [==============================] - 177s 806ms/step - loss: 0.5533 - acc: 0.7838 - val_loss: 0.5955 - val_acc: 0.7803\n",
      "Epoch 5/50\n",
      "220/220 [==============================] - 165s 748ms/step - loss: 0.4861 - acc: 0.8174 - val_loss: 0.5738 - val_acc: 0.7923\n",
      "Epoch 6/50\n",
      "220/220 [==============================] - 166s 756ms/step - loss: 0.4467 - acc: 0.8354 - val_loss: 0.5767 - val_acc: 0.7927\n",
      "Epoch 7/50\n",
      "220/220 [==============================] - 176s 801ms/step - loss: 0.3589 - acc: 0.8652 - val_loss: 0.6356 - val_acc: 0.8070\n",
      "Epoch 8/50\n",
      "220/220 [==============================] - 129s 588ms/step - loss: 0.3055 - acc: 0.8887 - val_loss: 0.5790 - val_acc: 0.8207\n",
      "Epoch 9/50\n",
      "220/220 [==============================] - 173s 784ms/step - loss: 0.2846 - acc: 0.8930 - val_loss: 0.7349 - val_acc: 0.7913\n",
      "Epoch 10/50\n",
      "220/220 [==============================] - 136s 620ms/step - loss: 0.2383 - acc: 0.9097 - val_loss: 0.7611 - val_acc: 0.8080\n",
      "Epoch 11/50\n",
      "220/220 [==============================] - 165s 752ms/step - loss: 0.1925 - acc: 0.9289 - val_loss: 0.7983 - val_acc: 0.8050\n",
      "Epoch 12/50\n",
      "220/220 [==============================] - 160s 726ms/step - loss: 0.1797 - acc: 0.9363 - val_loss: 0.9760 - val_acc: 0.7673\n",
      "Epoch 13/50\n",
      "220/220 [==============================] - 156s 708ms/step - loss: 0.1506 - acc: 0.9451 - val_loss: 0.9112 - val_acc: 0.7950\n",
      "Epoch 14/50\n",
      "220/220 [==============================] - 146s 662ms/step - loss: 0.1365 - acc: 0.9510 - val_loss: 0.8926 - val_acc: 0.8057\n",
      "Epoch 15/50\n",
      "220/220 [==============================] - 175s 795ms/step - loss: 0.1255 - acc: 0.9556 - val_loss: 0.8851 - val_acc: 0.8017\n",
      "Epoch 16/50\n",
      "220/220 [==============================] - 189s 857ms/step - loss: 0.0963 - acc: 0.9672 - val_loss: 1.0205 - val_acc: 0.8083\n",
      "Epoch 17/50\n",
      "220/220 [==============================] - 178s 808ms/step - loss: 0.0899 - acc: 0.9696 - val_loss: 1.2237 - val_acc: 0.7840\n",
      "Epoch 18/50\n",
      "220/220 [==============================] - 184s 837ms/step - loss: 0.0939 - acc: 0.9700 - val_loss: 0.8043 - val_acc: 0.8077\n",
      "Epoch 19/50\n",
      "220/220 [==============================] - 190s 866ms/step - loss: 0.0697 - acc: 0.9762 - val_loss: 1.1438 - val_acc: 0.7977\n",
      "Epoch 20/50\n",
      "220/220 [==============================] - 178s 811ms/step - loss: 0.0706 - acc: 0.9750 - val_loss: 0.9910 - val_acc: 0.8160\n",
      "Epoch 21/50\n",
      "220/220 [==============================] - 191s 867ms/step - loss: 0.0619 - acc: 0.9792 - val_loss: 1.2698 - val_acc: 0.7817\n",
      "Epoch 22/50\n",
      "220/220 [==============================] - 178s 808ms/step - loss: 0.0940 - acc: 0.9698 - val_loss: 1.0272 - val_acc: 0.7867\n",
      "Epoch 23/50\n",
      "220/220 [==============================] - 187s 849ms/step - loss: 0.0486 - acc: 0.9844 - val_loss: 1.1112 - val_acc: 0.8057\n",
      "Epoch 24/50\n",
      "220/220 [==============================] - 282s 1s/step - loss: 0.0478 - acc: 0.9845 - val_loss: 1.2715 - val_acc: 0.8017\n",
      "Epoch 25/50\n",
      "220/220 [==============================] - 191s 870ms/step - loss: 0.0568 - acc: 0.9812 - val_loss: 1.2740 - val_acc: 0.7963\n",
      "Epoch 26/50\n",
      "220/220 [==============================] - 175s 793ms/step - loss: 0.0488 - acc: 0.9847 - val_loss: 1.2884 - val_acc: 0.7923\n",
      "Epoch 27/50\n",
      "132/220 [=================>............] - ETA: 1:05 - loss: 0.0624 - acc: 0.9802"
     ]
    }
   ],
   "source": [
    "model.fit_generator(\n",
    "        train_generator,\n",
    "        steps_per_epoch=len(train_generator),\n",
    "        epochs=50,\n",
    "        validation_data=validation_generator,\n",
    "        validation_steps=len(validation_generator),\n",
    "        verbose = 1)"
   ]
  },
  {
   "cell_type": "code",
   "execution_count": null,
   "metadata": {},
   "outputs": [],
   "source": []
  },
  {
   "cell_type": "code",
   "execution_count": null,
   "metadata": {},
   "outputs": [],
   "source": []
  }
 ],
 "metadata": {
  "kernelspec": {
   "display_name": "Python 3",
   "language": "python",
   "name": "python3"
  },
  "language_info": {
   "codemirror_mode": {
    "name": "ipython",
    "version": 3
   },
   "file_extension": ".py",
   "mimetype": "text/x-python",
   "name": "python",
   "nbconvert_exporter": "python",
   "pygments_lexer": "ipython3",
   "version": "3.7.3"
  }
 },
 "nbformat": 4,
 "nbformat_minor": 2
}
