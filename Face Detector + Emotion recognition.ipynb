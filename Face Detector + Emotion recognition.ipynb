{
 "cells": [
  {
   "cell_type": "code",
   "execution_count": 48,
   "metadata": {},
   "outputs": [],
   "source": [
    "import numpy as np\n",
    "import cv2 \n",
    "\n",
    "face_cascade = cv2.CascadeClassifier('haarcascade_frontalface_default.xml')\n"
   ]
  },
  {
   "cell_type": "code",
   "execution_count": 49,
   "metadata": {},
   "outputs": [],
   "source": [
    "from keras.models import load_model\n",
    "from keras.models import Model\n",
    "\n",
    "model = load_model('emotion_detection_model.h5')"
   ]
  },
  {
   "cell_type": "code",
   "execution_count": 50,
   "metadata": {},
   "outputs": [],
   "source": [
    "def get_emotion(em_list):\n",
    "    i = 0\n",
    "    maxim = -1\n",
    "    maxim_row = -1\n",
    "    for emotion in em_list:\n",
    "        if emotion > maxim:\n",
    "            maxim = emotion\n",
    "            maxim_row = i\n",
    "        i = i + 1\n",
    "    return maxim_row"
   ]
  },
  {
   "cell_type": "code",
   "execution_count": 62,
   "metadata": {},
   "outputs": [],
   "source": [
    "import urllib\n",
    "import numpy as np\n",
    "import time\n",
    "import ssl\n",
    "\n",
    "from keras.preprocessing.image import img_to_array\n",
    "\n",
    "# Replace the URL with your own IPwebcam shot.jpg IP:port\n",
    "urlNeeded = 'https://192.168.1.2:8080//shot.jpg'\n",
    "context = ssl._create_unverified_context()\n",
    "EMOTIONS = [\"angry\" ,\"disgust\",\"scared\", \"happy\", \"sad\", \"surprised\",\n",
    " \"neutral\"]\n",
    "\n",
    "while True:\n",
    "    \n",
    "    with urllib.request.urlopen(urlNeeded,context=context) as url:\n",
    "        s = url.read()\n",
    "        imgNp=np.array(bytearray(s),dtype=np.uint8)\n",
    "        img=cv2.imdecode(imgNp,-1)\n",
    "        gray = cv2.cvtColor(img, cv2.COLOR_BGR2GRAY)\n",
    "        faces = face_cascade.detectMultiScale(gray, 1.3, 5)\n",
    "        for (x,y,w,h) in faces:\n",
    "            cv2.rectangle(img,(x,y),(x+w,y+h),(255,0,0),2)\n",
    "            crop_face = img[y:y+h, x:x+w]\n",
    "            gray_crop_face = cv2.cvtColor(crop_face, cv2.COLOR_BGR2GRAY)\n",
    "            gray_crop_face = cv2.resize(gray_crop_face,(48,48))\n",
    "            gray_crop_face = gray_crop_face.astype(\"float\") / 255.0\n",
    "            gray_crop_face = img_to_array(gray_crop_face)\n",
    "            gray_crop_face = np.expand_dims(gray_crop_face, axis=0)\n",
    "            emotions = model.predict([gray_crop_face,])\n",
    "            emotions = emotions.flatten()\n",
    "            emotion = np.argmax(emotions)\n",
    "            cv2.putText(img,EMOTIONS[emotion],(0,700), cv2.FONT_HERSHEY_SIMPLEX, 4,(100,35,200),1,cv2.LINE_AA)\n",
    "        # put the image on screen\n",
    "        cv2.imshow('IPWebcam',img)\n",
    "\n",
    "    #To give the processor some less stress\n",
    "    #time.sleep(0.1) \n",
    "\n",
    "    if cv2.waitKey(1) & 0xFF == ord('q'):\n",
    "        cv2.destroyAllWindows()\n",
    "        break"
   ]
  },
  {
   "cell_type": "code",
   "execution_count": null,
   "metadata": {},
   "outputs": [],
   "source": []
  },
  {
   "cell_type": "code",
   "execution_count": null,
   "metadata": {},
   "outputs": [],
   "source": []
  }
 ],
 "metadata": {
  "kernelspec": {
   "display_name": "Python 3",
   "language": "python",
   "name": "python3"
  },
  "language_info": {
   "codemirror_mode": {
    "name": "ipython",
    "version": 3
   },
   "file_extension": ".py",
   "mimetype": "text/x-python",
   "name": "python",
   "nbconvert_exporter": "python",
   "pygments_lexer": "ipython3",
   "version": "3.7.3"
  }
 },
 "nbformat": 4,
 "nbformat_minor": 2
}
