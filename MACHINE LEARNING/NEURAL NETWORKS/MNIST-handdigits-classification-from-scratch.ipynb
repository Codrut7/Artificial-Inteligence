{
 "cells": [
  {
   "cell_type": "code",
   "execution_count": 1,
   "metadata": {},
   "outputs": [],
   "source": [
    "import numpy as np\n",
    "import tensorflow as tf"
   ]
  },
  {
   "cell_type": "code",
   "execution_count": 2,
   "metadata": {},
   "outputs": [],
   "source": [
    "(x_train, y_train), (x_test, y_test) = tf.keras.datasets.mnist.load_data()"
   ]
  },
  {
   "cell_type": "code",
   "execution_count": 3,
   "metadata": {},
   "outputs": [],
   "source": [
    "# Normalize the input \n",
    "x_train = x_train / 255\n",
    "x_test = x_test / 255\n",
    "# Reshape the input\n",
    "x_train = np.reshape(x_train, (len(x_train), 784))\n",
    "x_test = np.reshape(x_test, (len(x_test), 784))"
   ]
  },
  {
   "cell_type": "code",
   "execution_count": null,
   "metadata": {},
   "outputs": [
    {
     "name": "stderr",
     "output_type": "stream",
     "text": [
      "Using TensorFlow backend.\n"
     ]
    }
   ],
   "source": [
    "# Reshape the output\n",
    "from keras.utils import np_utils\n",
    "y_train = np_utils.to_categorical(y_train, num_classes=10)\n",
    "y_test = np_utils.to_categorical(y_test, num_classes=10)"
   ]
  },
  {
   "cell_type": "code",
   "execution_count": null,
   "metadata": {},
   "outputs": [],
   "source": [
    "def sigmoid(x):\n",
    "    return 1 / (1 + np.exp(-x))\n",
    "def d_sigmoid(x):\n",
    "    return sigmoid(x) * (1 - sigmoid(x))\n",
    "def logistic_loss(y,y_hat):\n",
    "    return -np.mean(y * np.log(y_hat) + (1-y) * np.log(1-y_hat))"
   ]
  },
  {
   "cell_type": "code",
   "execution_count": null,
   "metadata": {},
   "outputs": [],
   "source": [
    "def learn():\n",
    "    learning_rate = 0.001\n",
    "    iterations = 10000\n",
    "    w1 = np.random.randn(784, 15)\n",
    "    w2 = np.random.randn(15, 10)\n",
    "    for i in range(iterations):\n",
    "        # Forward propagation\n",
    "        z1 = np.dot(x_train, w1)\n",
    "        a1 = sigmoid(z1)\n",
    "        z2 = np.dot(a1, w2)\n",
    "        a2 = sigmoid(z2)\n",
    "        error = np.sum((a2 - y_train) * (a2 - y_train))\n",
    "        # Backward propagation\n",
    "        derror_dpred = a2 - y_train\n",
    "        da2_dz2 = d_sigmoid(z2)\n",
    "        dz2_dw2 = a1\n",
    "        derror_dw2 = np.dot(dz2_dw2.T, derror_dpred * da2_dz2)\n",
    "        dz2_da1 = w2\n",
    "        da1_dz1 = d_sigmoid(z1)\n",
    "        dz1_dw1 = x_train.T\n",
    "        derror_dw1 = np.dot(dz1_dw1, np.dot(derror_dpred * da2_dz2, dz2_da1.T) * da1_dz1)\n",
    "        # Change weights\n",
    "        w2 -= learning_rate * derror_dw2\n",
    "        w1 -= learning_rate * derror_dw1\n",
    "        if i % 100 == 0:\n",
    "            print(error)\n",
    "    return w1,w2"
   ]
  },
  {
   "cell_type": "code",
   "execution_count": null,
   "metadata": {},
   "outputs": [
    {
     "name": "stdout",
     "output_type": "stream",
     "text": [
      "281557.4078739804\n",
      "54226.957502311045\n",
      "44889.75079720376\n"
     ]
    }
   ],
   "source": [
    "w1, w2 = learn()"
   ]
  },
  {
   "cell_type": "code",
   "execution_count": null,
   "metadata": {},
   "outputs": [],
   "source": [
    "y_predict = sigmoid(np.dot(sigmoid(np.dot(x_test,w1)),w2))"
   ]
  },
  {
   "cell_type": "code",
   "execution_count": null,
   "metadata": {},
   "outputs": [],
   "source": [
    "np.set_printoptions(threshold=np.inf)\n",
    "print(y_predict)"
   ]
  },
  {
   "cell_type": "code",
   "execution_count": null,
   "metadata": {},
   "outputs": [],
   "source": []
  }
 ],
 "metadata": {
  "kernelspec": {
   "display_name": "Python 3",
   "language": "python",
   "name": "python3"
  },
  "language_info": {
   "codemirror_mode": {
    "name": "ipython",
    "version": 3
   },
   "file_extension": ".py",
   "mimetype": "text/x-python",
   "name": "python",
   "nbconvert_exporter": "python",
   "pygments_lexer": "ipython3",
   "version": "3.7.3"
  }
 },
 "nbformat": 4,
 "nbformat_minor": 2
}
