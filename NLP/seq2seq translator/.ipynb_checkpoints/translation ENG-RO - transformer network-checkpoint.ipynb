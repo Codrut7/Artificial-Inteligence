{
 "cells": [
  {
   "cell_type": "code",
   "execution_count": 1,
   "metadata": {},
   "outputs": [
    {
     "data": {
      "text/plain": [
       "device(type='cuda')"
      ]
     },
     "execution_count": 1,
     "metadata": {},
     "output_type": "execute_result"
    }
   ],
   "source": [
    "import torch.nn as nn\n",
    "import numpy as np\n",
    "import torch\n",
    "import unicodedata\n",
    "import string\n",
    "from torch import optim\n",
    "import torch.nn.functional as F\n",
    "from tqdm import tqdm_notebook\n",
    "import re\n",
    "\n",
    "device = torch.device(\"cuda\")\n",
    "device"
   ]
  },
  {
   "cell_type": "code",
   "execution_count": 2,
   "metadata": {},
   "outputs": [],
   "source": [
    "class SelfAttention(nn.Module):\n",
    "    def __init__(self, embed_size, heads):\n",
    "        super(SelfAttention, self).__init__()\n",
    "        # Embedding size of the input.\n",
    "        self.embed_size = embed_size\n",
    "        # Each attention is processed in paralel *heads* times.\n",
    "        # The embedded input size is / nr heads\n",
    "        self.heads = heads\n",
    "        self.heads_dim = embed_size // heads\n",
    "        \n",
    "        assert (self.heads_dim * heads == embed_size), \"Embedding size not divisible by heads\"\n",
    "        \n",
    "        self.values = nn.Linear(self.heads_dim, self.heads_dim, bias=False) # V * Wv\n",
    "        self.keys = nn.Linear(self.heads_dim, self.heads_dim, bias=False) # K * Wk\n",
    "        self.queries = nn.Linear(self.heads_dim, self.heads_dim, bias=False) # Q * Wq\n",
    "        \n",
    "        self.fc_out = nn.Linear(heads * self.heads_dim, self.embed_size) # Concatinare rez finale\n",
    "        \n",
    "    def forward(self, values, keys, query, mask):\n",
    "        # self attention can be used in decoder or encoder -> variable size for emb size\n",
    "        # batch size of the input\n",
    "        N = query.shape[0]\n",
    "        \n",
    "        # Get the sentence size for value, key, query\n",
    "        value_len, key_len, query_len = values.shape[1], keys.shape[1], query.shape[1]\n",
    "        \n",
    "        # Split the embedding size into the self.heads pieces\n",
    "        values = values.reshape(N, value_len, self.heads, self.heads_dim)\n",
    "        keys = keys.reshape(N, key_len, self.heads, self.heads_dim)\n",
    "        query = query.reshape(N, query_len, self.heads, self.heads_dim)\n",
    "        \n",
    "        values = self.values(values)\n",
    "        keys = self.keys(keys)\n",
    "        query = self.queries(query)\n",
    "        \n",
    "        # query represents the last hidden state\n",
    "        score = torch.einsum(\"nqhd,nkhd->nhqk\", [query, keys])\n",
    "        # queries shape : (N, query_len, heads, heads_dim)\n",
    "        # keys shape : (N, key_len, heads, heads_dim)\n",
    "        # score : (N, heads, query_len, key_len) -> pentru fiecare cuvant din query ce scor sa dam raportat la fiecare cuvant din inp\n",
    "        \n",
    "        if mask is not None:\n",
    "            # mask is used in the encoder section to padd the EOS tokens\n",
    "            # in the decoder section is used to not peak the future values in the context of paralelism\n",
    "            score = score.masked_fill(mask == 0, float(\"-1e20\")) \n",
    "        \n",
    "        attention = torch.softmax(score / (self.embed_size ** (1/2)), dim=3) # normalize the key_len\n",
    "        \n",
    "        out = torch.einsum(\"nhql,nlhd->nqhd\", [attention, values]).reshape(N, query_len, self.heads * self.heads_dim)\n",
    "        # multiply the attention score (key_len) with the embedded input(value_len)\n",
    "        # attention shape : (N, heads, query_len, key_len)\n",
    "        # values shape : (N, value_len, heads, heads_dim)\n",
    "        # (N, query_len, heads, head_dim)\n",
    "        \n",
    "        out = self.fc_out(out)\n",
    "        \n",
    "        return out\n",
    "    "
   ]
  },
  {
   "cell_type": "code",
   "execution_count": 3,
   "metadata": {},
   "outputs": [],
   "source": [
    "class TransformerBlock(nn.Module):\n",
    "    def __init__(self, embed_size, heads, dropout, forward_expansion):\n",
    "        super(TransformerBlock, self).__init__()\n",
    "        self.attention = SelfAttention(embed_size, heads)\n",
    "        self.norm1 = nn.LayerNorm(embed_size) # batchnorm average for each example and normalize\n",
    "        self.norm2 = nn.LayerNorm(embed_size)\n",
    "        \n",
    "        self.feed_forward = nn.Sequential(\n",
    "                nn.Linear(embed_size, forward_expansion * embed_size),\n",
    "                nn.ReLU(),\n",
    "                nn.Linear(forward_expansion * embed_size, embed_size)\n",
    "        )\n",
    "        \n",
    "        self.dropout = nn.Dropout(dropout)\n",
    "        \n",
    "        \n",
    "    def forward(self, value, key, query, mask):\n",
    "        attention = self.attention(value, key, query, mask)\n",
    "        \n",
    "        # Skip connection the query after the attention \n",
    "        x = self.dropout(self.norm1(attention + query))\n",
    "        forward = self.feed_forward(x)\n",
    "        out = self.dropout(self.norm2(forward + x))\n",
    "        \n",
    "        return out"
   ]
  },
  {
   "cell_type": "code",
   "execution_count": 4,
   "metadata": {},
   "outputs": [],
   "source": [
    "class Encoder(nn.Module):\n",
    "    def __init__(self, src_vocab_size, embed_size, num_layers, heads, device, forward_expasnion, dropout, max_length):\n",
    "        super(Encoder, self).__init__()\n",
    "        self.embed_size = embed_size\n",
    "        self.device = device\n",
    "        \n",
    "        self.word_embedding = nn.Embedding(src_vocab_size, embed_size)\n",
    "        self.position_embedding = nn.Embedding(max_length, embed_size)\n",
    "        \n",
    "        self.layers = nn.ModuleList(\n",
    "            [\n",
    "                TransformerBlock(embed_size, heads, dropout=dropout, forward_expansion= forward_expasnion)\n",
    "            for _ in range(num_layers)] \n",
    "        )\n",
    "        self.dropout = nn.Dropout(dropout)\n",
    "        \n",
    "    def forward(self, x, mask):\n",
    "        # N number of batches\n",
    "        # sequence length for the sentence of each batch\n",
    "        N, seq_length = x.shape\n",
    "        \n",
    "        # Define each position for the sentence (0, 1, .. seq_length) and expand it to the number of batches\n",
    "        positions = torch.arange(0, seq_length).expand(N, seq_length).to(self.device)\n",
    "        \n",
    "        # Embedd the permutation of words \n",
    "        # Embedd the words\n",
    "        # Add the embedded space of the words with the embedded space of the permutation of those words\n",
    "        out = self.dropout(self.word_embedding(x) + self.position_embedding(positions))\n",
    "        \n",
    "        for layer in self.layers:\n",
    "            out = layer(out, out, out, mask)\n",
    "            \n",
    "        return out"
   ]
  },
  {
   "cell_type": "code",
   "execution_count": 5,
   "metadata": {},
   "outputs": [],
   "source": [
    "class DecoderBlock(nn.Module):\n",
    "    def __init__(self, embed_size, heads, forward_expansion, dropout, device):\n",
    "        super(DecoderBlock, self).__init__()\n",
    "        self.attention = SelfAttention(embed_size, heads)\n",
    "        self.norm = nn.LayerNorm(embed_size)\n",
    "        self.transformer_block = TransformerBlock(embed_size, heads, dropout, forward_expansion)\n",
    "        self.dropout = nn.Dropout(dropout)\n",
    "    \n",
    "    def forward(self, x, value, key, src_mask, trg_mask):\n",
    "        attention = self.attention(x, x, x, trg_mask)\n",
    "        query = self.dropout(self.norm(attention + x))\n",
    "        out = self.transformer_block(value, key, query, src_mask)\n",
    "        \n",
    "        return out"
   ]
  },
  {
   "cell_type": "code",
   "execution_count": 6,
   "metadata": {},
   "outputs": [],
   "source": [
    "class Decoder(nn.Module):\n",
    "    def __init__(self, trg_vocab_size, embed_size, num_layers, heads, forward_expansion, dropout, device, max_length):\n",
    "        super(Decoder, self).__init__()\n",
    "        \n",
    "        self.device = device\n",
    "        self.word_embedding = nn.Embedding(trg_vocab_size, embed_size)\n",
    "        self.position_embedding = nn.Embedding(max_length, embed_size)\n",
    "        \n",
    "        self.layers = nn.ModuleList(\n",
    "            [DecoderBlock(embed_size, heads, forward_expansion, dropout, device) for _ in range(num_layers)]\n",
    "        )\n",
    "        \n",
    "        self.fc_out = nn.Linear(embed_size, trg_vocab_size)\n",
    "        self.dropout = nn.Dropout(dropout)\n",
    "        \n",
    "    def forward(self, x, enc_out, src_mask, trg_mask):\n",
    "        N, seq_length = x.shape\n",
    "        positions = torch.arange(0, seq_length).expand(N, seq_length).to(self.device)\n",
    "        x = self.dropout((self.word_embedding(x)+ self.position_embedding(positions)))\n",
    "    \n",
    "        # x is the last output / hidden layer of the decoder\n",
    "        for layer in self.layers:\n",
    "            x = layer(x, enc_out, enc_out, src_mask, trg_mask)\n",
    "        \n",
    "        out = self.fc_out(x)\n",
    "        \n",
    "        return out"
   ]
  },
  {
   "cell_type": "code",
   "execution_count": 7,
   "metadata": {},
   "outputs": [],
   "source": [
    "class Transformer(nn.Module):\n",
    "    def __init__(\n",
    "        self,\n",
    "        src_vocab_size,\n",
    "        trg_vocab_size,\n",
    "        src_pad_idx,\n",
    "        trg_pad_idx,\n",
    "        embed_size = 512,\n",
    "        num_layers = 3,\n",
    "        forward_expansion = 4,\n",
    "        heads = 8,\n",
    "        dropout = 0.10,\n",
    "        device = 'cuda',\n",
    "        max_length = 100):\n",
    "        super(Transformer, self).__init__()\n",
    "\n",
    "        self.encoder = Encoder(src_vocab_size, embed_size, num_layers, heads, device, forward_expansion, dropout, max_length)\n",
    "        self.decoder = Decoder(trg_vocab_size, embed_size, num_layers, heads, forward_expansion, dropout, device, max_length)\n",
    "\n",
    "        self.src_pad_idx = src_pad_idx\n",
    "        self.trg_pad_idx = trg_pad_idx\n",
    "        self.device = device\n",
    "    \n",
    "    def make_src_mask(self, src):\n",
    "        src_mask = (src != self.src_pad_idx).unsqueeze(1).unsqueeze(2)\n",
    "        # (N, 1, 1, src_len)\n",
    "        # We dont want the padding tokens to affect the loss\n",
    "        return src_mask.to(self.device)\n",
    "    \n",
    "    def make_trg_mask(self, trg):\n",
    "        N, trg_len = trg.shape\n",
    "        # make a [seq_length, seq_length] matrix a 0 triangle \n",
    "        # [1, 0, 0]\n",
    "        # [1, 1, 0]\n",
    "        # [1, 1, 1]\n",
    "        trg_mask = torch.tril(torch.ones((trg_len, trg_len))).expand(N, 1, trg_len, trg_len)\n",
    "        return trg_mask.to(self.device)\n",
    "    \n",
    "    def forward(self, src, trg):\n",
    "        src_mask = self.make_src_mask(src)\n",
    "        trg_mask = self.make_trg_mask(trg)\n",
    "        \n",
    "        enc_src = self.encoder(src, src_mask)\n",
    "        out = self.decoder(trg, enc_src, src_mask, trg_mask)\n",
    "        # SOFTMAX is performed by the loss function :D\n",
    "        \n",
    "        return out"
   ]
  },
  {
   "cell_type": "code",
   "execution_count": 8,
   "metadata": {},
   "outputs": [
    {
     "data": {
      "text/plain": [
       "tensor([1, 3, 2], device='cuda:0')"
      ]
     },
     "execution_count": 8,
     "metadata": {},
     "output_type": "execute_result"
    }
   ],
   "source": [
    "class Util():\n",
    "    \"\"\"\n",
    "        Util class used in order to load the training text.\n",
    "       The text is loaded from a file.\n",
    "    \"\"\"\n",
    "    \n",
    "    def __init__(self, file_path, max_len):\n",
    "        # Max len\n",
    "        self.max_len = max_len\n",
    "        # tuple of sentence -> target\n",
    "        self.data, self.test = self.read_file(file_path)\n",
    "        # Data dictionary english\n",
    "        self.word_2_index_in, self.word_2_index_out, self.index_2_word_in, self.index_2_word_out = self.create_dictionary(self.data, self.test)\n",
    "  \n",
    "        \n",
    "    # Turn a Unicode string to plain ASCII, thanks to\n",
    "    # https://stackoverflow.com/a/518232/2809427\n",
    "    def unicodeToAscii(self, s):\n",
    "        return ''.join(\n",
    "            c for c in unicodedata.normalize('NFD', s)\n",
    "            if unicodedata.category(c) != 'Mn'\n",
    "        )\n",
    "    \n",
    "    def read_file(self, file_path):\n",
    "        \"\"\" \n",
    "            Read the training data file and append the sentence -> target\n",
    "            to the data array.\n",
    "        \"\"\"\n",
    "        \n",
    "        f = open(file_path, \"r\",encoding='utf-8')\n",
    "        lines = f.readlines()\n",
    "        data = []\n",
    "        test = []\n",
    "        \n",
    "        for i, line in enumerate(lines):\n",
    "            line = line.split('\\t')[0:2]\n",
    "\n",
    "            sentence = line[0]\n",
    "            sentence = sentence.split(' ') # split into words\n",
    "            sentence = [word.lower() for word in sentence] # make all the words lowercase\n",
    "            sentence = [word.translate(str.maketrans('', '', string.punctuation)) for word in sentence]\n",
    "            # convert characters to asci and remove non letters\n",
    "            sentence = [self.unicodeToAscii(word.strip()) for word in sentence]\n",
    "            sentence = [re.sub(r\"([.!?}{])\", r\" \\1\", word) for word in sentence]\n",
    "            sentence = [re.sub(r\"[^a-zA-Z.!?}{]+\", r\"\", word) for word in sentence]\n",
    "\n",
    "            target = line[1]\n",
    "            target = target.split(' ') # split into words\n",
    "            target = [word.lower() for word in target] # make all the words lowercase\n",
    "            target = [word.translate(str.maketrans('', '', string.punctuation)) for word in target]\n",
    "            # convert characters to asci and remove non letters\n",
    "            target = [self.unicodeToAscii(word.strip()) for word in target]\n",
    "            target = [re.sub(r\"([.!?}{])\", r\" \\1\", word) for word in target]\n",
    "            target = [re.sub(r\"[^a-zA-Z.!?}{]+\", r\"\", word) for word in target]\n",
    "            \n",
    "            data.append((sentence,target))\n",
    "            \n",
    "        return data, test\n",
    "    \n",
    "    def create_dictionary(self, data, test):\n",
    "        \"\"\" \n",
    "            Iterate over each sentence in the data and add the characters\n",
    "            to the dictionary used. Based on it create an inverse dictionary\n",
    "            that maps the numbers to character.\n",
    "        \"\"\"\n",
    "        word_2_index_in = {}\n",
    "        word_2_index_out = {}\n",
    "        index_2_word_in = {}\n",
    "        index_2_word_out = {}\n",
    "        \n",
    "        word_2_index_in['PAD'] = 0\n",
    "        word_2_index_in[\"SOS\"] = 1\n",
    "        word_2_index_in[\"EOS\"] = 2\n",
    "        \n",
    "        index_2_word_in[0] = 'PAD'\n",
    "        index_2_word_in[1] = \"SOS\"\n",
    "        index_2_word_in[2] = \"EOS\"\n",
    "        \n",
    "        index_2_word_out[0] = 'PAD'\n",
    "        index_2_word_out[1] = \"SOS\"\n",
    "        index_2_word_out[2] = \"EOS\"\n",
    "        \n",
    "        word_2_index_out['PAD'] = 0\n",
    "        word_2_index_out[\"SOS\"] = 1\n",
    "        word_2_index_out[\"EOS\"] = 2\n",
    "        \n",
    "        for sentence, target in data:\n",
    "            for word in sentence:\n",
    "                    if word not in word_2_index_in:\n",
    "                        word_2_index_in[word] = len(word_2_index_in)\n",
    "                        index_2_word_in[len(index_2_word_in)] = word\n",
    "                        \n",
    "            for word in target:\n",
    "                    if word not in word_2_index_out:\n",
    "                        word_2_index_out[word] = len(word_2_index_out)\n",
    "                        index_2_word_out[len(index_2_word_out)] = word\n",
    "        \n",
    "        for sentence, target in test:\n",
    "            for word in sentence:\n",
    "                    if word not in word_2_index_in:\n",
    "                        word_2_index_in[word] = len(word_2_index_in)\n",
    "                        index_2_word_in[len(index_2_word_in)] = word\n",
    "                        \n",
    "            for word in target:\n",
    "                    if word not in word_2_index_out:\n",
    "                        word_2_index_out[word] = len(word_2_index_out)\n",
    "                        index_2_word_out[len(index_2_word_out)] = word\n",
    "        \n",
    "        return word_2_index_in, word_2_index_out, index_2_word_in, index_2_word_out\n",
    "    \n",
    "    def get_values_input(self, inp):\n",
    "        \"\"\"\n",
    "            Get a normal sentence and transform it to a tensor of dictionary values.\n",
    "        \"\"\"\n",
    "        \n",
    "        input_tensor = [self.word_2_index_in[word] for word in inp]\n",
    "        input_tensor.insert(0, 1)\n",
    "        input_tensor.append(2)\n",
    "        \n",
    "        return torch.LongTensor(input_tensor).to(device)\n",
    "    \n",
    "    def get_values_out(self, out):\n",
    "        \"\"\"\n",
    "            Get a normal sentence and transform it to a tensor of dictionary values.\n",
    "        \"\"\"\n",
    "        output_tensor = [self.word_2_index_out[word] for word in out]\n",
    "        output_tensor.insert(0, 1)\n",
    "        output_tensor.append(2)\n",
    "        \n",
    "        return torch.LongTensor(output_tensor).to(device)\n",
    "    \n",
    "util = Util(\"RO-ENG.txt\", 65)\n",
    "util.get_values_input(util.data[0][0])"
   ]
  },
  {
   "cell_type": "code",
   "execution_count": 9,
   "metadata": {},
   "outputs": [],
   "source": [
    "# Define the encoder and decoder architecture\n",
    "src_pad_idx = 0\n",
    "trg_pad_idx = 0\n",
    "src_vocab_size = len(util.word_2_index_in)\n",
    "trg_vocab_size = len(util.word_2_index_out)\n",
    "model = Transformer(src_vocab_size, trg_vocab_size, src_pad_idx, trg_pad_idx).to(\n",
    "    device\n",
    ").to(device)\n",
    "# Define optimizers for each architecture used\n",
    "transformer_optimizer = optim.Adam(model.parameters(), lr=0.0001, betas=(0.9, 0.98), eps=1e-9)\n",
    "\n",
    "# Define a criterion to calculate the error\n",
    "criterion = nn.CrossEntropyLoss(ignore_index=0)"
   ]
  },
  {
   "cell_type": "code",
   "execution_count": 10,
   "metadata": {},
   "outputs": [],
   "source": [
    "def learn(input_tensor, target_tensor):\n",
    "    \"\"\"\n",
    "        Method used to iterate and train over one sentence.\n",
    "    \"\"\"\n",
    "    \n",
    "    loss = 0\n",
    "    transformer_optimizer.zero_grad()\n",
    "    \n",
    "    out = model(input_tensor, target_tensor[:, :-1])\n",
    "    \n",
    "    # Expected shape of criterion is (N, softmax_values) for output and (N) for target\n",
    "    # For the predicted values flatten the batch size and the nr words\n",
    "    out = out.reshape(-1, out.shape[2])\n",
    "    \n",
    "    target_tensor = target_tensor[:, 1:].reshape(-1)\n",
    "    #out = out[:len(out)-1]\n",
    "    \n",
    "    loss += criterion(out, target_tensor)\n",
    "    loss.backward()\n",
    "    \n",
    "    # Clip to avoid exploding gradient issues, makes sure grads are\n",
    "    # within a healthy range\n",
    "    torch.nn.utils.clip_grad_norm_(model.parameters(), max_norm=1)\n",
    "    \n",
    "    \n",
    "    # Gradient descent step\n",
    "    transformer_optimizer.step()\n",
    "    \n",
    "    return loss.item()\n"
   ]
  },
  {
   "cell_type": "code",
   "execution_count": 174,
   "metadata": {},
   "outputs": [
    {
     "name": "stdout",
     "output_type": "stream",
     "text": [
      "['SOS', 'im', 'sad', 'EOS']\n",
      "['SOS', 'sunt', 'trist', 'EOS']\n",
      "---\n",
      "['SOS', 'youre', 'old', 'EOS']\n",
      "['SOS', 'esti', 'in', 'varsta', 'esti']\n",
      "---\n",
      "['SOS', 'a', 'nerd', 'is', 'you', 'EOS']\n",
      "['SOS', 'este', 'un', 'tocilar', 'EOS']\n",
      "---\n"
     ]
    }
   ],
   "source": [
    "def test_sentence():\n",
    "    inpts = [torch.tensor([1, 34, 36, 2]).to(device)\n",
    "          , torch.tensor([1, 161, 162, 2]).to(device)\n",
    "          , torch.tensor([1, 169, 170, 78, 72,2]).to(device)\n",
    "          ]\n",
    "    \n",
    "    for inp in inpts:\n",
    "        inp_words = [util.index_2_word_in[i.item()] for i in inp]\n",
    "\n",
    "        print(inp_words)\n",
    "        target = [1]\n",
    "        with torch.no_grad():\n",
    "            for i in range(len(inp)):\n",
    "                trg_tensor = torch.LongTensor(target).view(1, -1).to(device)\n",
    "                prediction = model(inp.view(1, -1), trg_tensor)\n",
    "                topv, topi = prediction[0][i].topk(1)\n",
    "                target.append(topi.item())\n",
    "                if topi.item() == 2:\n",
    "                    break\n",
    "        target_words = [util.index_2_word_out[i] for i in target]\n",
    "        print(target_words)\n",
    "        print('---')\n",
    "    \n",
    "test_sentence()"
   ]
  },
  {
   "cell_type": "code",
   "execution_count": null,
   "metadata": {},
   "outputs": [
    {
     "name": "stderr",
     "output_type": "stream",
     "text": [
      "C:\\Users\\Cordu\\Anaconda3\\lib\\site-packages\\ipykernel_launcher.py:6: TqdmDeprecationWarning: This function will be removed in tqdm==5.0.0\n",
      "Please use `tqdm.notebook.tqdm` instead of `tqdm.tqdm_notebook`\n",
      "  \n"
     ]
    },
    {
     "data": {
      "application/vnd.jupyter.widget-view+json": {
       "model_id": "ad2cd890248145c2be7f7b1e23057814",
       "version_major": 2,
       "version_minor": 0
      },
      "text/plain": [
       "HBox(children=(FloatProgress(value=0.0, max=173.0), HTML(value='')))"
      ]
     },
     "metadata": {},
     "output_type": "display_data"
    },
    {
     "name": "stdout",
     "output_type": "stream",
     "text": [
      "\n",
      "['SOS', 'im', 'sad', 'EOS']\n",
      "['SOS', 'sunt', 'trist', 'EOS']\n",
      "---\n",
      "['SOS', 'youre', 'old', 'EOS']\n",
      "['SOS', 'esti', 'in', 'varsta', 'esti']\n",
      "---\n",
      "['SOS', 'a', 'nerd', 'is', 'you', 'EOS']\n",
      "['SOS', 'voi', 'este', 'bolnav', 'EOS']\n",
      "---\n",
      "16.309984732419252\n"
     ]
    },
    {
     "data": {
      "application/vnd.jupyter.widget-view+json": {
       "model_id": "9091a2237f0942c58014678baaf21534",
       "version_major": 2,
       "version_minor": 0
      },
      "text/plain": [
       "HBox(children=(FloatProgress(value=0.0, max=173.0), HTML(value='')))"
      ]
     },
     "metadata": {},
     "output_type": "display_data"
    },
    {
     "name": "stdout",
     "output_type": "stream",
     "text": [
      "\n",
      "['SOS', 'im', 'sad', 'EOS']\n",
      "['SOS', 'sunt', 'trist', 'EOS']\n",
      "---\n",
      "['SOS', 'youre', 'old', 'EOS']\n",
      "['SOS', 'esti', 'in', 'varsta', 'esti']\n",
      "---\n",
      "['SOS', 'a', 'nerd', 'is', 'you', 'EOS']\n",
      "['SOS', 'voi', 'pierde', 'EOS']\n",
      "---\n",
      "16.230968087911606\n"
     ]
    },
    {
     "data": {
      "application/vnd.jupyter.widget-view+json": {
       "model_id": "d7489b7038174392be86587af6ea116d",
       "version_major": 2,
       "version_minor": 0
      },
      "text/plain": [
       "HBox(children=(FloatProgress(value=0.0, max=173.0), HTML(value='')))"
      ]
     },
     "metadata": {},
     "output_type": "display_data"
    },
    {
     "name": "stdout",
     "output_type": "stream",
     "text": [
      "\n",
      "['SOS', 'im', 'sad', 'EOS']\n",
      "['SOS', 'sunt', 'trist', 'EOS']\n",
      "---\n",
      "['SOS', 'youre', 'old', 'EOS']\n",
      "['SOS', 'esti', 'in', 'varsta', 'esti']\n",
      "---\n",
      "['SOS', 'a', 'nerd', 'is', 'you', 'EOS']\n",
      "['SOS', 'vorbeste', 'cu', 'bolnav', 'EOS']\n",
      "---\n",
      "16.260272720828652\n"
     ]
    },
    {
     "data": {
      "application/vnd.jupyter.widget-view+json": {
       "model_id": "047bf717b48947e2b6894776710821b4",
       "version_major": 2,
       "version_minor": 0
      },
      "text/plain": [
       "HBox(children=(FloatProgress(value=0.0, max=173.0), HTML(value='')))"
      ]
     },
     "metadata": {},
     "output_type": "display_data"
    },
    {
     "name": "stdout",
     "output_type": "stream",
     "text": [
      "\n",
      "['SOS', 'im', 'sad', 'EOS']\n",
      "['SOS', 'sunt', 'trist', 'EOS']\n",
      "---\n",
      "['SOS', 'youre', 'old', 'EOS']\n",
      "['SOS', 'esti', 'in', 'varsta', 'esti']\n",
      "---\n",
      "['SOS', 'a', 'nerd', 'is', 'you', 'EOS']\n",
      "['SOS', 'este', 'un', 'tocilar', 'EOS']\n",
      "---\n",
      "16.23136466369033\n"
     ]
    },
    {
     "data": {
      "application/vnd.jupyter.widget-view+json": {
       "model_id": "1617a4a57dad4ad89637377e2c5797e3",
       "version_major": 2,
       "version_minor": 0
      },
      "text/plain": [
       "HBox(children=(FloatProgress(value=0.0, max=173.0), HTML(value='')))"
      ]
     },
     "metadata": {},
     "output_type": "display_data"
    },
    {
     "name": "stdout",
     "output_type": "stream",
     "text": [
      "\n",
      "['SOS', 'im', 'sad', 'EOS']\n",
      "['SOS', 'sunt', 'trist', 'EOS']\n",
      "---\n",
      "['SOS', 'youre', 'old', 'EOS']\n",
      "['SOS', 'esti', 'in', 'varsta', 'esti']\n",
      "---\n",
      "['SOS', 'a', 'nerd', 'is', 'you', 'EOS']\n",
      "['SOS', 'este', 'un', 'tocilar', 'EOS']\n",
      "---\n",
      "16.275952491909266\n"
     ]
    },
    {
     "data": {
      "application/vnd.jupyter.widget-view+json": {
       "model_id": "8573409fadbc45588d2f851c31b7394d",
       "version_major": 2,
       "version_minor": 0
      },
      "text/plain": [
       "HBox(children=(FloatProgress(value=0.0, max=173.0), HTML(value='')))"
      ]
     },
     "metadata": {},
     "output_type": "display_data"
    },
    {
     "name": "stdout",
     "output_type": "stream",
     "text": [
      "\n",
      "['SOS', 'im', 'sad', 'EOS']\n",
      "['SOS', 'sunt', 'trist', 'EOS']\n",
      "---\n",
      "['SOS', 'youre', 'old', 'EOS']\n",
      "['SOS', 'esti', 'in', 'varsta', 'esti']\n",
      "---\n",
      "['SOS', 'a', 'nerd', 'is', 'you', 'EOS']\n",
      "['SOS', 'tom', 'este', 'bolnav', 'EOS']\n",
      "---\n",
      "16.249196257442236\n"
     ]
    },
    {
     "data": {
      "application/vnd.jupyter.widget-view+json": {
       "model_id": "2217970ae5564f349db9700a9d21996c",
       "version_major": 2,
       "version_minor": 0
      },
      "text/plain": [
       "HBox(children=(FloatProgress(value=0.0, max=173.0), HTML(value='')))"
      ]
     },
     "metadata": {},
     "output_type": "display_data"
    },
    {
     "name": "stdout",
     "output_type": "stream",
     "text": [
      "\n",
      "['SOS', 'im', 'sad', 'EOS']\n",
      "['SOS', 'sunt', 'trist', 'EOS']\n",
      "---\n",
      "['SOS', 'youre', 'old', 'EOS']\n",
      "['SOS', 'esti', 'in', 'varsta', 'esti']\n",
      "---\n",
      "['SOS', 'a', 'nerd', 'is', 'you', 'EOS']\n",
      "['SOS', 'cine', 'este', 'bolnav', 'EOS']\n",
      "---\n",
      "16.246061742305756\n"
     ]
    },
    {
     "data": {
      "application/vnd.jupyter.widget-view+json": {
       "model_id": "23d5d179944c4afeb1c559b4bbd46ae6",
       "version_major": 2,
       "version_minor": 0
      },
      "text/plain": [
       "HBox(children=(FloatProgress(value=0.0, max=173.0), HTML(value='')))"
      ]
     },
     "metadata": {},
     "output_type": "display_data"
    },
    {
     "name": "stdout",
     "output_type": "stream",
     "text": [
      "\n",
      "['SOS', 'im', 'sad', 'EOS']\n",
      "['SOS', 'sunt', 'trist', 'EOS']\n",
      "---\n",
      "['SOS', 'youre', 'old', 'EOS']\n",
      "['SOS', 'esti', 'in', 'varsta', 'esti']\n",
      "---\n",
      "['SOS', 'a', 'nerd', 'is', 'you', 'EOS']\n",
      "['SOS', 'este', 'un', 'tocilar', 'EOS']\n",
      "---\n",
      "16.21849817596376\n"
     ]
    },
    {
     "data": {
      "application/vnd.jupyter.widget-view+json": {
       "model_id": "a5ba6e8ee3254f53bebf6e1c8696e1b8",
       "version_major": 2,
       "version_minor": 0
      },
      "text/plain": [
       "HBox(children=(FloatProgress(value=0.0, max=173.0), HTML(value='')))"
      ]
     },
     "metadata": {},
     "output_type": "display_data"
    },
    {
     "name": "stdout",
     "output_type": "stream",
     "text": [
      "\n",
      "['SOS', 'im', 'sad', 'EOS']\n",
      "['SOS', 'sunt', 'trist', 'EOS']\n",
      "---\n",
      "['SOS', 'youre', 'old', 'EOS']\n",
      "['SOS', 'esti', 'in', 'varsta', 'esti']\n",
      "---\n",
      "['SOS', 'a', 'nerd', 'is', 'you', 'EOS']\n",
      "['SOS', 'este', 'un', 'tocilar', 'EOS']\n",
      "---\n",
      "16.234389420598745\n"
     ]
    },
    {
     "data": {
      "application/vnd.jupyter.widget-view+json": {
       "model_id": "a38f19052a65410090b88f3886a3d703",
       "version_major": 2,
       "version_minor": 0
      },
      "text/plain": [
       "HBox(children=(FloatProgress(value=0.0, max=173.0), HTML(value='')))"
      ]
     },
     "metadata": {},
     "output_type": "display_data"
    },
    {
     "name": "stdout",
     "output_type": "stream",
     "text": [
      "\n",
      "['SOS', 'im', 'sad', 'EOS']\n",
      "['SOS', 'sunt', 'trist', 'EOS']\n",
      "---\n",
      "['SOS', 'youre', 'old', 'EOS']\n",
      "['SOS', 'esti', 'in', 'varsta', 'esti']\n",
      "---\n",
      "['SOS', 'a', 'nerd', 'is', 'you', 'EOS']\n",
      "['SOS', 'este', 'un', 'tocilar', 'EOS']\n",
      "---\n",
      "16.233583368360996\n"
     ]
    },
    {
     "data": {
      "application/vnd.jupyter.widget-view+json": {
       "model_id": "96871a2f1da441f096f567d1c4c8d92a",
       "version_major": 2,
       "version_minor": 0
      },
      "text/plain": [
       "HBox(children=(FloatProgress(value=0.0, max=173.0), HTML(value='')))"
      ]
     },
     "metadata": {},
     "output_type": "display_data"
    },
    {
     "name": "stdout",
     "output_type": "stream",
     "text": [
      "\n",
      "['SOS', 'im', 'sad', 'EOS']\n",
      "['SOS', 'sunt', 'trist', 'EOS']\n",
      "---\n",
      "['SOS', 'youre', 'old', 'EOS']\n",
      "['SOS', 'esti', 'in', 'varsta', 'esti']\n",
      "---\n",
      "['SOS', 'a', 'nerd', 'is', 'you', 'EOS']\n",
      "['SOS', 'suntem', 'chit', 'EOS']\n",
      "---\n",
      "16.205300521105528\n"
     ]
    },
    {
     "data": {
      "application/vnd.jupyter.widget-view+json": {
       "model_id": "4c7de54981a8479ba389b641439a44dd",
       "version_major": 2,
       "version_minor": 0
      },
      "text/plain": [
       "HBox(children=(FloatProgress(value=0.0, max=173.0), HTML(value='')))"
      ]
     },
     "metadata": {},
     "output_type": "display_data"
    },
    {
     "name": "stdout",
     "output_type": "stream",
     "text": [
      "\n",
      "['SOS', 'im', 'sad', 'EOS']\n",
      "['SOS', 'sunt', 'trist', 'EOS']\n",
      "---\n",
      "['SOS', 'youre', 'old', 'EOS']\n",
      "['SOS', 'esti', 'in', 'varsta', 'esti']\n",
      "---\n",
      "['SOS', 'a', 'nerd', 'is', 'you', 'EOS']\n",
      "['SOS', 'este', 'un', 'tocilar', 'EOS']\n",
      "---\n",
      "16.321194289252162\n"
     ]
    },
    {
     "data": {
      "application/vnd.jupyter.widget-view+json": {
       "model_id": "72f927db5c8d44799a8bdec4566f316d",
       "version_major": 2,
       "version_minor": 0
      },
      "text/plain": [
       "HBox(children=(FloatProgress(value=0.0, max=173.0), HTML(value='')))"
      ]
     },
     "metadata": {},
     "output_type": "display_data"
    },
    {
     "name": "stdout",
     "output_type": "stream",
     "text": [
      "\n",
      "['SOS', 'im', 'sad', 'EOS']\n",
      "['SOS', 'sunt', 'trist', 'EOS']\n",
      "---\n",
      "['SOS', 'youre', 'old', 'EOS']\n",
      "['SOS', 'esti', 'in', 'varsta', 'esti']\n",
      "---\n",
      "['SOS', 'a', 'nerd', 'is', 'you', 'EOS']\n",
      "['SOS', 'cine', 'este', 'bolnav', 'EOS']\n",
      "---\n",
      "16.237057281658053\n"
     ]
    },
    {
     "data": {
      "application/vnd.jupyter.widget-view+json": {
       "model_id": "cc404f8cbfd940c891bb17102a9eb108",
       "version_major": 2,
       "version_minor": 0
      },
      "text/plain": [
       "HBox(children=(FloatProgress(value=0.0, max=173.0), HTML(value='')))"
      ]
     },
     "metadata": {},
     "output_type": "display_data"
    },
    {
     "name": "stdout",
     "output_type": "stream",
     "text": [
      "\n",
      "['SOS', 'im', 'sad', 'EOS']\n",
      "['SOS', 'sunt', 'trist', 'EOS']\n",
      "---\n",
      "['SOS', 'youre', 'old', 'EOS']\n",
      "['SOS', 'esti', 'in', 'varsta', 'esti']\n",
      "---\n",
      "['SOS', 'a', 'nerd', 'is', 'you', 'EOS']\n",
      "['SOS', 'este', 'un', 'tocilar', 'EOS']\n",
      "---\n",
      "16.24323980510235\n"
     ]
    },
    {
     "data": {
      "application/vnd.jupyter.widget-view+json": {
       "model_id": "9f3b6203d2f84b8e8fe9624b3a21cb3c",
       "version_major": 2,
       "version_minor": 0
      },
      "text/plain": [
       "HBox(children=(FloatProgress(value=0.0, max=173.0), HTML(value='')))"
      ]
     },
     "metadata": {},
     "output_type": "display_data"
    },
    {
     "name": "stdout",
     "output_type": "stream",
     "text": [
      "\n",
      "['SOS', 'im', 'sad', 'EOS']\n",
      "['SOS', 'sunt', 'trist', 'EOS']\n",
      "---\n",
      "['SOS', 'youre', 'old', 'EOS']\n",
      "['SOS', 'esti', 'in', 'varsta', 'esti']\n",
      "---\n",
      "['SOS', 'a', 'nerd', 'is', 'you', 'EOS']\n",
      "['SOS', 'cine', 'este', 'bine', 'EOS']\n",
      "---\n",
      "16.241034608334303\n"
     ]
    },
    {
     "data": {
      "application/vnd.jupyter.widget-view+json": {
       "model_id": "15d046af4b1041e2ba6efe6e45478903",
       "version_major": 2,
       "version_minor": 0
      },
      "text/plain": [
       "HBox(children=(FloatProgress(value=0.0, max=173.0), HTML(value='')))"
      ]
     },
     "metadata": {},
     "output_type": "display_data"
    },
    {
     "name": "stdout",
     "output_type": "stream",
     "text": [
      "\n",
      "['SOS', 'im', 'sad', 'EOS']\n",
      "['SOS', 'sunt', 'trist', 'EOS']\n",
      "---\n",
      "['SOS', 'youre', 'old', 'EOS']\n",
      "['SOS', 'esti', 'in', 'varsta', 'esti']\n",
      "---\n",
      "['SOS', 'a', 'nerd', 'is', 'you', 'EOS']\n",
      "['SOS', 'tom', 'este', 'bolnav', 'EOS']\n",
      "---\n",
      "16.261570535600185\n"
     ]
    },
    {
     "data": {
      "application/vnd.jupyter.widget-view+json": {
       "model_id": "435634dc10104c0baf68e8c82f8a6ae3",
       "version_major": 2,
       "version_minor": 0
      },
      "text/plain": [
       "HBox(children=(FloatProgress(value=0.0, max=173.0), HTML(value='')))"
      ]
     },
     "metadata": {},
     "output_type": "display_data"
    },
    {
     "name": "stdout",
     "output_type": "stream",
     "text": [
      "\n",
      "['SOS', 'im', 'sad', 'EOS']\n",
      "['SOS', 'sunt', 'trist', 'EOS']\n",
      "---\n",
      "['SOS', 'youre', 'old', 'EOS']\n",
      "['SOS', 'esti', 'in', 'varsta', 'esti']\n",
      "---\n",
      "['SOS', 'a', 'nerd', 'is', 'you', 'EOS']\n",
      "['SOS', 'este', 'un', 'tocilar', 'EOS']\n",
      "---\n",
      "16.312290653586388\n"
     ]
    },
    {
     "data": {
      "application/vnd.jupyter.widget-view+json": {
       "model_id": "275cc1c506b74f118dc4135f8b26e1e3",
       "version_major": 2,
       "version_minor": 0
      },
      "text/plain": [
       "HBox(children=(FloatProgress(value=0.0, max=173.0), HTML(value='')))"
      ]
     },
     "metadata": {},
     "output_type": "display_data"
    },
    {
     "name": "stdout",
     "output_type": "stream",
     "text": [
      "\n",
      "['SOS', 'im', 'sad', 'EOS']\n",
      "['SOS', 'sunt', 'trist', 'EOS']\n",
      "---\n",
      "['SOS', 'youre', 'old', 'EOS']\n",
      "['SOS', 'esti', 'in', 'varsta', 'esti']\n",
      "---\n",
      "['SOS', 'a', 'nerd', 'is', 'you', 'EOS']\n",
      "['SOS', 'este', 'un', 'tocilar', 'EOS']\n",
      "---\n",
      "16.221872188150883\n"
     ]
    },
    {
     "data": {
      "application/vnd.jupyter.widget-view+json": {
       "model_id": "ee0dc8a387d74e7596a7c80e72bf0730",
       "version_major": 2,
       "version_minor": 0
      },
      "text/plain": [
       "HBox(children=(FloatProgress(value=0.0, max=173.0), HTML(value='')))"
      ]
     },
     "metadata": {},
     "output_type": "display_data"
    },
    {
     "name": "stdout",
     "output_type": "stream",
     "text": [
      "\n",
      "['SOS', 'im', 'sad', 'EOS']\n",
      "['SOS', 'sunt', 'trist', 'EOS']\n",
      "---\n",
      "['SOS', 'youre', 'old', 'EOS']\n",
      "['SOS', 'esti', 'in', 'varsta', 'esti']\n",
      "---\n",
      "['SOS', 'a', 'nerd', 'is', 'you', 'EOS']\n",
      "['SOS', 'tom', 'este', 'bine', 'EOS']\n",
      "---\n",
      "16.275652710348368\n"
     ]
    },
    {
     "data": {
      "application/vnd.jupyter.widget-view+json": {
       "model_id": "18112a52aead40dba802db5c8ffadda2",
       "version_major": 2,
       "version_minor": 0
      },
      "text/plain": [
       "HBox(children=(FloatProgress(value=0.0, max=173.0), HTML(value='')))"
      ]
     },
     "metadata": {},
     "output_type": "display_data"
    },
    {
     "name": "stdout",
     "output_type": "stream",
     "text": [
      "\n",
      "['SOS', 'im', 'sad', 'EOS']\n",
      "['SOS', 'sunt', 'trist', 'EOS']\n",
      "---\n",
      "['SOS', 'youre', 'old', 'EOS']\n",
      "['SOS', 'esti', 'in', 'varsta', 'esti']\n",
      "---\n",
      "['SOS', 'a', 'nerd', 'is', 'you', 'EOS']\n",
      "['SOS', 'el', 'este', 'bine', 'EOS']\n",
      "---\n",
      "16.27500132843852\n"
     ]
    },
    {
     "data": {
      "application/vnd.jupyter.widget-view+json": {
       "model_id": "f34d75ec0f694d76abb8b8f445c51f4d",
       "version_major": 2,
       "version_minor": 0
      },
      "text/plain": [
       "HBox(children=(FloatProgress(value=0.0, max=173.0), HTML(value='')))"
      ]
     },
     "metadata": {},
     "output_type": "display_data"
    },
    {
     "name": "stdout",
     "output_type": "stream",
     "text": [
      "\n",
      "['SOS', 'im', 'sad', 'EOS']\n",
      "['SOS', 'sunt', 'trist', 'EOS']\n",
      "---\n",
      "['SOS', 'youre', 'old', 'EOS']\n",
      "['SOS', 'esti', 'in', 'varsta', 'esti']\n",
      "---\n",
      "['SOS', 'a', 'nerd', 'is', 'you', 'EOS']\n",
      "['SOS', 'intreabal', 'pe', 'tocilar', 'EOS']\n",
      "---\n",
      "16.200470086187124\n"
     ]
    },
    {
     "data": {
      "application/vnd.jupyter.widget-view+json": {
       "model_id": "60dbb0f678144195b75f932e254b1a90",
       "version_major": 2,
       "version_minor": 0
      },
      "text/plain": [
       "HBox(children=(FloatProgress(value=0.0, max=173.0), HTML(value='')))"
      ]
     },
     "metadata": {},
     "output_type": "display_data"
    },
    {
     "name": "stdout",
     "output_type": "stream",
     "text": [
      "\n",
      "['SOS', 'im', 'sad', 'EOS']\n",
      "['SOS', 'sunt', 'trist', 'EOS']\n",
      "---\n",
      "['SOS', 'youre', 'old', 'EOS']\n",
      "['SOS', 'esti', 'in', 'varsta', 'esti']\n",
      "---\n",
      "['SOS', 'a', 'nerd', 'is', 'you', 'EOS']\n",
      "['SOS', 'tom', 'este', 'bine', 'EOS']\n",
      "---\n",
      "16.228874837979674\n"
     ]
    },
    {
     "data": {
      "application/vnd.jupyter.widget-view+json": {
       "model_id": "6e32961a180f43ce951303143664f4c3",
       "version_major": 2,
       "version_minor": 0
      },
      "text/plain": [
       "HBox(children=(FloatProgress(value=0.0, max=173.0), HTML(value='')))"
      ]
     },
     "metadata": {},
     "output_type": "display_data"
    },
    {
     "name": "stdout",
     "output_type": "stream",
     "text": [
      "\n",
      "['SOS', 'im', 'sad', 'EOS']\n",
      "['SOS', 'sunt', 'trist', 'EOS']\n",
      "---\n",
      "['SOS', 'youre', 'old', 'EOS']\n",
      "['SOS', 'esti', 'in', 'varsta', 'esti']\n",
      "---\n",
      "['SOS', 'a', 'nerd', 'is', 'you', 'EOS']\n",
      "['SOS', 'tom', 'este', 'bine', 'EOS']\n",
      "---\n",
      "16.2829915471375\n"
     ]
    },
    {
     "data": {
      "application/vnd.jupyter.widget-view+json": {
       "model_id": "b1a8a070fc2242c1aa4a4b631668fdc9",
       "version_major": 2,
       "version_minor": 0
      },
      "text/plain": [
       "HBox(children=(FloatProgress(value=0.0, max=173.0), HTML(value='')))"
      ]
     },
     "metadata": {},
     "output_type": "display_data"
    },
    {
     "name": "stdout",
     "output_type": "stream",
     "text": [
      "\n",
      "['SOS', 'im', 'sad', 'EOS']\n",
      "['SOS', 'sunt', 'trist', 'EOS']\n",
      "---\n",
      "['SOS', 'youre', 'old', 'EOS']\n",
      "['SOS', 'esti', 'in', 'varsta', 'esti']\n",
      "---\n",
      "['SOS', 'a', 'nerd', 'is', 'you', 'EOS']\n",
      "['SOS', 'este', 'un', 'tocilar', 'EOS']\n",
      "---\n",
      "16.33644031919539\n"
     ]
    },
    {
     "data": {
      "application/vnd.jupyter.widget-view+json": {
       "model_id": "41d0a6401114426194ab64ae37cbfbae",
       "version_major": 2,
       "version_minor": 0
      },
      "text/plain": [
       "HBox(children=(FloatProgress(value=0.0, max=173.0), HTML(value='')))"
      ]
     },
     "metadata": {},
     "output_type": "display_data"
    },
    {
     "name": "stdout",
     "output_type": "stream",
     "text": [
      "\n",
      "['SOS', 'im', 'sad', 'EOS']\n",
      "['SOS', 'sunt', 'trist', 'EOS']\n",
      "---\n",
      "['SOS', 'youre', 'old', 'EOS']\n",
      "['SOS', 'esti', 'in', 'varsta', 'esti']\n",
      "---\n",
      "['SOS', 'a', 'nerd', 'is', 'you', 'EOS']\n",
      "['SOS', 'este', 'un', 'tocilar', 'EOS']\n",
      "---\n",
      "16.20140865817666\n"
     ]
    },
    {
     "data": {
      "application/vnd.jupyter.widget-view+json": {
       "model_id": "901411a16e60417b9a5f9f33c6f4ecd5",
       "version_major": 2,
       "version_minor": 0
      },
      "text/plain": [
       "HBox(children=(FloatProgress(value=0.0, max=173.0), HTML(value='')))"
      ]
     },
     "metadata": {},
     "output_type": "display_data"
    },
    {
     "name": "stdout",
     "output_type": "stream",
     "text": [
      "\n",
      "['SOS', 'im', 'sad', 'EOS']\n",
      "['SOS', 'sunt', 'trist', 'EOS']\n",
      "---\n",
      "['SOS', 'youre', 'old', 'EOS']\n",
      "['SOS', 'esti', 'in', 'varsta', 'esti']\n",
      "---\n",
      "['SOS', 'a', 'nerd', 'is', 'you', 'EOS']\n",
      "['SOS', 'este', 'un', 'tocilar', 'EOS']\n",
      "---\n",
      "16.22476039454341\n"
     ]
    },
    {
     "data": {
      "application/vnd.jupyter.widget-view+json": {
       "model_id": "327287f3b3a24595b74be9dc5850a185",
       "version_major": 2,
       "version_minor": 0
      },
      "text/plain": [
       "HBox(children=(FloatProgress(value=0.0, max=173.0), HTML(value='')))"
      ]
     },
     "metadata": {},
     "output_type": "display_data"
    },
    {
     "name": "stdout",
     "output_type": "stream",
     "text": [
      "\n",
      "['SOS', 'im', 'sad', 'EOS']\n",
      "['SOS', 'sunt', 'trist', 'EOS']\n",
      "---\n",
      "['SOS', 'youre', 'old', 'EOS']\n",
      "['SOS', 'esti', 'in', 'varsta', 'esti']\n",
      "---\n",
      "['SOS', 'a', 'nerd', 'is', 'you', 'EOS']\n",
      "['SOS', 'este', 'un', 'tocilar', 'EOS']\n",
      "---\n",
      "16.243139065802097\n"
     ]
    },
    {
     "data": {
      "application/vnd.jupyter.widget-view+json": {
       "model_id": "75f6c972d25340dc9914ef64c6d61640",
       "version_major": 2,
       "version_minor": 0
      },
      "text/plain": [
       "HBox(children=(FloatProgress(value=0.0, max=173.0), HTML(value='')))"
      ]
     },
     "metadata": {},
     "output_type": "display_data"
    },
    {
     "name": "stdout",
     "output_type": "stream",
     "text": [
      "\n",
      "['SOS', 'im', 'sad', 'EOS']\n",
      "['SOS', 'sunt', 'trist', 'EOS']\n",
      "---\n",
      "['SOS', 'youre', 'old', 'EOS']\n",
      "['SOS', 'esti', 'in', 'varsta', 'esti']\n",
      "---\n",
      "['SOS', 'a', 'nerd', 'is', 'you', 'EOS']\n",
      "['SOS', 'tom', 'este', 'bine', 'EOS']\n",
      "---\n",
      "16.22808814421296\n"
     ]
    },
    {
     "data": {
      "application/vnd.jupyter.widget-view+json": {
       "model_id": "7b0ba68d60ab485bb4189df942e35fd8",
       "version_major": 2,
       "version_minor": 0
      },
      "text/plain": [
       "HBox(children=(FloatProgress(value=0.0, max=173.0), HTML(value='')))"
      ]
     },
     "metadata": {},
     "output_type": "display_data"
    },
    {
     "name": "stdout",
     "output_type": "stream",
     "text": [
      "\n",
      "['SOS', 'im', 'sad', 'EOS']\n",
      "['SOS', 'sunt', 'trist', 'EOS']\n",
      "---\n",
      "['SOS', 'youre', 'old', 'EOS']\n",
      "['SOS', 'esti', 'in', 'varsta', 'esti']\n",
      "---\n",
      "['SOS', 'a', 'nerd', 'is', 'you', 'EOS']\n",
      "['SOS', 'cine', 'este', 'bine', 'EOS']\n",
      "---\n",
      "16.22373280674219\n"
     ]
    },
    {
     "data": {
      "application/vnd.jupyter.widget-view+json": {
       "model_id": "9888d153784e4381acaa432c6c3acf28",
       "version_major": 2,
       "version_minor": 0
      },
      "text/plain": [
       "HBox(children=(FloatProgress(value=0.0, max=173.0), HTML(value='')))"
      ]
     },
     "metadata": {},
     "output_type": "display_data"
    },
    {
     "name": "stdout",
     "output_type": "stream",
     "text": [
      "\n",
      "['SOS', 'im', 'sad', 'EOS']\n",
      "['SOS', 'sunt', 'trist', 'EOS']\n",
      "---\n",
      "['SOS', 'youre', 'old', 'EOS']\n",
      "['SOS', 'esti', 'in', 'varsta', 'esti']\n",
      "---\n",
      "['SOS', 'a', 'nerd', 'is', 'you', 'EOS']\n",
      "['SOS', 'este', 'un', 'tocilar', 'EOS']\n",
      "---\n",
      "16.276244409382343\n"
     ]
    },
    {
     "data": {
      "application/vnd.jupyter.widget-view+json": {
       "model_id": "e689355d65a2467e832f49e574dfd832",
       "version_major": 2,
       "version_minor": 0
      },
      "text/plain": [
       "HBox(children=(FloatProgress(value=0.0, max=173.0), HTML(value='')))"
      ]
     },
     "metadata": {},
     "output_type": "display_data"
    },
    {
     "name": "stdout",
     "output_type": "stream",
     "text": [
      "\n",
      "['SOS', 'im', 'sad', 'EOS']\n",
      "['SOS', 'sunt', 'trist', 'EOS']\n",
      "---\n",
      "['SOS', 'youre', 'old', 'EOS']\n",
      "['SOS', 'esti', 'in', 'varsta', 'esti']\n",
      "---\n",
      "['SOS', 'a', 'nerd', 'is', 'you', 'EOS']\n",
      "['SOS', 'nu', 'este', 'un', 'EOS']\n",
      "---\n",
      "16.222818760201335\n"
     ]
    },
    {
     "data": {
      "application/vnd.jupyter.widget-view+json": {
       "model_id": "ad3bf59ab2cc4e77a9fac409ec1737b7",
       "version_major": 2,
       "version_minor": 0
      },
      "text/plain": [
       "HBox(children=(FloatProgress(value=0.0, max=173.0), HTML(value='')))"
      ]
     },
     "metadata": {},
     "output_type": "display_data"
    },
    {
     "name": "stdout",
     "output_type": "stream",
     "text": [
      "\n",
      "['SOS', 'im', 'sad', 'EOS']\n",
      "['SOS', 'sunt', 'trist', 'EOS']\n",
      "---\n",
      "['SOS', 'youre', 'old', 'EOS']\n",
      "['SOS', 'esti', 'in', 'varsta', 'esti']\n",
      "---\n",
      "['SOS', 'a', 'nerd', 'is', 'you', 'EOS']\n",
      "['SOS', 'este', 'un', 'tocilar', 'EOS']\n",
      "---\n",
      "16.23230992630124\n"
     ]
    },
    {
     "data": {
      "application/vnd.jupyter.widget-view+json": {
       "model_id": "4dab4772750c458c981bc31a2378504b",
       "version_major": 2,
       "version_minor": 0
      },
      "text/plain": [
       "HBox(children=(FloatProgress(value=0.0, max=173.0), HTML(value='')))"
      ]
     },
     "metadata": {},
     "output_type": "display_data"
    },
    {
     "name": "stdout",
     "output_type": "stream",
     "text": [
      "\n",
      "['SOS', 'im', 'sad', 'EOS']\n",
      "['SOS', 'sunt', 'trist', 'EOS']\n",
      "---\n",
      "['SOS', 'youre', 'old', 'EOS']\n",
      "['SOS', 'esti', 'in', 'varsta', 'esti']\n",
      "---\n",
      "['SOS', 'a', 'nerd', 'is', 'you', 'EOS']\n",
      "['SOS', 'un', 'tocilar', 'tocilar', 'EOS']\n",
      "---\n",
      "16.26836251653731\n"
     ]
    },
    {
     "data": {
      "application/vnd.jupyter.widget-view+json": {
       "model_id": "1ad8f8ad079941e5814c2f765907b0d6",
       "version_major": 2,
       "version_minor": 0
      },
      "text/plain": [
       "HBox(children=(FloatProgress(value=0.0, max=173.0), HTML(value='')))"
      ]
     },
     "metadata": {},
     "output_type": "display_data"
    },
    {
     "name": "stdout",
     "output_type": "stream",
     "text": [
      "\n",
      "['SOS', 'im', 'sad', 'EOS']\n",
      "['SOS', 'sunt', 'trist', 'EOS']\n",
      "---\n",
      "['SOS', 'youre', 'old', 'EOS']\n",
      "['SOS', 'esti', 'in', 'varsta', 'esti']\n",
      "---\n",
      "['SOS', 'a', 'nerd', 'is', 'you', 'EOS']\n",
      "['SOS', 'el', 'este', 'bolnav', 'EOS']\n",
      "---\n",
      "16.245466655120254\n"
     ]
    },
    {
     "data": {
      "application/vnd.jupyter.widget-view+json": {
       "model_id": "242288e030f84467bf23db5a58369dda",
       "version_major": 2,
       "version_minor": 0
      },
      "text/plain": [
       "HBox(children=(FloatProgress(value=0.0, max=173.0), HTML(value='')))"
      ]
     },
     "metadata": {},
     "output_type": "display_data"
    },
    {
     "name": "stdout",
     "output_type": "stream",
     "text": [
      "\n",
      "['SOS', 'im', 'sad', 'EOS']\n",
      "['SOS', 'sunt', 'trist', 'EOS']\n",
      "---\n",
      "['SOS', 'youre', 'old', 'EOS']\n",
      "['SOS', 'esti', 'in', 'varsta', 'esti']\n",
      "---\n",
      "['SOS', 'a', 'nerd', 'is', 'you', 'EOS']\n",
      "['SOS', 'voi', 'pierde', 'EOS']\n",
      "---\n",
      "16.205477518960834\n"
     ]
    },
    {
     "data": {
      "application/vnd.jupyter.widget-view+json": {
       "model_id": "be8ac0ad1a0e4d5f804e980d487898bf",
       "version_major": 2,
       "version_minor": 0
      },
      "text/plain": [
       "HBox(children=(FloatProgress(value=0.0, max=173.0), HTML(value='')))"
      ]
     },
     "metadata": {},
     "output_type": "display_data"
    },
    {
     "name": "stdout",
     "output_type": "stream",
     "text": [
      "\n",
      "['SOS', 'im', 'sad', 'EOS']\n",
      "['SOS', 'sunt', 'trist', 'EOS']\n",
      "---\n",
      "['SOS', 'youre', 'old', 'EOS']\n",
      "['SOS', 'esti', 'in', 'varsta', 'esti']\n",
      "---\n",
      "['SOS', 'a', 'nerd', 'is', 'you', 'EOS']\n",
      "['SOS', 'suntem', 'acum', 'EOS']\n",
      "---\n",
      "16.22707755304873\n"
     ]
    },
    {
     "data": {
      "application/vnd.jupyter.widget-view+json": {
       "model_id": "2816572a957d49d0804b56b6e821c5ca",
       "version_major": 2,
       "version_minor": 0
      },
      "text/plain": [
       "HBox(children=(FloatProgress(value=0.0, max=173.0), HTML(value='')))"
      ]
     },
     "metadata": {},
     "output_type": "display_data"
    },
    {
     "name": "stdout",
     "output_type": "stream",
     "text": [
      "\n",
      "['SOS', 'im', 'sad', 'EOS']\n",
      "['SOS', 'sunt', 'trist', 'EOS']\n",
      "---\n",
      "['SOS', 'youre', 'old', 'EOS']\n",
      "['SOS', 'esti', 'in', 'varsta', 'esti']\n",
      "---\n",
      "['SOS', 'a', 'nerd', 'is', 'you', 'EOS']\n",
      "['SOS', 'intreabal', 'un', 'tocilar', 'EOS']\n",
      "---\n",
      "16.2517772577703\n"
     ]
    },
    {
     "data": {
      "application/vnd.jupyter.widget-view+json": {
       "model_id": "0a7d89d5324d404cb7e16379ea694060",
       "version_major": 2,
       "version_minor": 0
      },
      "text/plain": [
       "HBox(children=(FloatProgress(value=0.0, max=173.0), HTML(value='')))"
      ]
     },
     "metadata": {},
     "output_type": "display_data"
    },
    {
     "name": "stdout",
     "output_type": "stream",
     "text": [
      "\n",
      "['SOS', 'im', 'sad', 'EOS']\n",
      "['SOS', 'sunt', 'trist', 'EOS']\n",
      "---\n",
      "['SOS', 'youre', 'old', 'EOS']\n",
      "['SOS', 'esti', 'in', 'varsta', 'esti']\n",
      "---\n",
      "['SOS', 'a', 'nerd', 'is', 'you', 'EOS']\n",
      "['SOS', 'este', 'un', 'tocilar', 'EOS']\n",
      "---\n",
      "16.23848795518279\n"
     ]
    },
    {
     "data": {
      "application/vnd.jupyter.widget-view+json": {
       "model_id": "adf74c74d8664f2584ef83cd8b8c7aef",
       "version_major": 2,
       "version_minor": 0
      },
      "text/plain": [
       "HBox(children=(FloatProgress(value=0.0, max=173.0), HTML(value='')))"
      ]
     },
     "metadata": {},
     "output_type": "display_data"
    },
    {
     "name": "stdout",
     "output_type": "stream",
     "text": [
      "\n",
      "['SOS', 'im', 'sad', 'EOS']\n",
      "['SOS', 'sunt', 'trist', 'EOS']\n",
      "---\n",
      "['SOS', 'youre', 'old', 'EOS']\n",
      "['SOS', 'esti', 'in', 'varsta', 'esti']\n",
      "---\n",
      "['SOS', 'a', 'nerd', 'is', 'you', 'EOS']\n",
      "['SOS', 'intreabal', 'pe', 'mine', 'EOS']\n",
      "---\n",
      "16.230289556086063\n"
     ]
    },
    {
     "data": {
      "application/vnd.jupyter.widget-view+json": {
       "model_id": "7f7def52c9444d708e2b06565ba66ca8",
       "version_major": 2,
       "version_minor": 0
      },
      "text/plain": [
       "HBox(children=(FloatProgress(value=0.0, max=173.0), HTML(value='')))"
      ]
     },
     "metadata": {},
     "output_type": "display_data"
    },
    {
     "name": "stdout",
     "output_type": "stream",
     "text": [
      "\n",
      "['SOS', 'im', 'sad', 'EOS']\n",
      "['SOS', 'sunt', 'trist', 'EOS']\n",
      "---\n",
      "['SOS', 'youre', 'old', 'EOS']\n",
      "['SOS', 'esti', 'in', 'varsta', 'esti']\n",
      "---\n",
      "['SOS', 'a', 'nerd', 'is', 'you', 'EOS']\n",
      "['SOS', 'este', 'un', 'tocilar', 'EOS']\n",
      "---\n",
      "16.21000473946333\n"
     ]
    },
    {
     "data": {
      "application/vnd.jupyter.widget-view+json": {
       "model_id": "86976d549f1c437e81fa17070510a8d4",
       "version_major": 2,
       "version_minor": 0
      },
      "text/plain": [
       "HBox(children=(FloatProgress(value=0.0, max=173.0), HTML(value='')))"
      ]
     },
     "metadata": {},
     "output_type": "display_data"
    },
    {
     "name": "stdout",
     "output_type": "stream",
     "text": [
      "\n",
      "['SOS', 'im', 'sad', 'EOS']\n",
      "['SOS', 'sunt', 'trist', 'EOS']\n",
      "---\n",
      "['SOS', 'youre', 'old', 'EOS']\n",
      "['SOS', 'esti', 'in', 'varsta', 'esti']\n",
      "---\n",
      "['SOS', 'a', 'nerd', 'is', 'you', 'EOS']\n",
      "['SOS', 'este', 'un', 'tocilar', 'EOS']\n",
      "---\n",
      "16.196827564388514\n"
     ]
    },
    {
     "data": {
      "application/vnd.jupyter.widget-view+json": {
       "model_id": "e5a89cecaf54465fa3d69c1ad71fa0c7",
       "version_major": 2,
       "version_minor": 0
      },
      "text/plain": [
       "HBox(children=(FloatProgress(value=0.0, max=173.0), HTML(value='')))"
      ]
     },
     "metadata": {},
     "output_type": "display_data"
    },
    {
     "name": "stdout",
     "output_type": "stream",
     "text": [
      "\n",
      "['SOS', 'im', 'sad', 'EOS']\n",
      "['SOS', 'sunt', 'trist', 'EOS']\n",
      "---\n",
      "['SOS', 'youre', 'old', 'EOS']\n",
      "['SOS', 'esti', 'in', 'varsta', 'esti']\n",
      "---\n",
      "['SOS', 'a', 'nerd', 'is', 'you', 'EOS']\n",
      "['SOS', 'tom', 'este', 'bine', 'EOS']\n",
      "---\n",
      "16.252282259985805\n"
     ]
    },
    {
     "data": {
      "application/vnd.jupyter.widget-view+json": {
       "model_id": "4329c46e9b984cec8f7f97ecec0d08e5",
       "version_major": 2,
       "version_minor": 0
      },
      "text/plain": [
       "HBox(children=(FloatProgress(value=0.0, max=173.0), HTML(value='')))"
      ]
     },
     "metadata": {},
     "output_type": "display_data"
    },
    {
     "name": "stdout",
     "output_type": "stream",
     "text": [
      "\n",
      "['SOS', 'im', 'sad', 'EOS']\n",
      "['SOS', 'sunt', 'trist', 'EOS']\n",
      "---\n",
      "['SOS', 'youre', 'old', 'EOS']\n",
      "['SOS', 'esti', 'in', 'varsta', 'esti']\n",
      "---\n",
      "['SOS', 'a', 'nerd', 'is', 'you', 'EOS']\n",
      "['SOS', 'pot', 'sa', 'tocilar', 'EOS']\n",
      "---\n",
      "16.233998723328114\n"
     ]
    },
    {
     "data": {
      "application/vnd.jupyter.widget-view+json": {
       "model_id": "5112bc780b1f49e6b4bed8d3fad12c23",
       "version_major": 2,
       "version_minor": 0
      },
      "text/plain": [
       "HBox(children=(FloatProgress(value=0.0, max=173.0), HTML(value='')))"
      ]
     },
     "metadata": {},
     "output_type": "display_data"
    },
    {
     "name": "stdout",
     "output_type": "stream",
     "text": [
      "\n",
      "['SOS', 'im', 'sad', 'EOS']\n",
      "['SOS', 'sunt', 'trist', 'EOS']\n",
      "---\n",
      "['SOS', 'youre', 'old', 'EOS']\n",
      "['SOS', 'esti', 'in', 'varsta', 'esti']\n",
      "---\n",
      "['SOS', 'a', 'nerd', 'is', 'you', 'EOS']\n",
      "['SOS', 'tom', 'este', 'bine', 'EOS']\n",
      "---\n",
      "16.19275781325996\n"
     ]
    },
    {
     "data": {
      "application/vnd.jupyter.widget-view+json": {
       "model_id": "655e9a3130544390aac0449c0b9f02de",
       "version_major": 2,
       "version_minor": 0
      },
      "text/plain": [
       "HBox(children=(FloatProgress(value=0.0, max=173.0), HTML(value='')))"
      ]
     },
     "metadata": {},
     "output_type": "display_data"
    },
    {
     "name": "stdout",
     "output_type": "stream",
     "text": [
      "\n",
      "['SOS', 'im', 'sad', 'EOS']\n",
      "['SOS', 'sunt', 'trist', 'EOS']\n",
      "---\n",
      "['SOS', 'youre', 'old', 'EOS']\n",
      "['SOS', 'esti', 'in', 'varsta', 'esti']\n",
      "---\n",
      "['SOS', 'a', 'nerd', 'is', 'you', 'EOS']\n",
      "['SOS', 'tom', 'este', 'bine', 'EOS']\n",
      "---\n",
      "16.20185176283121\n"
     ]
    },
    {
     "data": {
      "application/vnd.jupyter.widget-view+json": {
       "model_id": "27a784792e074eb9be0696492a0d7743",
       "version_major": 2,
       "version_minor": 0
      },
      "text/plain": [
       "HBox(children=(FloatProgress(value=0.0, max=173.0), HTML(value='')))"
      ]
     },
     "metadata": {},
     "output_type": "display_data"
    },
    {
     "name": "stdout",
     "output_type": "stream",
     "text": [
      "\n",
      "['SOS', 'im', 'sad', 'EOS']\n",
      "['SOS', 'sunt', 'trist', 'EOS']\n",
      "---\n",
      "['SOS', 'youre', 'old', 'EOS']\n",
      "['SOS', 'esti', 'in', 'varsta', 'esti']\n",
      "---\n",
      "['SOS', 'a', 'nerd', 'is', 'you', 'EOS']\n",
      "['SOS', 'este', 'un', 'tocilar', 'EOS']\n",
      "---\n",
      "16.26243433356285\n"
     ]
    },
    {
     "data": {
      "application/vnd.jupyter.widget-view+json": {
       "model_id": "548ba534ce804e478409247001b31e9c",
       "version_major": 2,
       "version_minor": 0
      },
      "text/plain": [
       "HBox(children=(FloatProgress(value=0.0, max=173.0), HTML(value='')))"
      ]
     },
     "metadata": {},
     "output_type": "display_data"
    },
    {
     "name": "stdout",
     "output_type": "stream",
     "text": [
      "\n",
      "['SOS', 'im', 'sad', 'EOS']\n",
      "['SOS', 'sunt', 'trist', 'EOS']\n",
      "---\n",
      "['SOS', 'youre', 'old', 'EOS']\n",
      "['SOS', 'esti', 'in', 'varsta', 'esti']\n",
      "---\n",
      "['SOS', 'a', 'nerd', 'is', 'you', 'EOS']\n",
      "['SOS', 'este', 'un', 'tocilar', 'EOS']\n",
      "---\n",
      "16.247999113053083\n"
     ]
    },
    {
     "data": {
      "application/vnd.jupyter.widget-view+json": {
       "model_id": "c20caeda36324aa198664b1ad9ca7766",
       "version_major": 2,
       "version_minor": 0
      },
      "text/plain": [
       "HBox(children=(FloatProgress(value=0.0, max=173.0), HTML(value='')))"
      ]
     },
     "metadata": {},
     "output_type": "display_data"
    },
    {
     "name": "stdout",
     "output_type": "stream",
     "text": [
      "\n",
      "['SOS', 'im', 'sad', 'EOS']\n",
      "['SOS', 'sunt', 'trist', 'EOS']\n",
      "---\n",
      "['SOS', 'youre', 'old', 'EOS']\n",
      "['SOS', 'esti', 'in', 'varsta', 'esti']\n",
      "---\n",
      "['SOS', 'a', 'nerd', 'is', 'you', 'EOS']\n",
      "['SOS', 'tom', 'este', 'un', 'EOS']\n",
      "---\n",
      "16.239147869870067\n"
     ]
    },
    {
     "data": {
      "application/vnd.jupyter.widget-view+json": {
       "model_id": "b311bb0ffab14846b74b406cfb7d9ef0",
       "version_major": 2,
       "version_minor": 0
      },
      "text/plain": [
       "HBox(children=(FloatProgress(value=0.0, max=173.0), HTML(value='')))"
      ]
     },
     "metadata": {},
     "output_type": "display_data"
    },
    {
     "name": "stdout",
     "output_type": "stream",
     "text": [
      "\n",
      "['SOS', 'im', 'sad', 'EOS']\n",
      "['SOS', 'sunt', 'trist', 'EOS']\n",
      "---\n",
      "['SOS', 'youre', 'old', 'EOS']\n",
      "['SOS', 'esti', 'in', 'varsta', 'esti']\n",
      "---\n",
      "['SOS', 'a', 'nerd', 'is', 'you', 'EOS']\n",
      "['SOS', 'este', 'un', 'tocilar', 'EOS']\n",
      "---\n",
      "16.209956880658865\n"
     ]
    },
    {
     "data": {
      "application/vnd.jupyter.widget-view+json": {
       "model_id": "6edca748059448a9a6781312348731a2",
       "version_major": 2,
       "version_minor": 0
      },
      "text/plain": [
       "HBox(children=(FloatProgress(value=0.0, max=173.0), HTML(value='')))"
      ]
     },
     "metadata": {},
     "output_type": "display_data"
    },
    {
     "name": "stdout",
     "output_type": "stream",
     "text": [
      "\n",
      "['SOS', 'im', 'sad', 'EOS']\n",
      "['SOS', 'sunt', 'trist', 'EOS']\n",
      "---\n",
      "['SOS', 'youre', 'old', 'EOS']\n",
      "['SOS', 'esti', 'in', 'varsta', 'esti']\n",
      "---\n",
      "['SOS', 'a', 'nerd', 'is', 'you', 'EOS']\n",
      "['SOS', 'tom', 'este', 'bine', 'EOS']\n",
      "---\n",
      "16.219082858413458\n"
     ]
    },
    {
     "data": {
      "application/vnd.jupyter.widget-view+json": {
       "model_id": "39351fc24c784241916764672f6a62a9",
       "version_major": 2,
       "version_minor": 0
      },
      "text/plain": [
       "HBox(children=(FloatProgress(value=0.0, max=173.0), HTML(value='')))"
      ]
     },
     "metadata": {},
     "output_type": "display_data"
    },
    {
     "name": "stdout",
     "output_type": "stream",
     "text": [
      "\n",
      "['SOS', 'im', 'sad', 'EOS']\n",
      "['SOS', 'sunt', 'trist', 'EOS']\n",
      "---\n",
      "['SOS', 'youre', 'old', 'EOS']\n",
      "['SOS', 'esti', 'in', 'varsta', 'esti']\n",
      "---\n",
      "['SOS', 'a', 'nerd', 'is', 'you', 'EOS']\n",
      "['SOS', 'nu', 'este', 'un', 'EOS']\n",
      "---\n",
      "16.25456471554935\n"
     ]
    },
    {
     "data": {
      "application/vnd.jupyter.widget-view+json": {
       "model_id": "b870a11d723d4bdba812346952dfcfb9",
       "version_major": 2,
       "version_minor": 0
      },
      "text/plain": [
       "HBox(children=(FloatProgress(value=0.0, max=173.0), HTML(value='')))"
      ]
     },
     "metadata": {},
     "output_type": "display_data"
    },
    {
     "name": "stdout",
     "output_type": "stream",
     "text": [
      "\n",
      "['SOS', 'im', 'sad', 'EOS']\n",
      "['SOS', 'sunt', 'trist', 'EOS']\n",
      "---\n",
      "['SOS', 'youre', 'old', 'EOS']\n",
      "['SOS', 'esti', 'in', 'varsta', 'esti']\n",
      "---\n",
      "['SOS', 'a', 'nerd', 'is', 'you', 'EOS']\n",
      "['SOS', 'tom', 'este', 'bine', 'EOS']\n",
      "---\n",
      "16.217835873365402\n"
     ]
    },
    {
     "data": {
      "application/vnd.jupyter.widget-view+json": {
       "model_id": "f09e27f1d20d4d9ca589303f4d4ba61e",
       "version_major": 2,
       "version_minor": 0
      },
      "text/plain": [
       "HBox(children=(FloatProgress(value=0.0, max=173.0), HTML(value='')))"
      ]
     },
     "metadata": {},
     "output_type": "display_data"
    },
    {
     "name": "stdout",
     "output_type": "stream",
     "text": [
      "\n",
      "['SOS', 'im', 'sad', 'EOS']\n",
      "['SOS', 'sunt', 'trist', 'EOS']\n",
      "---\n",
      "['SOS', 'youre', 'old', 'EOS']\n",
      "['SOS', 'esti', 'in', 'varsta', 'esti']\n",
      "---\n",
      "['SOS', 'a', 'nerd', 'is', 'you', 'EOS']\n",
      "['SOS', 'este', 'un', 'tocilar', 'EOS']\n",
      "---\n",
      "16.23625633865595\n"
     ]
    },
    {
     "data": {
      "application/vnd.jupyter.widget-view+json": {
       "model_id": "b1b1d0844816433ea586c761da1e4685",
       "version_major": 2,
       "version_minor": 0
      },
      "text/plain": [
       "HBox(children=(FloatProgress(value=0.0, max=173.0), HTML(value='')))"
      ]
     },
     "metadata": {},
     "output_type": "display_data"
    },
    {
     "name": "stdout",
     "output_type": "stream",
     "text": [
      "\n",
      "['SOS', 'im', 'sad', 'EOS']\n",
      "['SOS', 'sunt', 'trist', 'EOS']\n",
      "---\n",
      "['SOS', 'youre', 'old', 'EOS']\n",
      "['SOS', 'esti', 'in', 'varsta', 'esti']\n",
      "---\n",
      "['SOS', 'a', 'nerd', 'is', 'you', 'EOS']\n",
      "['SOS', 'suntem', 'un', 'tocilar', 'EOS']\n",
      "---\n",
      "16.252211401239038\n"
     ]
    },
    {
     "data": {
      "application/vnd.jupyter.widget-view+json": {
       "model_id": "869714ec1c2445ccb38cf2777ed821a9",
       "version_major": 2,
       "version_minor": 0
      },
      "text/plain": [
       "HBox(children=(FloatProgress(value=0.0, max=173.0), HTML(value='')))"
      ]
     },
     "metadata": {},
     "output_type": "display_data"
    },
    {
     "name": "stdout",
     "output_type": "stream",
     "text": [
      "\n",
      "['SOS', 'im', 'sad', 'EOS']\n",
      "['SOS', 'sunt', 'trist', 'EOS']\n",
      "---\n",
      "['SOS', 'youre', 'old', 'EOS']\n",
      "['SOS', 'esti', 'in', 'varsta', 'esti']\n",
      "---\n",
      "['SOS', 'a', 'nerd', 'is', 'you', 'EOS']\n",
      "['SOS', 'cine', 'este', 'bine', 'EOS']\n",
      "---\n",
      "16.220680562779307\n"
     ]
    },
    {
     "data": {
      "application/vnd.jupyter.widget-view+json": {
       "model_id": "ae7ed5b0d06e41619e0320d69874c75d",
       "version_major": 2,
       "version_minor": 0
      },
      "text/plain": [
       "HBox(children=(FloatProgress(value=0.0, max=173.0), HTML(value='')))"
      ]
     },
     "metadata": {},
     "output_type": "display_data"
    },
    {
     "name": "stdout",
     "output_type": "stream",
     "text": [
      "\n",
      "['SOS', 'im', 'sad', 'EOS']\n",
      "['SOS', 'sunt', 'trist', 'EOS']\n",
      "---\n",
      "['SOS', 'youre', 'old', 'EOS']\n",
      "['SOS', 'esti', 'in', 'varsta', 'esti']\n",
      "---\n",
      "['SOS', 'a', 'nerd', 'is', 'you', 'EOS']\n",
      "['SOS', 'este', 'un', 'tocilar', 'EOS']\n",
      "---\n",
      "16.259991003200412\n"
     ]
    },
    {
     "data": {
      "application/vnd.jupyter.widget-view+json": {
       "model_id": "e2e561e3f3614cbd935b99532c159f34",
       "version_major": 2,
       "version_minor": 0
      },
      "text/plain": [
       "HBox(children=(FloatProgress(value=0.0, max=173.0), HTML(value='')))"
      ]
     },
     "metadata": {},
     "output_type": "display_data"
    },
    {
     "name": "stdout",
     "output_type": "stream",
     "text": [
      "\n",
      "['SOS', 'im', 'sad', 'EOS']\n",
      "['SOS', 'sunt', 'trist', 'EOS']\n",
      "---\n",
      "['SOS', 'youre', 'old', 'EOS']\n",
      "['SOS', 'esti', 'in', 'varsta', 'esti']\n",
      "---\n",
      "['SOS', 'a', 'nerd', 'is', 'you', 'EOS']\n",
      "['SOS', 'tom', 'este', 'bine', 'EOS']\n",
      "---\n",
      "16.280578142032027\n"
     ]
    },
    {
     "data": {
      "application/vnd.jupyter.widget-view+json": {
       "model_id": "99e60b9fe222488ebcf634eb4779b4a4",
       "version_major": 2,
       "version_minor": 0
      },
      "text/plain": [
       "HBox(children=(FloatProgress(value=0.0, max=173.0), HTML(value='')))"
      ]
     },
     "metadata": {},
     "output_type": "display_data"
    },
    {
     "name": "stdout",
     "output_type": "stream",
     "text": [
      "\n",
      "['SOS', 'im', 'sad', 'EOS']\n",
      "['SOS', 'sunt', 'trist', 'EOS']\n",
      "---\n",
      "['SOS', 'youre', 'old', 'EOS']\n",
      "['SOS', 'esti', 'in', 'varsta', 'esti']\n",
      "---\n",
      "['SOS', 'a', 'nerd', 'is', 'you', 'EOS']\n",
      "['SOS', 'cine', 'este', 'bine', 'EOS']\n",
      "---\n",
      "16.246248587965965\n"
     ]
    },
    {
     "data": {
      "application/vnd.jupyter.widget-view+json": {
       "model_id": "0fc0963267374aea8bf65b79f43f361d",
       "version_major": 2,
       "version_minor": 0
      },
      "text/plain": [
       "HBox(children=(FloatProgress(value=0.0, max=173.0), HTML(value='')))"
      ]
     },
     "metadata": {},
     "output_type": "display_data"
    },
    {
     "name": "stdout",
     "output_type": "stream",
     "text": [
      "\n",
      "['SOS', 'im', 'sad', 'EOS']\n",
      "['SOS', 'sunt', 'trist', 'EOS']\n",
      "---\n",
      "['SOS', 'youre', 'old', 'EOS']\n",
      "['SOS', 'esti', 'in', 'varsta', 'esti']\n",
      "---\n",
      "['SOS', 'a', 'nerd', 'is', 'you', 'EOS']\n",
      "['SOS', 'tom', 'este', 'bine', 'EOS']\n",
      "---\n",
      "16.243618419393897\n"
     ]
    },
    {
     "data": {
      "application/vnd.jupyter.widget-view+json": {
       "model_id": "c65ad5ccc49a4023bf1cdf84c80d8c6a",
       "version_major": 2,
       "version_minor": 0
      },
      "text/plain": [
       "HBox(children=(FloatProgress(value=0.0, max=173.0), HTML(value='')))"
      ]
     },
     "metadata": {},
     "output_type": "display_data"
    },
    {
     "name": "stdout",
     "output_type": "stream",
     "text": [
      "\n",
      "['SOS', 'im', 'sad', 'EOS']\n",
      "['SOS', 'sunt', 'trist', 'EOS']\n",
      "---\n",
      "['SOS', 'youre', 'old', 'EOS']\n",
      "['SOS', 'esti', 'in', 'varsta', 'esti']\n",
      "---\n",
      "['SOS', 'a', 'nerd', 'is', 'you', 'EOS']\n",
      "['SOS', 'este', 'un', 'tocilar', 'EOS']\n",
      "---\n",
      "16.270016495138407\n"
     ]
    },
    {
     "data": {
      "application/vnd.jupyter.widget-view+json": {
       "model_id": "240ff772c4154ecfbc5a105b0b2c00da",
       "version_major": 2,
       "version_minor": 0
      },
      "text/plain": [
       "HBox(children=(FloatProgress(value=0.0, max=173.0), HTML(value='')))"
      ]
     },
     "metadata": {},
     "output_type": "display_data"
    },
    {
     "name": "stdout",
     "output_type": "stream",
     "text": [
      "\n",
      "['SOS', 'im', 'sad', 'EOS']\n",
      "['SOS', 'sunt', 'trist', 'EOS']\n",
      "---\n",
      "['SOS', 'youre', 'old', 'EOS']\n",
      "['SOS', 'esti', 'in', 'varsta', 'esti']\n",
      "---\n",
      "['SOS', 'a', 'nerd', 'is', 'you', 'EOS']\n",
      "['SOS', 'este', 'un', 'tocilar', 'EOS']\n",
      "---\n",
      "16.27106643654406\n"
     ]
    },
    {
     "data": {
      "application/vnd.jupyter.widget-view+json": {
       "model_id": "f7ab7d8c042143069d6092e7ea77c77e",
       "version_major": 2,
       "version_minor": 0
      },
      "text/plain": [
       "HBox(children=(FloatProgress(value=0.0, max=173.0), HTML(value='')))"
      ]
     },
     "metadata": {},
     "output_type": "display_data"
    },
    {
     "name": "stdout",
     "output_type": "stream",
     "text": [
      "\n",
      "['SOS', 'im', 'sad', 'EOS']\n",
      "['SOS', 'sunt', 'trist', 'EOS']\n",
      "---\n",
      "['SOS', 'youre', 'old', 'EOS']\n",
      "['SOS', 'esti', 'in', 'varsta', 'esti']\n",
      "---\n",
      "['SOS', 'a', 'nerd', 'is', 'you', 'EOS']\n",
      "['SOS', 'cine', 'este', 'tocilar', 'EOS']\n",
      "---\n",
      "16.258514458313584\n"
     ]
    },
    {
     "data": {
      "application/vnd.jupyter.widget-view+json": {
       "model_id": "89d559f6d11b4be98cf5d8b22d756e1b",
       "version_major": 2,
       "version_minor": 0
      },
      "text/plain": [
       "HBox(children=(FloatProgress(value=0.0, max=173.0), HTML(value='')))"
      ]
     },
     "metadata": {},
     "output_type": "display_data"
    },
    {
     "name": "stdout",
     "output_type": "stream",
     "text": [
      "\n",
      "['SOS', 'im', 'sad', 'EOS']\n",
      "['SOS', 'sunt', 'trist', 'EOS']\n",
      "---\n",
      "['SOS', 'youre', 'old', 'EOS']\n",
      "['SOS', 'esti', 'in', 'varsta', 'esti']\n",
      "---\n",
      "['SOS', 'a', 'nerd', 'is', 'you', 'EOS']\n",
      "['SOS', 'este', 'un', 'tocilar', 'EOS']\n",
      "---\n",
      "16.399093387648463\n"
     ]
    },
    {
     "data": {
      "application/vnd.jupyter.widget-view+json": {
       "model_id": "8f80582d0a8647f19694caacca404da0",
       "version_major": 2,
       "version_minor": 0
      },
      "text/plain": [
       "HBox(children=(FloatProgress(value=0.0, max=173.0), HTML(value='')))"
      ]
     },
     "metadata": {},
     "output_type": "display_data"
    },
    {
     "name": "stdout",
     "output_type": "stream",
     "text": [
      "\n",
      "['SOS', 'im', 'sad', 'EOS']\n",
      "['SOS', 'sunt', 'trist', 'EOS']\n",
      "---\n",
      "['SOS', 'youre', 'old', 'EOS']\n",
      "['SOS', 'esti', 'in', 'varsta', 'esti']\n",
      "---\n",
      "['SOS', 'a', 'nerd', 'is', 'you', 'EOS']\n",
      "['SOS', 'alege', 'un', 'tocilar', 'EOS']\n",
      "---\n",
      "16.26490145176649\n"
     ]
    },
    {
     "data": {
      "application/vnd.jupyter.widget-view+json": {
       "model_id": "07bb6d3c38db4d0c83a6abc15705e1b0",
       "version_major": 2,
       "version_minor": 0
      },
      "text/plain": [
       "HBox(children=(FloatProgress(value=0.0, max=173.0), HTML(value='')))"
      ]
     },
     "metadata": {},
     "output_type": "display_data"
    },
    {
     "name": "stdout",
     "output_type": "stream",
     "text": [
      "\n",
      "['SOS', 'im', 'sad', 'EOS']\n",
      "['SOS', 'sunt', 'trist', 'EOS']\n",
      "---\n",
      "['SOS', 'youre', 'old', 'EOS']\n",
      "['SOS', 'esti', 'in', 'varsta', 'esti']\n",
      "---\n",
      "['SOS', 'a', 'nerd', 'is', 'you', 'EOS']\n",
      "['SOS', 'cine', 'este', 'bolnav', 'EOS']\n",
      "---\n",
      "16.2815722823143\n"
     ]
    },
    {
     "data": {
      "application/vnd.jupyter.widget-view+json": {
       "model_id": "42361869192b45a0abaafe01ab184067",
       "version_major": 2,
       "version_minor": 0
      },
      "text/plain": [
       "HBox(children=(FloatProgress(value=0.0, max=173.0), HTML(value='')))"
      ]
     },
     "metadata": {},
     "output_type": "display_data"
    },
    {
     "name": "stdout",
     "output_type": "stream",
     "text": [
      "\n",
      "['SOS', 'im', 'sad', 'EOS']\n",
      "['SOS', 'sunt', 'trist', 'EOS']\n",
      "---\n",
      "['SOS', 'youre', 'old', 'EOS']\n",
      "['SOS', 'esti', 'in', 'varsta', 'esti']\n",
      "---\n",
      "['SOS', 'a', 'nerd', 'is', 'you', 'EOS']\n",
      "['SOS', 'este', 'un', 'tocilar', 'EOS']\n",
      "---\n",
      "16.2517317160964\n"
     ]
    },
    {
     "data": {
      "application/vnd.jupyter.widget-view+json": {
       "model_id": "448c49024636407a80b06adb508dd82b",
       "version_major": 2,
       "version_minor": 0
      },
      "text/plain": [
       "HBox(children=(FloatProgress(value=0.0, max=173.0), HTML(value='')))"
      ]
     },
     "metadata": {},
     "output_type": "display_data"
    },
    {
     "name": "stdout",
     "output_type": "stream",
     "text": [
      "\n",
      "['SOS', 'im', 'sad', 'EOS']\n",
      "['SOS', 'sunt', 'trist', 'EOS']\n",
      "---\n",
      "['SOS', 'youre', 'old', 'EOS']\n",
      "['SOS', 'esti', 'in', 'varsta', 'esti']\n",
      "---\n",
      "['SOS', 'a', 'nerd', 'is', 'you', 'EOS']\n",
      "['SOS', 'intreabal', 'un', 'tocilar', 'EOS']\n",
      "---\n",
      "16.227939946576953\n"
     ]
    },
    {
     "data": {
      "application/vnd.jupyter.widget-view+json": {
       "model_id": "c4dab0f9e04c4217897ad4a94ef7a56c",
       "version_major": 2,
       "version_minor": 0
      },
      "text/plain": [
       "HBox(children=(FloatProgress(value=0.0, max=173.0), HTML(value='')))"
      ]
     },
     "metadata": {},
     "output_type": "display_data"
    },
    {
     "name": "stdout",
     "output_type": "stream",
     "text": [
      "\n",
      "['SOS', 'im', 'sad', 'EOS']\n",
      "['SOS', 'sunt', 'trist', 'EOS']\n",
      "---\n",
      "['SOS', 'youre', 'old', 'EOS']\n",
      "['SOS', 'esti', 'in', 'varsta', 'esti']\n",
      "---\n",
      "['SOS', 'a', 'nerd', 'is', 'you', 'EOS']\n",
      "['SOS', 'tom', 'este', 'bolnav', 'EOS']\n",
      "---\n",
      "16.218040263280272\n"
     ]
    },
    {
     "data": {
      "application/vnd.jupyter.widget-view+json": {
       "model_id": "582f6ddda93b4023ba8d68ba3eee7f8f",
       "version_major": 2,
       "version_minor": 0
      },
      "text/plain": [
       "HBox(children=(FloatProgress(value=0.0, max=173.0), HTML(value='')))"
      ]
     },
     "metadata": {},
     "output_type": "display_data"
    },
    {
     "name": "stdout",
     "output_type": "stream",
     "text": [
      "\n",
      "['SOS', 'im', 'sad', 'EOS']\n",
      "['SOS', 'sunt', 'trist', 'EOS']\n",
      "---\n",
      "['SOS', 'youre', 'old', 'EOS']\n",
      "['SOS', 'esti', 'in', 'varsta', 'esti']\n",
      "---\n",
      "['SOS', 'a', 'nerd', 'is', 'you', 'EOS']\n",
      "['SOS', 'nu', 'este', 'un', 'EOS']\n",
      "---\n",
      "16.213180424645543\n"
     ]
    },
    {
     "data": {
      "application/vnd.jupyter.widget-view+json": {
       "model_id": "bd1a42ea3cf44a5b97a5c1e785163dbc",
       "version_major": 2,
       "version_minor": 0
      },
      "text/plain": [
       "HBox(children=(FloatProgress(value=0.0, max=173.0), HTML(value='')))"
      ]
     },
     "metadata": {},
     "output_type": "display_data"
    },
    {
     "name": "stdout",
     "output_type": "stream",
     "text": [
      "\n",
      "['SOS', 'im', 'sad', 'EOS']\n",
      "['SOS', 'sunt', 'trist', 'EOS']\n",
      "---\n",
      "['SOS', 'youre', 'old', 'EOS']\n",
      "['SOS', 'esti', 'in', 'varsta', 'esti']\n",
      "---\n",
      "['SOS', 'a', 'nerd', 'is', 'you', 'EOS']\n",
      "['SOS', 'alege', 'tocilar', 'tocilar', 'EOS']\n",
      "---\n",
      "16.28710537403822\n"
     ]
    },
    {
     "data": {
      "application/vnd.jupyter.widget-view+json": {
       "model_id": "266fe0e35c2c4fe285ce394909c91c66",
       "version_major": 2,
       "version_minor": 0
      },
      "text/plain": [
       "HBox(children=(FloatProgress(value=0.0, max=173.0), HTML(value='')))"
      ]
     },
     "metadata": {},
     "output_type": "display_data"
    },
    {
     "name": "stdout",
     "output_type": "stream",
     "text": [
      "\n",
      "['SOS', 'im', 'sad', 'EOS']\n",
      "['SOS', 'sunt', 'trist', 'EOS']\n",
      "---\n",
      "['SOS', 'youre', 'old', 'EOS']\n",
      "['SOS', 'esti', 'in', 'varsta', 'esti']\n",
      "---\n",
      "['SOS', 'a', 'nerd', 'is', 'you', 'EOS']\n",
      "['SOS', 'alege', 'una', 'EOS']\n",
      "---\n",
      "16.216403933241963\n"
     ]
    },
    {
     "data": {
      "application/vnd.jupyter.widget-view+json": {
       "model_id": "485fee4e35304a899415bd89dec8c1a5",
       "version_major": 2,
       "version_minor": 0
      },
      "text/plain": [
       "HBox(children=(FloatProgress(value=0.0, max=173.0), HTML(value='')))"
      ]
     },
     "metadata": {},
     "output_type": "display_data"
    },
    {
     "name": "stdout",
     "output_type": "stream",
     "text": [
      "\n",
      "['SOS', 'im', 'sad', 'EOS']\n",
      "['SOS', 'sunt', 'trist', 'EOS']\n",
      "---\n",
      "['SOS', 'youre', 'old', 'EOS']\n",
      "['SOS', 'esti', 'in', 'varsta', 'esti']\n",
      "---\n",
      "['SOS', 'a', 'nerd', 'is', 'you', 'EOS']\n",
      "['SOS', 'intreabal', 'pe', 'tocilar', 'EOS']\n",
      "---\n",
      "16.288351755589247\n"
     ]
    },
    {
     "data": {
      "application/vnd.jupyter.widget-view+json": {
       "model_id": "aca8d3825cb94ca3afabcdb0fea54377",
       "version_major": 2,
       "version_minor": 0
      },
      "text/plain": [
       "HBox(children=(FloatProgress(value=0.0, max=173.0), HTML(value='')))"
      ]
     },
     "metadata": {},
     "output_type": "display_data"
    },
    {
     "name": "stdout",
     "output_type": "stream",
     "text": [
      "\n",
      "['SOS', 'im', 'sad', 'EOS']\n",
      "['SOS', 'sunt', 'trist', 'EOS']\n",
      "---\n",
      "['SOS', 'youre', 'old', 'EOS']\n",
      "['SOS', 'esti', 'in', 'varsta', 'esti']\n",
      "---\n",
      "['SOS', 'a', 'nerd', 'is', 'you', 'EOS']\n",
      "['SOS', 'cine', 'este', 'bine', 'EOS']\n",
      "---\n",
      "16.256759284064174\n"
     ]
    },
    {
     "data": {
      "application/vnd.jupyter.widget-view+json": {
       "model_id": "68196566b0864c05bcca0dc9e22e20a6",
       "version_major": 2,
       "version_minor": 0
      },
      "text/plain": [
       "HBox(children=(FloatProgress(value=0.0, max=173.0), HTML(value='')))"
      ]
     },
     "metadata": {},
     "output_type": "display_data"
    },
    {
     "name": "stdout",
     "output_type": "stream",
     "text": [
      "\n",
      "['SOS', 'im', 'sad', 'EOS']\n",
      "['SOS', 'sunt', 'trist', 'EOS']\n",
      "---\n",
      "['SOS', 'youre', 'old', 'EOS']\n",
      "['SOS', 'esti', 'in', 'varsta', 'esti']\n",
      "---\n",
      "['SOS', 'a', 'nerd', 'is', 'you', 'EOS']\n",
      "['SOS', 'este', 'bine', 'tocilar', 'EOS']\n",
      "---\n",
      "16.208074238151312\n"
     ]
    },
    {
     "data": {
      "application/vnd.jupyter.widget-view+json": {
       "model_id": "3c1c657d55024c05ae55a4560d0df793",
       "version_major": 2,
       "version_minor": 0
      },
      "text/plain": [
       "HBox(children=(FloatProgress(value=0.0, max=173.0), HTML(value='')))"
      ]
     },
     "metadata": {},
     "output_type": "display_data"
    },
    {
     "name": "stdout",
     "output_type": "stream",
     "text": [
      "\n",
      "['SOS', 'im', 'sad', 'EOS']\n",
      "['SOS', 'sunt', 'trist', 'EOS']\n",
      "---\n",
      "['SOS', 'youre', 'old', 'EOS']\n",
      "['SOS', 'esti', 'in', 'varsta', 'esti']\n",
      "---\n",
      "['SOS', 'a', 'nerd', 'is', 'you', 'EOS']\n",
      "['SOS', 'tom', 'este', 'bine', 'EOS']\n",
      "---\n",
      "16.26546903885901\n"
     ]
    },
    {
     "data": {
      "application/vnd.jupyter.widget-view+json": {
       "model_id": "c50d1211f1e74684889b7800a23c0c9a",
       "version_major": 2,
       "version_minor": 0
      },
      "text/plain": [
       "HBox(children=(FloatProgress(value=0.0, max=173.0), HTML(value='')))"
      ]
     },
     "metadata": {},
     "output_type": "display_data"
    },
    {
     "name": "stdout",
     "output_type": "stream",
     "text": [
      "\n",
      "['SOS', 'im', 'sad', 'EOS']\n",
      "['SOS', 'sunt', 'trist', 'EOS']\n",
      "---\n",
      "['SOS', 'youre', 'old', 'EOS']\n",
      "['SOS', 'esti', 'in', 'varsta', 'esti']\n",
      "---\n",
      "['SOS', 'a', 'nerd', 'is', 'you', 'EOS']\n",
      "['SOS', 'cine', 'este', 'bine', 'EOS']\n",
      "---\n",
      "16.22011829353869\n"
     ]
    },
    {
     "data": {
      "application/vnd.jupyter.widget-view+json": {
       "model_id": "5113cfabd2f545f5bb17fc8df66667ed",
       "version_major": 2,
       "version_minor": 0
      },
      "text/plain": [
       "HBox(children=(FloatProgress(value=0.0, max=173.0), HTML(value='')))"
      ]
     },
     "metadata": {},
     "output_type": "display_data"
    },
    {
     "name": "stdout",
     "output_type": "stream",
     "text": [
      "\n",
      "['SOS', 'im', 'sad', 'EOS']\n",
      "['SOS', 'sunt', 'trist', 'EOS']\n",
      "---\n",
      "['SOS', 'youre', 'old', 'EOS']\n",
      "['SOS', 'esti', 'in', 'varsta', 'esti']\n",
      "---\n",
      "['SOS', 'a', 'nerd', 'is', 'you', 'EOS']\n",
      "['SOS', 'intreabal', 'acolo', 'EOS']\n",
      "---\n",
      "16.417721573263407\n"
     ]
    },
    {
     "data": {
      "application/vnd.jupyter.widget-view+json": {
       "model_id": "975061eb1a4a41f8b6149d2017d7cf6f",
       "version_major": 2,
       "version_minor": 0
      },
      "text/plain": [
       "HBox(children=(FloatProgress(value=0.0, max=173.0), HTML(value='')))"
      ]
     },
     "metadata": {},
     "output_type": "display_data"
    },
    {
     "name": "stdout",
     "output_type": "stream",
     "text": [
      "\n",
      "['SOS', 'im', 'sad', 'EOS']\n",
      "['SOS', 'sunt', 'trist', 'EOS']\n",
      "---\n",
      "['SOS', 'youre', 'old', 'EOS']\n",
      "['SOS', 'esti', 'in', 'varsta', 'esti']\n",
      "---\n",
      "['SOS', 'a', 'nerd', 'is', 'you', 'EOS']\n",
      "['SOS', 'tom', 'este', 'bine', 'EOS']\n",
      "---\n",
      "16.23231608234346\n"
     ]
    },
    {
     "data": {
      "application/vnd.jupyter.widget-view+json": {
       "model_id": "942bf45d8afa4f96b0c42652221218b1",
       "version_major": 2,
       "version_minor": 0
      },
      "text/plain": [
       "HBox(children=(FloatProgress(value=0.0, max=173.0), HTML(value='')))"
      ]
     },
     "metadata": {},
     "output_type": "display_data"
    },
    {
     "name": "stdout",
     "output_type": "stream",
     "text": [
      "\n",
      "['SOS', 'im', 'sad', 'EOS']\n",
      "['SOS', 'sunt', 'trist', 'EOS']\n",
      "---\n",
      "['SOS', 'youre', 'old', 'EOS']\n",
      "['SOS', 'esti', 'in', 'varsta', 'esti']\n",
      "---\n",
      "['SOS', 'a', 'nerd', 'is', 'you', 'EOS']\n",
      "['SOS', 'intreabal', 'pe', 'tocilar', 'EOS']\n",
      "---\n",
      "16.208116685971618\n"
     ]
    },
    {
     "data": {
      "application/vnd.jupyter.widget-view+json": {
       "model_id": "11e95e77b17742c59d3b66d0b850925a",
       "version_major": 2,
       "version_minor": 0
      },
      "text/plain": [
       "HBox(children=(FloatProgress(value=0.0, max=173.0), HTML(value='')))"
      ]
     },
     "metadata": {},
     "output_type": "display_data"
    },
    {
     "name": "stdout",
     "output_type": "stream",
     "text": [
      "\n",
      "['SOS', 'im', 'sad', 'EOS']\n",
      "['SOS', 'sunt', 'trist', 'EOS']\n",
      "---\n",
      "['SOS', 'youre', 'old', 'EOS']\n",
      "['SOS', 'esti', 'in', 'varsta', 'esti']\n",
      "---\n",
      "['SOS', 'a', 'nerd', 'is', 'you', 'EOS']\n",
      "['SOS', 'este', 'un', 'tocilar', 'EOS']\n",
      "---\n",
      "16.22038024291396\n"
     ]
    },
    {
     "data": {
      "application/vnd.jupyter.widget-view+json": {
       "model_id": "51bdcd5bf28a43dc91f52f4c2fd60b52",
       "version_major": 2,
       "version_minor": 0
      },
      "text/plain": [
       "HBox(children=(FloatProgress(value=0.0, max=173.0), HTML(value='')))"
      ]
     },
     "metadata": {},
     "output_type": "display_data"
    },
    {
     "name": "stdout",
     "output_type": "stream",
     "text": [
      "\n",
      "['SOS', 'im', 'sad', 'EOS']\n",
      "['SOS', 'sunt', 'trist', 'EOS']\n",
      "---\n",
      "['SOS', 'youre', 'old', 'EOS']\n",
      "['SOS', 'esti', 'in', 'varsta', 'esti']\n",
      "---\n",
      "['SOS', 'a', 'nerd', 'is', 'you', 'EOS']\n",
      "['SOS', 'este', 'un', 'tocilar', 'EOS']\n",
      "---\n",
      "16.221294049173594\n"
     ]
    },
    {
     "data": {
      "application/vnd.jupyter.widget-view+json": {
       "model_id": "daaa68a1b4be453985bbbca691ba131a",
       "version_major": 2,
       "version_minor": 0
      },
      "text/plain": [
       "HBox(children=(FloatProgress(value=0.0, max=173.0), HTML(value='')))"
      ]
     },
     "metadata": {},
     "output_type": "display_data"
    },
    {
     "name": "stdout",
     "output_type": "stream",
     "text": [
      "\n",
      "['SOS', 'im', 'sad', 'EOS']\n",
      "['SOS', 'sunt', 'trist', 'EOS']\n",
      "---\n",
      "['SOS', 'youre', 'old', 'EOS']\n",
      "['SOS', 'esti', 'in', 'varsta', 'esti']\n",
      "---\n",
      "['SOS', 'a', 'nerd', 'is', 'you', 'EOS']\n",
      "['SOS', 'este', 'un', 'tocilar', 'EOS']\n",
      "---\n",
      "16.22891672886908\n"
     ]
    },
    {
     "data": {
      "application/vnd.jupyter.widget-view+json": {
       "model_id": "a0a965176b6e4590bd1c75482f46fe40",
       "version_major": 2,
       "version_minor": 0
      },
      "text/plain": [
       "HBox(children=(FloatProgress(value=0.0, max=173.0), HTML(value='')))"
      ]
     },
     "metadata": {},
     "output_type": "display_data"
    },
    {
     "name": "stdout",
     "output_type": "stream",
     "text": [
      "\n",
      "['SOS', 'im', 'sad', 'EOS']\n",
      "['SOS', 'sunt', 'trist', 'EOS']\n",
      "---\n",
      "['SOS', 'youre', 'old', 'EOS']\n",
      "['SOS', 'esti', 'in', 'varsta', 'esti']\n",
      "---\n",
      "['SOS', 'a', 'nerd', 'is', 'you', 'EOS']\n",
      "['SOS', 'tom', 'este', 'bine', 'EOS']\n",
      "---\n",
      "16.404483722522855\n"
     ]
    },
    {
     "data": {
      "application/vnd.jupyter.widget-view+json": {
       "model_id": "5f8b6a06ea4e47d0aa3638ddaa7a9d99",
       "version_major": 2,
       "version_minor": 0
      },
      "text/plain": [
       "HBox(children=(FloatProgress(value=0.0, max=173.0), HTML(value='')))"
      ]
     },
     "metadata": {},
     "output_type": "display_data"
    },
    {
     "name": "stdout",
     "output_type": "stream",
     "text": [
      "\n",
      "['SOS', 'im', 'sad', 'EOS']\n",
      "['SOS', 'sunt', 'trist', 'EOS']\n",
      "---\n",
      "['SOS', 'youre', 'old', 'EOS']\n",
      "['SOS', 'esti', 'in', 'varsta', 'esti']\n",
      "---\n",
      "['SOS', 'a', 'nerd', 'is', 'you', 'EOS']\n",
      "['SOS', 'este', 'un', 'tocilar', 'EOS']\n",
      "---\n",
      "16.22203062660992\n"
     ]
    },
    {
     "data": {
      "application/vnd.jupyter.widget-view+json": {
       "model_id": "38be687285454808ad0430da1d6c5e65",
       "version_major": 2,
       "version_minor": 0
      },
      "text/plain": [
       "HBox(children=(FloatProgress(value=0.0, max=173.0), HTML(value='')))"
      ]
     },
     "metadata": {},
     "output_type": "display_data"
    },
    {
     "name": "stdout",
     "output_type": "stream",
     "text": [
      "\n",
      "['SOS', 'im', 'sad', 'EOS']\n",
      "['SOS', 'sunt', 'trist', 'EOS']\n",
      "---\n",
      "['SOS', 'youre', 'old', 'EOS']\n",
      "['SOS', 'esti', 'in', 'varsta', 'esti']\n",
      "---\n",
      "['SOS', 'a', 'nerd', 'is', 'you', 'EOS']\n",
      "['SOS', 'tom', 'este', 'bine', 'EOS']\n",
      "---\n",
      "16.243920776993036\n"
     ]
    },
    {
     "data": {
      "application/vnd.jupyter.widget-view+json": {
       "model_id": "347e6447d727442bba2fe79428a6403e",
       "version_major": 2,
       "version_minor": 0
      },
      "text/plain": [
       "HBox(children=(FloatProgress(value=0.0, max=173.0), HTML(value='')))"
      ]
     },
     "metadata": {},
     "output_type": "display_data"
    },
    {
     "name": "stdout",
     "output_type": "stream",
     "text": [
      "\n",
      "['SOS', 'im', 'sad', 'EOS']\n",
      "['SOS', 'sunt', 'trist', 'EOS']\n",
      "---\n",
      "['SOS', 'youre', 'old', 'EOS']\n",
      "['SOS', 'esti', 'in', 'varsta', 'esti']\n",
      "---\n",
      "['SOS', 'a', 'nerd', 'is', 'you', 'EOS']\n",
      "['SOS', 'alege', 'cu', 'mine', 'EOS']\n",
      "---\n",
      "16.187489027157426\n"
     ]
    },
    {
     "data": {
      "application/vnd.jupyter.widget-view+json": {
       "model_id": "b28bf246f20e41ba8fe7196e66b05390",
       "version_major": 2,
       "version_minor": 0
      },
      "text/plain": [
       "HBox(children=(FloatProgress(value=0.0, max=173.0), HTML(value='')))"
      ]
     },
     "metadata": {},
     "output_type": "display_data"
    },
    {
     "name": "stdout",
     "output_type": "stream",
     "text": [
      "\n",
      "['SOS', 'im', 'sad', 'EOS']\n",
      "['SOS', 'sunt', 'trist', 'EOS']\n",
      "---\n",
      "['SOS', 'youre', 'old', 'EOS']\n",
      "['SOS', 'esti', 'in', 'varsta', 'esti']\n",
      "---\n",
      "['SOS', 'a', 'nerd', 'is', 'you', 'EOS']\n",
      "['SOS', 'ce', 'tocilar', 'EOS']\n",
      "---\n",
      "16.235465213656425\n"
     ]
    },
    {
     "data": {
      "application/vnd.jupyter.widget-view+json": {
       "model_id": "5e173d5b88bd4957ac27761c2d74d680",
       "version_major": 2,
       "version_minor": 0
      },
      "text/plain": [
       "HBox(children=(FloatProgress(value=0.0, max=173.0), HTML(value='')))"
      ]
     },
     "metadata": {},
     "output_type": "display_data"
    },
    {
     "name": "stdout",
     "output_type": "stream",
     "text": [
      "\n",
      "['SOS', 'im', 'sad', 'EOS']\n",
      "['SOS', 'sunt', 'trist', 'EOS']\n",
      "---\n",
      "['SOS', 'youre', 'old', 'EOS']\n",
      "['SOS', 'esti', 'in', 'varsta', 'esti']\n",
      "---\n",
      "['SOS', 'a', 'nerd', 'is', 'you', 'EOS']\n",
      "['SOS', 'ce', 'mai', 'faci', 'EOS']\n",
      "---\n",
      "16.208562469109893\n"
     ]
    },
    {
     "data": {
      "application/vnd.jupyter.widget-view+json": {
       "model_id": "6e0ac1e8b12d4097b0a1106764f76120",
       "version_major": 2,
       "version_minor": 0
      },
      "text/plain": [
       "HBox(children=(FloatProgress(value=0.0, max=173.0), HTML(value='')))"
      ]
     },
     "metadata": {},
     "output_type": "display_data"
    },
    {
     "name": "stdout",
     "output_type": "stream",
     "text": [
      "\n",
      "['SOS', 'im', 'sad', 'EOS']\n",
      "['SOS', 'sunt', 'trist', 'EOS']\n",
      "---\n",
      "['SOS', 'youre', 'old', 'EOS']\n",
      "['SOS', 'esti', 'in', 'varsta', 'esti']\n",
      "---\n",
      "['SOS', 'a', 'nerd', 'is', 'you', 'EOS']\n",
      "['SOS', 'tom', 'este', 'bine', 'EOS']\n",
      "---\n",
      "16.253539027646184\n"
     ]
    },
    {
     "data": {
      "application/vnd.jupyter.widget-view+json": {
       "model_id": "ee1f46ecaed74583b3f7288f01036a8c",
       "version_major": 2,
       "version_minor": 0
      },
      "text/plain": [
       "HBox(children=(FloatProgress(value=0.0, max=173.0), HTML(value='')))"
      ]
     },
     "metadata": {},
     "output_type": "display_data"
    },
    {
     "name": "stdout",
     "output_type": "stream",
     "text": [
      "\n",
      "['SOS', 'im', 'sad', 'EOS']\n",
      "['SOS', 'sunt', 'trist', 'EOS']\n",
      "---\n",
      "['SOS', 'youre', 'old', 'EOS']\n",
      "['SOS', 'esti', 'in', 'varsta', 'esti']\n",
      "---\n",
      "['SOS', 'a', 'nerd', 'is', 'you', 'EOS']\n",
      "['SOS', 'un', 'tocilar', 'tocilar', 'EOS']\n",
      "---\n",
      "16.22534217685461\n"
     ]
    },
    {
     "data": {
      "application/vnd.jupyter.widget-view+json": {
       "model_id": "7782b19f85f0480a959a13713d5fe389",
       "version_major": 2,
       "version_minor": 0
      },
      "text/plain": [
       "HBox(children=(FloatProgress(value=0.0, max=173.0), HTML(value='')))"
      ]
     },
     "metadata": {},
     "output_type": "display_data"
    },
    {
     "name": "stdout",
     "output_type": "stream",
     "text": [
      "\n",
      "['SOS', 'im', 'sad', 'EOS']\n",
      "['SOS', 'sunt', 'trist', 'EOS']\n",
      "---\n",
      "['SOS', 'youre', 'old', 'EOS']\n",
      "['SOS', 'esti', 'in', 'varsta', 'esti']\n",
      "---\n",
      "['SOS', 'a', 'nerd', 'is', 'you', 'EOS']\n",
      "['SOS', 'tocilar', 'este', 'bine', 'EOS']\n",
      "---\n",
      "16.377218844369054\n"
     ]
    },
    {
     "data": {
      "application/vnd.jupyter.widget-view+json": {
       "model_id": "825e0160258440d68f9ad324fc345d19",
       "version_major": 2,
       "version_minor": 0
      },
      "text/plain": [
       "HBox(children=(FloatProgress(value=0.0, max=173.0), HTML(value='')))"
      ]
     },
     "metadata": {},
     "output_type": "display_data"
    },
    {
     "name": "stdout",
     "output_type": "stream",
     "text": [
      "\n",
      "['SOS', 'im', 'sad', 'EOS']\n",
      "['SOS', 'sunt', 'trist', 'EOS']\n",
      "---\n",
      "['SOS', 'youre', 'old', 'EOS']\n",
      "['SOS', 'esti', 'in', 'varsta', 'esti']\n",
      "---\n",
      "['SOS', 'a', 'nerd', 'is', 'you', 'EOS']\n",
      "['SOS', 'alege', 'de', 'tocilar', 'EOS']\n",
      "---\n",
      "16.23803778924048\n"
     ]
    },
    {
     "data": {
      "application/vnd.jupyter.widget-view+json": {
       "model_id": "aabd8705d72448ed9d4022c2ca9ed38f",
       "version_major": 2,
       "version_minor": 0
      },
      "text/plain": [
       "HBox(children=(FloatProgress(value=0.0, max=173.0), HTML(value='')))"
      ]
     },
     "metadata": {},
     "output_type": "display_data"
    },
    {
     "name": "stdout",
     "output_type": "stream",
     "text": [
      "\n",
      "['SOS', 'im', 'sad', 'EOS']\n",
      "['SOS', 'sunt', 'trist', 'EOS']\n",
      "---\n",
      "['SOS', 'youre', 'old', 'EOS']\n",
      "['SOS', 'esti', 'in', 'varsta', 'esti']\n",
      "---\n",
      "['SOS', 'a', 'nerd', 'is', 'you', 'EOS']\n",
      "['SOS', 'tom', 'este', 'bine', 'EOS']\n",
      "---\n",
      "16.223932282999158\n"
     ]
    },
    {
     "data": {
      "application/vnd.jupyter.widget-view+json": {
       "model_id": "36e150bfe7444383a5911d8e2f078d05",
       "version_major": 2,
       "version_minor": 0
      },
      "text/plain": [
       "HBox(children=(FloatProgress(value=0.0, max=173.0), HTML(value='')))"
      ]
     },
     "metadata": {},
     "output_type": "display_data"
    },
    {
     "name": "stdout",
     "output_type": "stream",
     "text": [
      "\n",
      "['SOS', 'im', 'sad', 'EOS']\n",
      "['SOS', 'sunt', 'trist', 'EOS']\n",
      "---\n",
      "['SOS', 'youre', 'old', 'EOS']\n",
      "['SOS', 'esti', 'in', 'varsta', 'esti']\n",
      "---\n",
      "['SOS', 'a', 'nerd', 'is', 'you', 'EOS']\n",
      "['SOS', 'tom', 'este', 'bine', 'EOS']\n",
      "---\n",
      "16.258391002193093\n"
     ]
    },
    {
     "data": {
      "application/vnd.jupyter.widget-view+json": {
       "model_id": "32694dc4144a4c759fac1640791b1167",
       "version_major": 2,
       "version_minor": 0
      },
      "text/plain": [
       "HBox(children=(FloatProgress(value=0.0, max=173.0), HTML(value='')))"
      ]
     },
     "metadata": {},
     "output_type": "display_data"
    },
    {
     "name": "stdout",
     "output_type": "stream",
     "text": [
      "\n",
      "['SOS', 'im', 'sad', 'EOS']\n",
      "['SOS', 'sunt', 'trist', 'EOS']\n",
      "---\n",
      "['SOS', 'youre', 'old', 'EOS']\n",
      "['SOS', 'esti', 'in', 'varsta', 'esti']\n",
      "---\n",
      "['SOS', 'a', 'nerd', 'is', 'you', 'EOS']\n",
      "['SOS', 'este', 'un', 'tocilar', 'EOS']\n",
      "---\n",
      "16.22169029712677\n"
     ]
    },
    {
     "data": {
      "application/vnd.jupyter.widget-view+json": {
       "model_id": "2cfec4173387430e99a4c3eb35a42281",
       "version_major": 2,
       "version_minor": 0
      },
      "text/plain": [
       "HBox(children=(FloatProgress(value=0.0, max=173.0), HTML(value='')))"
      ]
     },
     "metadata": {},
     "output_type": "display_data"
    },
    {
     "name": "stdout",
     "output_type": "stream",
     "text": [
      "\n",
      "['SOS', 'im', 'sad', 'EOS']\n",
      "['SOS', 'sunt', 'trist', 'EOS']\n",
      "---\n",
      "['SOS', 'youre', 'old', 'EOS']\n",
      "['SOS', 'esti', 'in', 'varsta', 'esti']\n",
      "---\n",
      "['SOS', 'a', 'nerd', 'is', 'you', 'EOS']\n",
      "['SOS', 'zambeste', 'sa', 'tocilar', 'EOS']\n",
      "---\n",
      "16.222852312028408\n"
     ]
    },
    {
     "data": {
      "application/vnd.jupyter.widget-view+json": {
       "model_id": "6d4e1cb386794b29bb4152c899d3cb28",
       "version_major": 2,
       "version_minor": 0
      },
      "text/plain": [
       "HBox(children=(FloatProgress(value=0.0, max=173.0), HTML(value='')))"
      ]
     },
     "metadata": {},
     "output_type": "display_data"
    },
    {
     "name": "stdout",
     "output_type": "stream",
     "text": [
      "\n",
      "['SOS', 'im', 'sad', 'EOS']\n",
      "['SOS', 'sunt', 'trist', 'EOS']\n",
      "---\n",
      "['SOS', 'youre', 'old', 'EOS']\n",
      "['SOS', 'esti', 'in', 'varsta', 'esti']\n",
      "---\n",
      "['SOS', 'a', 'nerd', 'is', 'you', 'EOS']\n",
      "['SOS', 'vorbeste', 'cu', 'mine', 'EOS']\n",
      "---\n",
      "16.22476358152926\n"
     ]
    },
    {
     "data": {
      "application/vnd.jupyter.widget-view+json": {
       "model_id": "eb84de8af79a4dedbcb32e933b100e2a",
       "version_major": 2,
       "version_minor": 0
      },
      "text/plain": [
       "HBox(children=(FloatProgress(value=0.0, max=173.0), HTML(value='')))"
      ]
     },
     "metadata": {},
     "output_type": "display_data"
    },
    {
     "name": "stdout",
     "output_type": "stream",
     "text": [
      "\n",
      "['SOS', 'im', 'sad', 'EOS']\n",
      "['SOS', 'sunt', 'trist', 'EOS']\n",
      "---\n",
      "['SOS', 'youre', 'old', 'EOS']\n",
      "['SOS', 'esti', 'in', 'varsta', 'esti']\n",
      "---\n",
      "['SOS', 'a', 'nerd', 'is', 'you', 'EOS']\n",
      "['SOS', 'este', 'un', 'tocilar', 'EOS']\n",
      "---\n",
      "16.303856967017055\n"
     ]
    },
    {
     "data": {
      "application/vnd.jupyter.widget-view+json": {
       "model_id": "cbb96921aefa441db1adb258228dd407",
       "version_major": 2,
       "version_minor": 0
      },
      "text/plain": [
       "HBox(children=(FloatProgress(value=0.0, max=173.0), HTML(value='')))"
      ]
     },
     "metadata": {},
     "output_type": "display_data"
    },
    {
     "name": "stdout",
     "output_type": "stream",
     "text": [
      "\n",
      "['SOS', 'im', 'sad', 'EOS']\n",
      "['SOS', 'sunt', 'trist', 'EOS']\n",
      "---\n",
      "['SOS', 'youre', 'old', 'EOS']\n",
      "['SOS', 'esti', 'in', 'varsta', 'esti']\n",
      "---\n",
      "['SOS', 'a', 'nerd', 'is', 'you', 'EOS']\n",
      "['SOS', 'tom', 'este', 'bine', 'EOS']\n",
      "---\n",
      "16.181831069290638\n"
     ]
    },
    {
     "data": {
      "application/vnd.jupyter.widget-view+json": {
       "model_id": "c84ec43ee820482690cdfd54731e2992",
       "version_major": 2,
       "version_minor": 0
      },
      "text/plain": [
       "HBox(children=(FloatProgress(value=0.0, max=173.0), HTML(value='')))"
      ]
     },
     "metadata": {},
     "output_type": "display_data"
    },
    {
     "name": "stdout",
     "output_type": "stream",
     "text": [
      "\n",
      "['SOS', 'im', 'sad', 'EOS']\n",
      "['SOS', 'sunt', 'trist', 'EOS']\n",
      "---\n",
      "['SOS', 'youre', 'old', 'EOS']\n",
      "['SOS', 'esti', 'in', 'varsta', 'esti']\n",
      "---\n",
      "['SOS', 'a', 'nerd', 'is', 'you', 'EOS']\n",
      "['SOS', 'un', 'tocilar', 'EOS']\n",
      "---\n",
      "16.231704210862517\n"
     ]
    },
    {
     "data": {
      "application/vnd.jupyter.widget-view+json": {
       "model_id": "2337deb40a92461c95af6b4937f4c151",
       "version_major": 2,
       "version_minor": 0
      },
      "text/plain": [
       "HBox(children=(FloatProgress(value=0.0, max=173.0), HTML(value='')))"
      ]
     },
     "metadata": {},
     "output_type": "display_data"
    },
    {
     "name": "stdout",
     "output_type": "stream",
     "text": [
      "\n",
      "['SOS', 'im', 'sad', 'EOS']\n",
      "['SOS', 'sunt', 'trist', 'EOS']\n",
      "---\n",
      "['SOS', 'youre', 'old', 'EOS']\n",
      "['SOS', 'esti', 'in', 'varsta', 'esti']\n",
      "---\n",
      "['SOS', 'a', 'nerd', 'is', 'you', 'EOS']\n",
      "['SOS', 'tom', 'este', 'bine', 'EOS']\n",
      "---\n",
      "16.240105843171477\n"
     ]
    },
    {
     "data": {
      "application/vnd.jupyter.widget-view+json": {
       "model_id": "30af73620fd4435fbc2a7a3c2431bd5a",
       "version_major": 2,
       "version_minor": 0
      },
      "text/plain": [
       "HBox(children=(FloatProgress(value=0.0, max=173.0), HTML(value='')))"
      ]
     },
     "metadata": {},
     "output_type": "display_data"
    },
    {
     "name": "stdout",
     "output_type": "stream",
     "text": [
      "\n",
      "['SOS', 'im', 'sad', 'EOS']\n",
      "['SOS', 'sunt', 'trist', 'EOS']\n",
      "---\n",
      "['SOS', 'youre', 'old', 'EOS']\n",
      "['SOS', 'esti', 'in', 'varsta', 'esti']\n",
      "---\n",
      "['SOS', 'a', 'nerd', 'is', 'you', 'EOS']\n",
      "['SOS', 'pot', 'sa', 'inot', 'EOS']\n",
      "---\n",
      "16.15995235554874\n"
     ]
    },
    {
     "data": {
      "application/vnd.jupyter.widget-view+json": {
       "model_id": "5df990df91964a47bc2b5167c6e17258",
       "version_major": 2,
       "version_minor": 0
      },
      "text/plain": [
       "HBox(children=(FloatProgress(value=0.0, max=173.0), HTML(value='')))"
      ]
     },
     "metadata": {},
     "output_type": "display_data"
    },
    {
     "name": "stdout",
     "output_type": "stream",
     "text": [
      "\n",
      "['SOS', 'im', 'sad', 'EOS']\n",
      "['SOS', 'sunt', 'trist', 'EOS']\n",
      "---\n",
      "['SOS', 'youre', 'old', 'EOS']\n",
      "['SOS', 'esti', 'in', 'varsta', 'esti']\n",
      "---\n",
      "['SOS', 'a', 'nerd', 'is', 'you', 'EOS']\n",
      "['SOS', 'este', 'un', 'tocilar', 'EOS']\n",
      "---\n",
      "16.2938758097589\n"
     ]
    },
    {
     "data": {
      "application/vnd.jupyter.widget-view+json": {
       "model_id": "07b59b3a1f124e0d8703e87d9bcdb7d4",
       "version_major": 2,
       "version_minor": 0
      },
      "text/plain": [
       "HBox(children=(FloatProgress(value=0.0, max=173.0), HTML(value='')))"
      ]
     },
     "metadata": {},
     "output_type": "display_data"
    },
    {
     "name": "stdout",
     "output_type": "stream",
     "text": [
      "\n",
      "['SOS', 'im', 'sad', 'EOS']\n",
      "['SOS', 'sunt', 'trist', 'EOS']\n",
      "---\n",
      "['SOS', 'youre', 'old', 'EOS']\n",
      "['SOS', 'esti', 'in', 'varsta', 'esti']\n",
      "---\n",
      "['SOS', 'a', 'nerd', 'is', 'you', 'EOS']\n",
      "['SOS', 'cine', 'este', 'bine', 'EOS']\n",
      "---\n",
      "16.227296827360988\n"
     ]
    },
    {
     "data": {
      "application/vnd.jupyter.widget-view+json": {
       "model_id": "2e49ee7a2f934d9994f5ac39165dd392",
       "version_major": 2,
       "version_minor": 0
      },
      "text/plain": [
       "HBox(children=(FloatProgress(value=0.0, max=173.0), HTML(value='')))"
      ]
     },
     "metadata": {},
     "output_type": "display_data"
    },
    {
     "name": "stdout",
     "output_type": "stream",
     "text": [
      "\n",
      "['SOS', 'im', 'sad', 'EOS']\n",
      "['SOS', 'sunt', 'trist', 'EOS']\n",
      "---\n",
      "['SOS', 'youre', 'old', 'EOS']\n",
      "['SOS', 'esti', 'in', 'varsta', 'esti']\n",
      "---\n",
      "['SOS', 'a', 'nerd', 'is', 'you', 'EOS']\n",
      "['SOS', 'tom', 'este', 'bine', 'EOS']\n",
      "---\n",
      "16.25712545402348\n"
     ]
    },
    {
     "data": {
      "application/vnd.jupyter.widget-view+json": {
       "model_id": "656183f2393e40f2842f20ba8407ff19",
       "version_major": 2,
       "version_minor": 0
      },
      "text/plain": [
       "HBox(children=(FloatProgress(value=0.0, max=173.0), HTML(value='')))"
      ]
     },
     "metadata": {},
     "output_type": "display_data"
    }
   ],
   "source": [
    "def train():\n",
    "    \n",
    "    NR_EPOCHS = 1500\n",
    "    for i in range(NR_EPOCHS):\n",
    "        loss = 0\n",
    "        for i in tqdm_notebook(range(len(util.data[::64]))):\n",
    "            batch = util.data[i:i+64]\n",
    "            input_batch = [x[0] for x in batch]\n",
    "            target_batch = [x[1] for x in batch]\n",
    "\n",
    "            sentence = torch.zeros(64, 100).type(torch.LongTensor).to(device)\n",
    "            target = torch.zeros(64, 100).type(torch.LongTensor).to(device)\n",
    "            \n",
    "            for i, x in enumerate(input_batch):\n",
    "                sentence[i, 0:len(x)+2] = util.get_values_input(x).to(device)\n",
    "            for i, x in enumerate(target_batch):\n",
    "                target[i, 0:len(x)+2] = util.get_values_out(x).to(device)\n",
    "            \n",
    "            loss += learn(sentence, target)\n",
    "            #break\n",
    "        #break\n",
    "        test_sentence()\n",
    "        print(loss)\n",
    "train()"
   ]
  },
  {
   "cell_type": "code",
   "execution_count": 177,
   "metadata": {},
   "outputs": [
    {
     "data": {
      "text/plain": [
       "{'PAD': 0,\n",
       " 'SOS': 1,\n",
       " 'EOS': 2,\n",
       " 'hi': 3,\n",
       " 'run': 4,\n",
       " 'who': 5,\n",
       " 'fire': 6,\n",
       " 'help': 7,\n",
       " 'jump': 8,\n",
       " 'stop': 9,\n",
       " 'wait': 10,\n",
       " 'hello': 11,\n",
       " 'hurry': 12,\n",
       " 'relax': 13,\n",
       " 'smile': 14,\n",
       " 'attack': 15,\n",
       " 'cheers': 16,\n",
       " 'freeze': 17,\n",
       " 'get': 18,\n",
       " 'up': 19,\n",
       " 'really': 20,\n",
       " 'ask': 21,\n",
       " 'tom': 22,\n",
       " 'awesome': 23,\n",
       " 'call': 24,\n",
       " 'me': 25,\n",
       " 'out': 26,\n",
       " 'go': 27,\n",
       " 'away': 28,\n",
       " 'goodbye': 29,\n",
       " 'hold': 30,\n",
       " 'on': 31,\n",
       " 'i': 32,\n",
       " 'agree': 33,\n",
       " 'im': 34,\n",
       " 'ill': 35,\n",
       " 'sad': 36,\n",
       " 'its': 37,\n",
       " 'ok': 38,\n",
       " 'keep': 39,\n",
       " 'it': 40,\n",
       " 'open': 41,\n",
       " 'perfect': 42,\n",
       " 'tell': 43,\n",
       " 'why': 44,\n",
       " 'not': 45,\n",
       " 'grab': 46,\n",
       " 'him': 47,\n",
       " 'how': 48,\n",
       " 'cute': 49,\n",
       " 'pay': 50,\n",
       " 'back': 51,\n",
       " 'calm': 52,\n",
       " 'free': 53,\n",
       " 'here': 54,\n",
       " 'home': 55,\n",
       " 'numb': 56,\n",
       " 'sick': 57,\n",
       " 'hurts': 58,\n",
       " 'marry': 59,\n",
       " 'may': 60,\n",
       " 'terrific': 61,\n",
       " 'fled': 62,\n",
       " 'left': 63,\n",
       " 'too': 64,\n",
       " 'late': 65,\n",
       " 'trust': 66,\n",
       " 'use': 67,\n",
       " 'this': 68,\n",
       " 'fell': 69,\n",
       " 'paid': 70,\n",
       " 'bless': 71,\n",
       " 'you': 72,\n",
       " 'down': 73,\n",
       " 'come': 74,\n",
       " 'dont': 75,\n",
       " 'fantastic': 76,\n",
       " 'he': 77,\n",
       " 'is': 78,\n",
       " 'hes': 79,\n",
       " 'fast': 80,\n",
       " 'am': 81,\n",
       " 'beg': 82,\n",
       " 'can': 83,\n",
       " 'ski': 84,\n",
       " 'win': 85,\n",
       " 'hope': 86,\n",
       " 'so': 87,\n",
       " 'will': 88,\n",
       " 'lose': 89,\n",
       " 'bored': 90,\n",
       " 'drunk': 91,\n",
       " 'happy': 92,\n",
       " 'sorry': 93,\n",
       " 'tired': 94,\n",
       " 'bad': 95,\n",
       " 'far': 96,\n",
       " 'snowed': 97,\n",
       " 'cold': 98,\n",
       " 'easy': 99,\n",
       " 'cool': 100,\n",
       " 'that': 101,\n",
       " 'them': 102,\n",
       " 'warm': 103,\n",
       " 'look': 104,\n",
       " 'pardon': 105,\n",
       " 'seriously': 106,\n",
       " 'she': 107,\n",
       " 'cried': 108,\n",
       " 'sit': 109,\n",
       " 'there': 110,\n",
       " 'stay': 111,\n",
       " 'take': 112,\n",
       " 'care': 113,\n",
       " 'they': 114,\n",
       " 'toms': 115,\n",
       " 'shy': 116,\n",
       " 'we': 117,\n",
       " 'waited': 118,\n",
       " 'choose': 119,\n",
       " 'one': 120,\n",
       " 'definitely': 121,\n",
       " 'did': 122,\n",
       " 'do': 123,\n",
       " 'in': 124,\n",
       " 'kind': 125,\n",
       " 'made': 126,\n",
       " 'doubt': 127,\n",
       " 'got': 128,\n",
       " 'know': 129,\n",
       " 'now': 130,\n",
       " 'love': 131,\n",
       " 'miss': 132,\n",
       " 'ran': 133,\n",
       " 'want': 134,\n",
       " 'was': 135,\n",
       " 'coming': 136,\n",
       " 'scared': 137,\n",
       " 'sleepy': 138,\n",
       " 'fat': 139,\n",
       " 'going': 140,\n",
       " 'notes': 141,\n",
       " 'quiet': 142,\n",
       " 'still': 143,\n",
       " 'swim': 144,\n",
       " 'no': 145,\n",
       " 'kidding': 146,\n",
       " 'problem': 147,\n",
       " 'shes': 148,\n",
       " 'busy': 149,\n",
       " 'talk': 150,\n",
       " 'to': 151,\n",
       " 'looked': 152,\n",
       " 'weak': 153,\n",
       " 'well': 154,\n",
       " 'were': 155,\n",
       " 'even': 156,\n",
       " 'where': 157,\n",
       " 'winked': 158,\n",
       " 'whos': 159,\n",
       " 'next': 160,\n",
       " 'youre': 161,\n",
       " 'old': 162,\n",
       " 'are': 163,\n",
       " 'mad': 164,\n",
       " 'be': 165,\n",
       " 'watchful': 166,\n",
       " 'panic': 167,\n",
       " 'with': 168,\n",
       " 'a': 169,\n",
       " 'nerd': 170,\n",
       " 'strong': 171,\n",
       " 'adore': 172,\n",
       " 'taller': 173,\n",
       " 'came': 174,\n",
       " 'cant': 175,\n",
       " 'eat': 176,\n",
       " 'fly': 177,\n",
       " 'bread': 178,\n",
       " 'feel': 179,\n",
       " 'felt': 180,\n",
       " 'had': 181,\n",
       " 'heard': 182,\n",
       " 'like': 183,\n",
       " 'jazz': 184,\n",
       " 'rock': 185,\n",
       " 'snow': 186,\n",
       " 'golf': 187,\n",
       " 'must': 188,\n",
       " 'hide': 189,\n",
       " 'need': 190,\n",
       " 'mine': 191,\n",
       " 'right': 192,\n",
       " 'work': 193,\n",
       " 'wont': 194,\n",
       " 'die': 195,\n",
       " 'nurse': 196,\n",
       " 'at': 197,\n",
       " 'curious': 198,\n",
       " 'married': 199,\n",
       " 'nervous': 200,\n",
       " 'serious': 201,\n",
       " 'starved': 202,\n",
       " 'thirsty': 203,\n",
       " 'white': 204,\n",
       " 'moving': 205,\n",
       " 'trying': 206,\n",
       " 'let': 207,\n",
       " 'lets': 208,\n",
       " 'make': 209,\n",
       " 'list': 210,\n",
       " 'wish': 211,\n",
       " 'nobody': 212,\n",
       " 'please': 213,\n",
       " 'bit': 214,\n",
       " 'crazy': 215,\n",
       " 'thats': 216,\n",
       " 'blushed': 217,\n",
       " 'tomll': 218,\n",
       " 'good': 219,\n",
       " 'ate': 220,\n",
       " 'eggs': 221,\n",
       " 'promised': 222,\n",
       " 'what': 223,\n",
       " 'pity': 224,\n",
       " 'wheres': 225,\n",
       " 'all': 226,\n",
       " 'anybody': 227,\n",
       " 'nuts': 228,\n",
       " 'sure': 229,\n",
       " 'us': 230,\n",
       " 'mind': 231,\n",
       " 'drive': 232,\n",
       " 'slowly': 233,\n",
       " 'school': 234,\n",
       " 'evening': 235,\n",
       " 'my': 236,\n",
       " 'hand': 237,\n",
       " 'easter': 238,\n",
       " 'has': 239,\n",
       " 'money': 240,\n",
       " 'likes': 241,\n",
       " 'tea': 242,\n",
       " 'brave': 243,\n",
       " 'jealous': 244,\n",
       " 'caviar': 245,\n",
       " 'blamed': 246,\n",
       " 'drank': 247,\n",
       " 'milk': 248,\n",
       " 'drink': 249,\n",
       " 'have': 250,\n",
       " 'cat': 251,\n",
       " 'candy': 252,\n",
       " 'understand': 253,\n",
       " 'walk': 254,\n",
       " 'lot': 255,\n",
       " 'doctor': 256,\n",
       " 'doubtful': 257,\n",
       " 'rational': 258,\n",
       " 'the': 259,\n",
       " 'best': 260,\n",
       " 'book': 261,\n",
       " 'alive': 262,\n",
       " 'an': 263,\n",
       " 'omen': 264,\n",
       " 'raining': 265,\n",
       " 'snowing': 266,\n",
       " 'just': 267,\n",
       " 'fake': 268,\n",
       " 'dancing': 269,\n",
       " 'digging': 270,\n",
       " 'driving': 271,\n",
       " 'focused': 272,\n",
       " 'looking': 273,\n",
       " 'reading': 274,\n",
       " 'running': 275,\n",
       " 'singing': 276,\n",
       " 'smiling': 277,\n",
       " 'talking': 278,\n",
       " 'walking': 279,\n",
       " 'working': 280,\n",
       " 'writing': 281,\n",
       " 'try': 282,\n",
       " 'life': 283,\n",
       " 'goes': 284,\n",
       " 'guess': 285,\n",
       " 'real': 286,\n",
       " 'move': 287,\n",
       " 'quietly': 288,\n",
       " 'feet': 289,\n",
       " 'hurt': 290,\n",
       " 'theyre': 291,\n",
       " 'unbelievable': 292,\n",
       " 'apologize': 293,\n",
       " 'leave': 294,\n",
       " 'both': 295,\n",
       " 'rain': 296,\n",
       " 'rest': 297,\n",
       " 'war': 298,\n",
       " 'famous': 299,\n",
       " 'welcome': 300,\n",
       " 'built': 301,\n",
       " 'cruel': 302,\n",
       " 'weird': 303,\n",
       " 'air': 304,\n",
       " 'futon': 305,\n",
       " 'angry': 306,\n",
       " 'lying': 307,\n",
       " 'risk': 308,\n",
       " 'everyone': 309,\n",
       " 'sang': 310,\n",
       " 'eats': 311,\n",
       " 'maid': 312,\n",
       " 'boss': 313,\n",
       " 'very': 314,\n",
       " 'rope': 315,\n",
       " 'backed': 316,\n",
       " 'believe': 317,\n",
       " 'steal': 318,\n",
       " 'unwell': 319,\n",
       " 'asleep': 320,\n",
       " 'hate': 321,\n",
       " 'winter': 322,\n",
       " 'boston': 323,\n",
       " 'apples': 324,\n",
       " 'rowing': 325,\n",
       " 'sweets': 326,\n",
       " 'tennis': 327,\n",
       " 'lost': 328,\n",
       " 'key': 329,\n",
       " 'loan': 330,\n",
       " 'read': 331,\n",
       " 'saw': 332,\n",
       " 'fight': 333,\n",
       " 'dog': 334,\n",
       " 'see': 335,\n",
       " 'house': 336,\n",
       " 'told': 337,\n",
       " 'correct': 338,\n",
       " 'lenient': 339,\n",
       " 'watch': 340,\n",
       " 'tv': 341,\n",
       " 'exhausted': 342,\n",
       " 'from': 343,\n",
       " 'impartial': 344,\n",
       " 'sensitive': 345,\n",
       " 'poor': 346,\n",
       " 'ive': 347,\n",
       " 'returned': 348,\n",
       " 'painful': 349,\n",
       " 'fox': 350,\n",
       " 'clear': 351,\n",
       " 'flaw': 352,\n",
       " 'joke': 353,\n",
       " 'might': 354,\n",
       " 'itll': 355,\n",
       " 'fault': 356,\n",
       " 'loud': 357,\n",
       " 'worth': 358,\n",
       " 'climbing': 359,\n",
       " 'fighting': 360,\n",
       " 'hustling': 361,\n",
       " 'touch': 362,\n",
       " 'paddling': 363,\n",
       " 'short': 364,\n",
       " 'sweet': 365,\n",
       " 'lock': 366,\n",
       " 'door': 367,\n",
       " 'safe': 368,\n",
       " 'choice': 369,\n",
       " 'offer': 370,\n",
       " 'brief': 371,\n",
       " 'quick': 372,\n",
       " 'your': 373,\n",
       " 'bed': 374,\n",
       " 'head': 375,\n",
       " 'aches': 376,\n",
       " 'names': 377,\n",
       " 'step': 378,\n",
       " 'oh': 379,\n",
       " 'hood': 380,\n",
       " 'pace': 381,\n",
       " 'yourself': 382,\n",
       " 'put': 383,\n",
       " 'send': 384,\n",
       " 'loves': 385,\n",
       " 'shut': 386,\n",
       " 'start': 387,\n",
       " 'stir': 388,\n",
       " 'soup': 389,\n",
       " 'gambling': 390,\n",
       " 'straighten': 391,\n",
       " 'boy': 392,\n",
       " 'simple': 393,\n",
       " 'theirs': 394,\n",
       " 'some': 395,\n",
       " 'pun': 396,\n",
       " 'cheap': 397,\n",
       " 'mature': 398,\n",
       " 'upbeat': 399,\n",
       " 'looks': 400,\n",
       " 'sat': 401,\n",
       " 'seems': 402,\n",
       " 'shot': 403,\n",
       " 'mary': 404,\n",
       " 'dirty': 405,\n",
       " 'went': 406,\n",
       " 'won': 407,\n",
       " 'again': 408,\n",
       " 'fist': 409,\n",
       " 'minute': 410,\n",
       " 'car': 411,\n",
       " 'speak': 412,\n",
       " 'wrong': 413,\n",
       " 'cousins': 414,\n",
       " 'leaving': 415,\n",
       " 'owe': 416,\n",
       " 'does': 417,\n",
       " 'thinks': 418,\n",
       " 'wants': 419,\n",
       " 'pie': 420,\n",
       " 'winning': 421,\n",
       " 'say': 422,\n",
       " 'fine': 423,\n",
       " 'boil': 424,\n",
       " 'water': 425,\n",
       " 'coffee': 426,\n",
       " 'cows': 427,\n",
       " 'grass': 428,\n",
       " 'cut': 429,\n",
       " 'engine': 430,\n",
       " 'silly': 431,\n",
       " 'tempt': 432,\n",
       " 'everybody': 433,\n",
       " 'knows': 434,\n",
       " 'give': 435,\n",
       " 'beer': 436,\n",
       " 'new': 437,\n",
       " 'year': 438,\n",
       " 'counts': 439,\n",
       " 'uncle': 440,\n",
       " 'dumb': 441,\n",
       " 'off': 442,\n",
       " 'makes': 443,\n",
       " 'sense': 444,\n",
       " 'song': 445,\n",
       " 'walked': 446,\n",
       " 'much': 447,\n",
       " 'hug': 448,\n",
       " 'for': 449,\n",
       " 'betrayed': 450,\n",
       " 'created': 451,\n",
       " 'didnt': 452,\n",
       " 'cheat': 453,\n",
       " 'gave': 454,\n",
       " 'glanced': 455,\n",
       " 'dream': 456,\n",
       " 'company': 457,\n",
       " 'fun': 458,\n",
       " 'cooking': 459,\n",
       " 'lasagna': 460,\n",
       " 'wife': 461,\n",
       " 'nominate': 462,\n",
       " 'said': 463,\n",
       " 'stepped': 464,\n",
       " 'wasnt': 465,\n",
       " 'race': 466,\n",
       " 'soon': 467,\n",
       " 'man': 468,\n",
       " 'crying': 469,\n",
       " 'greedy': 470,\n",
       " 'excited': 471,\n",
       " 'undressing': 472,\n",
       " 'unemployed': 473,\n",
       " 'used': 474,\n",
       " 'been': 475,\n",
       " 'moved': 476,\n",
       " 'sleeping': 477,\n",
       " 'secret': 478,\n",
       " 'smells': 479,\n",
       " 'mouse': 480,\n",
       " 'dangerous': 481,\n",
       " 'listening': 482,\n",
       " 'posted': 483,\n",
       " 'searching': 484,\n",
       " 'alone': 485,\n",
       " 'lend': 486,\n",
       " 'happen': 487,\n",
       " 'larger': 488,\n",
       " 'more': 489,\n",
       " 'needed': 490,\n",
       " 'dad': 491,\n",
       " 'heart': 492,\n",
       " 'joints': 493,\n",
       " 'ache': 494,\n",
       " 'name': 495,\n",
       " 'hit': 496,\n",
       " 'meter': 497,\n",
       " 'grew': 498,\n",
       " 'roses': 499,\n",
       " 'train': 500,\n",
       " 'hotel': 501,\n",
       " 'table': 502,\n",
       " 'idea': 503,\n",
       " 'law': 504,\n",
       " 'their': 505,\n",
       " 'eyes': 506,\n",
       " 'met': 507,\n",
       " 'lips': 508,\n",
       " 'could': 509,\n",
       " 'afraid': 510,\n",
       " 'allies': 511,\n",
       " 'throw': 512,\n",
       " 'dice': 513,\n",
       " 'time': 514,\n",
       " 'todays': 515,\n",
       " 'hectic': 516,\n",
       " 'drove': 517,\n",
       " 'isnt': 518,\n",
       " 'missed': 519,\n",
       " 'should': 520,\n",
       " 'helped': 521,\n",
       " 'unbiased': 522,\n",
       " 'letdown': 523,\n",
       " 'cup': 524,\n",
       " 'plays': 525,\n",
       " 'women': 526,\n",
       " 'loved': 527,\n",
       " 'quit': 528,\n",
       " 'answer': 529,\n",
       " 'type': 530,\n",
       " 'unlucky': 531,\n",
       " 'bees': 532,\n",
       " 'honey': 533,\n",
       " 'bite': 534,\n",
       " 'bullet': 535,\n",
       " 'police': 536,\n",
       " 'cats': 537,\n",
       " 'boxes': 538,\n",
       " 'check': 539,\n",
       " 'close': 540,\n",
       " 'hatch': 541,\n",
       " 'later': 542,\n",
       " 'already': 543,\n",
       " 'towards': 544,\n",
       " 'congratulations': 545,\n",
       " 'cover': 546,\n",
       " 'anyone': 547,\n",
       " 'hear': 548,\n",
       " 'fish': 549,\n",
       " 'remember': 550,\n",
       " 'stingy': 551,\n",
       " 'stupid': 552,\n",
       " 'double': 553,\n",
       " 'bet': 554,\n",
       " 'carefully': 555,\n",
       " 'inside': 556,\n",
       " 'popcorn': 557,\n",
       " 'god': 558,\n",
       " 'stuff': 559,\n",
       " 'painter': 560,\n",
       " 'psychic': 561,\n",
       " 'chains': 562,\n",
       " 'lied': 563,\n",
       " 'readily': 564,\n",
       " 'girl': 565,\n",
       " 'laid': 566,\n",
       " 'writes': 567,\n",
       " 'books': 568,\n",
       " 'gardener': 569,\n",
       " 'pushover': 570,\n",
       " 'photogenic': 571,\n",
       " 'tighter': 572,\n",
       " 'candle': 573,\n",
       " 'abhor': 574,\n",
       " 'spiders': 575,\n",
       " 'almost': 576,\n",
       " 'forgot': 577,\n",
       " 'japanese': 578,\n",
       " 'egypt': 579,\n",
       " 'eating': 580,\n",
       " 'amused': 581,\n",
       " 'myself': 582,\n",
       " 'baked': 583,\n",
       " 'cookies': 584,\n",
       " 'called': 585,\n",
       " 'find': 586,\n",
       " 'chickened': 587,\n",
       " 'peace': 588,\n",
       " 'deserved': 589,\n",
       " 'forget': 590,\n",
       " 'listen': 591,\n",
       " 'notice': 592,\n",
       " 'scream': 593,\n",
       " 'shower': 594,\n",
       " 'disobeyed': 595,\n",
       " 'downloaded': 596,\n",
       " 'two': 597,\n",
       " 'screams': 598,\n",
       " 'yelling': 599,\n",
       " 'elbow': 600,\n",
       " 'finished': 601,\n",
       " 'panicked': 602,\n",
       " 'showered': 603,\n",
       " 'his': 604,\n",
       " 'interest': 605,\n",
       " 'brownies': 606,\n",
       " 'supper': 607,\n",
       " 'pencil': 608,\n",
       " 'somebody': 609,\n",
       " 'study': 610,\n",
       " 'ordered': 611,\n",
       " 'pizza': 612,\n",
       " 'outwitted': 613,\n",
       " 'taxes': 614,\n",
       " 'prefer': 615,\n",
       " 'biking': 616,\n",
       " 'letter': 617,\n",
       " 'remembered': 618,\n",
       " 'every': 619,\n",
       " 'day': 620,\n",
       " 'something': 621,\n",
       " 'scored': 622,\n",
       " 'goal': 623,\n",
       " 'sent': 624,\n",
       " 'her': 625,\n",
       " 'threw': 626,\n",
       " 'totally': 627,\n",
       " 'guitar': 628,\n",
       " 'assaulted': 629,\n",
       " 'concerned': 630,\n",
       " 'convicted': 631,\n",
       " 'desperate': 632,\n",
       " 'impressed': 633,\n",
       " 'kidnapped': 634,\n",
       " 'negligent': 635,\n",
       " 'petrified': 636,\n",
       " 'skeptical': 637,\n",
       " 'surprised': 638,\n",
       " 'terrified': 639,\n",
       " 'hungry': 640,\n",
       " 'id': 641,\n",
       " 'grateful': 642,\n",
       " 'around': 643,\n",
       " 'about': 644,\n",
       " 'ready': 645,\n",
       " 'engineer': 646,\n",
       " 'competitive': 647,\n",
       " 'doing': 648,\n",
       " 'great': 649,\n",
       " 'ashamed': 650,\n",
       " 'bike': 651,\n",
       " 'actor': 652,\n",
       " 'teacher': 653,\n",
       " 'hot': 654,\n",
       " 'surprise': 655,\n",
       " 'our': 656,\n",
       " 'system': 657,\n",
       " 'practicing': 658,\n",
       " 'change': 659,\n",
       " 'large': 660,\n",
       " 'kites': 661,\n",
       " 'behind': 662,\n",
       " 'decision': 663,\n",
       " 'smaller': 664,\n",
       " 'noise': 665,\n",
       " 'marys': 666,\n",
       " 'niece': 667,\n",
       " 'merry': 668,\n",
       " 'christmas': 669,\n",
       " 'never': 670,\n",
       " 'mouth': 671,\n",
       " 'pick': 672,\n",
       " 'gun': 673,\n",
       " 'prices': 674,\n",
       " 'high': 675,\n",
       " 'singer': 676,\n",
       " 'carefree': 677,\n",
       " 'impatient': 678,\n",
       " 'worries': 679,\n",
       " 'terrible': 680,\n",
       " 'odd': 681,\n",
       " 'opened': 682,\n",
       " 'died': 683,\n",
       " 'lake': 684,\n",
       " 'big': 685,\n",
       " 'leaves': 686,\n",
       " 'light': 687,\n",
       " 'soups': 688,\n",
       " 'theres': 689,\n",
       " 'team': 690,\n",
       " 'hugged': 691,\n",
       " 'angered': 692,\n",
       " 'actors': 693,\n",
       " 'pretty': 694,\n",
       " 'caught': 695,\n",
       " 'feared': 696,\n",
       " 'ignored': 697,\n",
       " 'seem': 698,\n",
       " 'lucky': 699,\n",
       " 'young': 700,\n",
       " 'theyll': 701,\n",
       " 'today': 702,\n",
       " 'friday': 703,\n",
       " 'monday': 704,\n",
       " 'became': 705,\n",
       " 'checked': 706,\n",
       " 'exaggerates': 707,\n",
       " 'rabbits': 708,\n",
       " 'stamina': 709,\n",
       " 'muslim': 710,\n",
       " 'divorced': 711,\n",
       " 'painting': 712,\n",
       " 'terminal': 713,\n",
       " 'passed': 714,\n",
       " 'turned': 715,\n",
       " 'healthy': 716,\n",
       " 'spoiled': 717,\n",
       " 'mean': 718,\n",
       " 'wore': 719,\n",
       " 'vest': 720,\n",
       " 'unlock': 721,\n",
       " 'believed': 722,\n",
       " 'picnics': 723,\n",
       " 'energetic': 724,\n",
       " 'fortunate': 725,\n",
       " 'resilient': 726,\n",
       " 'weve': 727,\n",
       " 'blessing': 728,\n",
       " 'whats': 729,\n",
       " 'age': 730,\n",
       " 'when': 731,\n",
       " 'end': 732,\n",
       " 'whod': 733,\n",
       " 'write': 734,\n",
       " 'naughty': 735,\n",
       " 'youll': 736,\n",
       " 'coward': 737,\n",
       " 'angel': 738,\n",
       " 'lion': 739,\n",
       " 'canadian': 740,\n",
       " 'enemy': 741,\n",
       " 'positive': 742,\n",
       " 'students': 743,\n",
       " 'sometime': 744,\n",
       " 'tomorrow': 745,\n",
       " 'number': 746,\n",
       " 'drawer': 747,\n",
       " 'and': 748,\n",
       " 'dogs': 749,\n",
       " 'barking': 750,\n",
       " 'deceive': 751,\n",
       " 'mislead': 752,\n",
       " 'provoke': 753,\n",
       " 'rip': 754,\n",
       " 'grinned': 755,\n",
       " 'everyones': 756,\n",
       " 'point': 757,\n",
       " 'without': 758,\n",
       " 'trip': 759,\n",
       " 'joy': 760,\n",
       " 'backward': 761,\n",
       " 'picasso': 762,\n",
       " 'unsociable': 763,\n",
       " 'keeps': 764,\n",
       " 'diary': 765,\n",
       " 'existed': 766,\n",
       " 'speaks': 767,\n",
       " 'french': 768,\n",
       " 'acquitted': 769,\n",
       " 'waved': 770,\n",
       " 'sophomore': 771,\n",
       " 'tongue': 772,\n",
       " 'brazil': 773,\n",
       " 'of': 774,\n",
       " 'show': 775,\n",
       " 'found': 776,\n",
       " 'chemistry': 777,\n",
       " 'over': 778,\n",
       " 'job': 779,\n",
       " 'score': 780,\n",
       " 'chocolate': 781,\n",
       " 'lemon': 782,\n",
       " 'lamp': 783,\n",
       " 'traveling': 784,\n",
       " 'live': 785,\n",
       " 'europe': 786,\n",
       " 'near': 787,\n",
       " 'travel': 788,\n",
       " 'badly': 789,\n",
       " 'meat': 790,\n",
       " 'regret': 791,\n",
       " 'nothing': 792,\n",
       " 'face': 793,\n",
       " 'shoot': 794,\n",
       " 'protect': 795,\n",
       " '': 796,\n",
       " 'years': 797,\n",
       " 'avoiding': 798,\n",
       " 'genius': 799,\n",
       " 'parent': 800,\n",
       " 'if': 801,\n",
       " 'order': 802,\n",
       " 'bank': 803,\n",
       " 'deep': 804,\n",
       " 'son': 805,\n",
       " 'impossible': 806,\n",
       " 'phone': 807,\n",
       " 'sunflower': 808,\n",
       " 'bag': 809,\n",
       " 'neat': 810,\n",
       " 'informed': 811,\n",
       " 'begin': 812,\n",
       " 'way': 813,\n",
       " 'pulse': 814,\n",
       " 'nice': 815,\n",
       " 'meet': 816,\n",
       " 'pain': 817,\n",
       " 'gain': 818,\n",
       " 'taught': 819,\n",
       " 'done': 820,\n",
       " 'funny': 821,\n",
       " 'polite': 822,\n",
       " 'cry': 823,\n",
       " 'beautiful': 824,\n",
       " 'kept': 825,\n",
       " 'worships': 826,\n",
       " 'liar': 827,\n",
       " 'stand': 828,\n",
       " 'amazing': 829,\n",
       " 'incorrect': 830,\n",
       " 'plausible': 831,\n",
       " 'true': 832,\n",
       " 'bill': 833,\n",
       " 'empty': 834,\n",
       " 'curtain': 835,\n",
       " 'pot': 836,\n",
       " 'towel': 837,\n",
       " 'dry': 838,\n",
       " 'waters': 839,\n",
       " 'week': 840,\n",
       " 'drowned': 841,\n",
       " 'doctors': 842,\n",
       " 'singers': 843,\n",
       " 'food': 844,\n",
       " 'greeted': 845,\n",
       " 'hurried': 846,\n",
       " 'recluse': 847,\n",
       " 'deceitful': 848,\n",
       " 'reluctant': 849,\n",
       " 'woke': 850,\n",
       " 'horses': 851,\n",
       " 'weaker': 852,\n",
       " 'twice': 853,\n",
       " 'hero': 854,\n",
       " 'retire': 855,\n",
       " 'breakfast': 856,\n",
       " 'evacuate': 857,\n",
       " 'fascinated': 858,\n",
       " 'having': 859,\n",
       " 'lifeguards': 860,\n",
       " 'brush': 861,\n",
       " 'which': 862,\n",
       " 'brought': 863,\n",
       " 'hopeless': 864,\n",
       " 'wavering': 865,\n",
       " 'showed': 866,\n",
       " 'sleep': 867,\n",
       " 'prevail': 868,\n",
       " 'friend': 869,\n",
       " 'red': 870,\n",
       " 'leaf': 871,\n",
       " 'falling': 872,\n",
       " 'add': 873,\n",
       " 'little': 874,\n",
       " 'admission': 875,\n",
       " 'error': 876,\n",
       " 'american': 877,\n",
       " 'student': 878,\n",
       " 'tourist': 879,\n",
       " 'rush': 880,\n",
       " 'avoid': 881,\n",
       " 'honest': 882,\n",
       " 'birds': 883,\n",
       " 'build': 884,\n",
       " 'nests': 885,\n",
       " 'ambulance': 886,\n",
       " 'closer': 887,\n",
       " 'insist': 888,\n",
       " 'admit': 889,\n",
       " 'sake': 890,\n",
       " 'sushi': 891,\n",
       " 'mom': 892,\n",
       " 'laughed': 893,\n",
       " 'everybodys': 894,\n",
       " 'weapons': 895,\n",
       " 'haste': 896,\n",
       " 'waste': 897,\n",
       " 'appeared': 898,\n",
       " 'arrived': 899,\n",
       " 'safely': 900,\n",
       " 'cannot': 901,\n",
       " 'himself': 902,\n",
       " 'yesterday': 903,\n",
       " 'wink': 904,\n",
       " 'physicist': 905,\n",
       " 'everything': 906,\n",
       " 'took': 907,\n",
       " 'picture': 908,\n",
       " 'violated': 909,\n",
       " 'wrote': 910,\n",
       " 'bus': 911,\n",
       " 'driver': 912,\n",
       " 'getting': 913,\n",
       " 'heres': 914,\n",
       " 'handrail': 915,\n",
       " 'person': 916,\n",
       " 'asked': 917,\n",
       " 'after': 918,\n",
       " 'boarded': 919,\n",
       " 'burned': 920,\n",
       " 'cake': 921,\n",
       " 'by': 922,\n",
       " 'couldnt': 923,\n",
       " 'defended': 924,\n",
       " 'fruit': 925,\n",
       " 'tools': 926,\n",
       " 'sidetracked': 927,\n",
       " 'headache': 928,\n",
       " 'three': 929,\n",
       " 'buy': 930,\n",
       " 'music': 931,\n",
       " 'beard': 932,\n",
       " 'liked': 933,\n",
       " 'luggage': 934,\n",
       " 'hamburgers': 935,\n",
       " 'outlive': 936,\n",
       " 'once': 937,\n",
       " 'ashtray': 938,\n",
       " 'assistance': 939,\n",
       " 'pushed': 940,\n",
       " 'feeling': 941,\n",
       " 'taken': 942,\n",
       " 'aback': 943,\n",
       " 'endorse': 944,\n",
       " 'foot': 945,\n",
       " 'worked': 946,\n",
       " 'overtime': 947,\n",
       " 'gym': 948,\n",
       " 'as': 949,\n",
       " 'bee': 950,\n",
       " 'drinking': 951,\n",
       " 'pajamas': 952,\n",
       " 'zonked': 953,\n",
       " 'taking': 954,\n",
       " 'bath': 955,\n",
       " 'criminal': 956,\n",
       " 'tie': 957,\n",
       " 'clean': 958,\n",
       " 'seat': 959,\n",
       " 'depends': 960,\n",
       " 'act': 961,\n",
       " 'snows': 962,\n",
       " 'paris': 963,\n",
       " 'tremendous': 964,\n",
       " 'lovely': 965,\n",
       " 'dark': 966,\n",
       " 'hard': 967,\n",
       " 'jam': 968,\n",
       " 'comes': 969,\n",
       " 'jars': 970,\n",
       " 'sight': 971,\n",
       " 'prediction': 972,\n",
       " 'arms': 973,\n",
       " 'hair': 974,\n",
       " 'kinky': 975,\n",
       " 'hands': 976,\n",
       " 'tied': 977,\n",
       " 'horse': 978,\n",
       " 'failed': 979,\n",
       " 'volunteers': 980,\n",
       " 'nothings': 981,\n",
       " 'missing': 982,\n",
       " 'cooks': 983,\n",
       " 'rich': 984,\n",
       " 'tvs': 985,\n",
       " 'boring': 986,\n",
       " 'wild': 987,\n",
       " 'mustve': 988,\n",
       " 'deal': 989,\n",
       " 'meager': 990,\n",
       " 'plane': 991,\n",
       " 'crashed': 992,\n",
       " 'room': 993,\n",
       " 'melted': 994,\n",
       " 'bought': 995,\n",
       " 'dead': 996,\n",
       " 'fishing': 997,\n",
       " 'criminals': 998,\n",
       " 'theyve': 999,\n",
       " ...}"
      ]
     },
     "execution_count": 177,
     "metadata": {},
     "output_type": "execute_result"
    }
   ],
   "source": [
    "util.word_2_index_in"
   ]
  },
  {
   "cell_type": "code",
   "execution_count": 178,
   "metadata": {},
   "outputs": [
    {
     "data": {
      "text/plain": [
       "{'PAD': 0,\n",
       " 'SOS': 1,\n",
       " 'EOS': 2,\n",
       " 'buna': 3,\n",
       " 'fugi': 4,\n",
       " 'cine': 5,\n",
       " 'foc': 6,\n",
       " 'ajutor': 7,\n",
       " 'sari': 8,\n",
       " 'oprestete': 9,\n",
       " 'asteapta': 10,\n",
       " 'salut': 11,\n",
       " 'haide': 12,\n",
       " 'grabestete': 13,\n",
       " 'calmeazate': 14,\n",
       " 'zambeste': 15,\n",
       " 'ataca': 16,\n",
       " 'atacati': 17,\n",
       " 'noroc': 18,\n",
       " 'sanatate': 19,\n",
       " 'bun': 20,\n",
       " 'stai': 21,\n",
       " 'pe': 22,\n",
       " 'loc': 23,\n",
       " 'ridicate': 24,\n",
       " 'serios': 25,\n",
       " 'intreabal': 26,\n",
       " 'tom': 27,\n",
       " 'maxim': 28,\n",
       " 'excelent': 29,\n",
       " 'sunama': 30,\n",
       " 'pleaca': 31,\n",
       " 'de': 32,\n",
       " 'aici': 33,\n",
       " 'lasama': 34,\n",
       " 'la': 35,\n",
       " 'revedere': 36,\n",
       " 'rezista': 37,\n",
       " 'sunt': 38,\n",
       " 'acord': 39,\n",
       " 'bolnav': 40,\n",
       " 'trist': 41,\n",
       " 'e': 42,\n",
       " 'ok': 43,\n",
       " 'pastreazo': 44,\n",
       " 'pastreazal': 45,\n",
       " 'deschide': 46,\n",
       " 'perfect': 47,\n",
       " 'spunemi': 48,\n",
       " 'ce': 49,\n",
       " 'nu': 50,\n",
       " 'apucate': 51,\n",
       " 'el': 52,\n",
       " 'dragut': 53,\n",
       " 'simpatic': 54,\n",
       " 'eu': 55,\n",
       " 'voi': 56,\n",
       " 'plati': 57,\n",
       " 'mam': 58,\n",
       " 'intors': 59,\n",
       " 'am': 60,\n",
       " 'revenit': 61,\n",
       " 'calm': 62,\n",
       " 'liber': 63,\n",
       " 'acasa': 64,\n",
       " 'indiferent': 65,\n",
       " 'indiferenta': 66,\n",
       " 'ma': 67,\n",
       " 'doare': 68,\n",
       " 'este': 69,\n",
       " 'intra': 70,\n",
       " 'casatorestete': 71,\n",
       " 'cu': 72,\n",
       " 'mine': 73,\n",
       " 'pot': 74,\n",
       " 'sa': 75,\n",
       " 'merg': 76,\n",
       " 'duc': 77,\n",
       " 'teribil': 78,\n",
       " 'a': 79,\n",
       " 'fugit': 80,\n",
       " 'plecat': 81,\n",
       " 'prea': 82,\n",
       " 'tarziu': 83,\n",
       " 'ai': 84,\n",
       " 'incredere': 85,\n",
       " 'in': 86,\n",
       " 'utilizeaza': 87,\n",
       " 'asta': 88,\n",
       " 'cazut': 89,\n",
       " 'platit': 90,\n",
       " 'intoarcete': 91,\n",
       " 'revino': 92,\n",
       " 'reveniti': 93,\n",
       " 'intoarcetiva': 94,\n",
       " 'vino': 95,\n",
       " 'intreba': 96,\n",
       " 'rapid': 97,\n",
       " 'va': 98,\n",
       " 'rog': 99,\n",
       " 'schiez': 100,\n",
       " 'castiga': 101,\n",
       " 'sper': 102,\n",
       " 'merge': 103,\n",
       " 'pierde': 104,\n",
       " 'plictisit': 105,\n",
       " 'beat': 106,\n",
       " 'fericit': 107,\n",
       " 'imi': 108,\n",
       " 'pare': 109,\n",
       " 'rau': 110,\n",
       " 'obosit': 111,\n",
       " 'obosita': 112,\n",
       " 'departe': 113,\n",
       " 'nins': 114,\n",
       " 'ningea': 115,\n",
       " 'frig': 116,\n",
       " 'usor': 117,\n",
       " 'deoparte': 118,\n",
       " 'pastreaza': 119,\n",
       " 'distanta': 120,\n",
       " 'mentineti': 121,\n",
       " 'calmul': 122,\n",
       " 'mentinetiva': 123,\n",
       " 'stati': 124,\n",
       " 'jos': 125,\n",
       " 'aia': 126,\n",
       " 'pastreazale': 127,\n",
       " 'caldura': 128,\n",
       " 'uitate': 129,\n",
       " 'alta': 130,\n",
       " 'parte': 131,\n",
       " 'priveste': 132,\n",
       " 'spate': 133,\n",
       " 'poftim': 134,\n",
       " 'ea': 135,\n",
       " 'plans': 136,\n",
       " 'acolo': 137,\n",
       " 'aseazate': 138,\n",
       " 'te': 139,\n",
       " 'baga': 140,\n",
       " 'linistit': 141,\n",
       " 'grija': 142,\n",
       " 'tine': 143,\n",
       " 'ei': 144,\n",
       " 'au': 145,\n",
       " 'bine': 146,\n",
       " 'timid': 147,\n",
       " 'noi': 148,\n",
       " 'asteptat': 149,\n",
       " 'alege': 150,\n",
       " 'una': 151,\n",
       " 'siguranta': 152,\n",
       " 'mod': 153,\n",
       " 'cert': 154,\n",
       " 'castigat': 155,\n",
       " 'hai': 156,\n",
       " 'scapat': 157,\n",
       " 'indoiesc': 158,\n",
       " 'dubii': 159,\n",
       " 'il': 160,\n",
       " 'cunosc': 161,\n",
       " 'stiu': 162,\n",
       " 'acum': 163,\n",
       " 'iubesc': 164,\n",
       " 'mie': 165,\n",
       " 'dor': 166,\n",
       " 'vreau': 167,\n",
       " 'unul': 168,\n",
       " 'fost': 169,\n",
       " 'absent': 170,\n",
       " 'nam': 171,\n",
       " 'prezent': 172,\n",
       " 'vin': 173,\n",
       " 'frica': 174,\n",
       " 'somn': 175,\n",
       " 'asa': 176,\n",
       " 'gras': 177,\n",
       " 'continua': 178,\n",
       " 'tineo': 179,\n",
       " 'tot': 180,\n",
       " 'ia': 181,\n",
       " 'notite': 182,\n",
       " 'nemiscat': 183,\n",
       " 'inot': 184,\n",
       " 'nici': 185,\n",
       " 'o': 186,\n",
       " 'problema': 187,\n",
       " 'ocupata': 188,\n",
       " 'vorbeste': 189,\n",
       " 'privea': 190,\n",
       " 'slab': 191,\n",
       " 'neam': 192,\n",
       " 'suntem': 193,\n",
       " 'chit': 194,\n",
       " 'unde': 195,\n",
       " 'clipit': 196,\n",
       " 'urmatorul': 197,\n",
       " 'esti': 198,\n",
       " 'varsta': 199,\n",
       " 'batran': 200,\n",
       " 'suparat': 201,\n",
       " 'fii': 202,\n",
       " 'atent': 203,\n",
       " 'vigilent': 204,\n",
       " 'panica': 205,\n",
       " 'mergi': 206,\n",
       " 'mergeti': 207,\n",
       " 'un': 208,\n",
       " 'tocilar': 209,\n",
       " 'puternic': 210,\n",
       " 'mai': 211,\n",
       " 'faci': 212,\n",
       " 'ador': 213,\n",
       " 'inalt': 214,\n",
       " 'mananc': 215,\n",
       " 'zbura': 216,\n",
       " 'paine': 217,\n",
       " 'simt': 218,\n",
       " 'slabit': 219,\n",
       " 'mia': 220,\n",
       " 'trebuia': 221,\n",
       " 'plec': 222,\n",
       " 'team': 223,\n",
       " 'auzit': 224,\n",
       " 'place': 225,\n",
       " 'jazzul': 226,\n",
       " 'rockul': 227,\n",
       " 'zapada': 228,\n",
       " 'golful': 229,\n",
       " 'trebuie': 230,\n",
       " 'ascund': 231,\n",
       " 'nevoie': 232,\n",
       " 'al': 233,\n",
       " 'meu': 234,\n",
       " 'avut': 235,\n",
       " 'dreptate': 236,\n",
       " 'veni': 237,\n",
       " 'astepta': 238,\n",
       " 'lucra': 239,\n",
       " 'muri': 240,\n",
       " 'asistenta': 241,\n",
       " 'medicala': 242,\n",
       " 'curioasa': 243,\n",
       " 'casatorit': 244,\n",
       " 'agitat': 245,\n",
       " 'serioasa': 246,\n",
       " 'foame': 247,\n",
       " 'urs': 248,\n",
       " 'mort': 249,\n",
       " 'sete': 250,\n",
       " 'grozav': 251,\n",
       " 'alb': 252,\n",
       " 'se': 253,\n",
       " 'poate': 254,\n",
       " 'ninga': 255,\n",
       " 'incerci': 256,\n",
       " 'vajut': 257,\n",
       " 'facem': 258,\n",
       " 'fa': 259,\n",
       " 'lista': 260,\n",
       " 'puneti': 261,\n",
       " 'dorinta': 262,\n",
       " 'nimeni': 263,\n",
       " 'venit': 264,\n",
       " 'muscat': 265,\n",
       " 'nebuna': 266,\n",
       " 'fericita': 267,\n",
       " 'arunca': 268,\n",
       " 'privire': 269,\n",
       " 'marfa': 270,\n",
       " 'rosit': 271,\n",
       " 'inrosit': 272,\n",
       " 'mancat': 273,\n",
       " 'oua': 274,\n",
       " 'cunoastem': 275,\n",
       " 'promis': 276,\n",
       " 'plecam': 277,\n",
       " 'pacat': 278,\n",
       " 'tu': 279,\n",
       " 'dispari': 280,\n",
       " 'mea': 281,\n",
       " 'sunteti': 282,\n",
       " 'bolnavi': 283,\n",
       " 'totul': 284,\n",
       " 'cineva': 285,\n",
       " 'ocupat': 286,\n",
       " 'nebun': 287,\n",
       " 'bolnava': 288,\n",
       " 'sigur': 289,\n",
       " 'inoate': 290,\n",
       " 'stie': 291,\n",
       " 'veniti': 292,\n",
       " 'ceva': 293,\n",
       " 'impotriva': 294,\n",
       " 'lasa': 295,\n",
       " 'condu': 296,\n",
       " 'incet': 297,\n",
       " 'scoala': 298,\n",
       " 'seara': 299,\n",
       " 'tinema': 300,\n",
       " 'mana': 301,\n",
       " 'paste': 302,\n",
       " 'bani': 303,\n",
       " 'are': 304,\n",
       " 'nea': 305,\n",
       " 'lasat': 306,\n",
       " 'mergem': 307,\n",
       " 'lui': 308,\n",
       " 'ii': 309,\n",
       " 'ceaiul': 310,\n",
       " 'curajos': 311,\n",
       " 'gelos': 312,\n",
       " 'curios': 313,\n",
       " 'atat': 314,\n",
       " 'tare': 315,\n",
       " 'caviar': 316,\n",
       " 'lam': 317,\n",
       " 'invinuit': 318,\n",
       " 'baut': 319,\n",
       " 'lapte': 320,\n",
       " 'beau': 321,\n",
       " 'pisica': 322,\n",
       " 'plac': 323,\n",
       " 'bomboanele': 324,\n",
       " 'inteleg': 325,\n",
       " 'mult': 326,\n",
       " 'muncesc': 327,\n",
       " 'revin': 328,\n",
       " 'medic': 329,\n",
       " 'indoieli': 330,\n",
       " 'rational': 331,\n",
       " 'cel': 332,\n",
       " 'dragoste': 333,\n",
       " 'aceasta': 334,\n",
       " 'carte': 335,\n",
       " 'viu': 336,\n",
       " 'prevestire': 337,\n",
       " 'ploua': 338,\n",
       " 'ninge': 339,\n",
       " 'doar': 340,\n",
       " 'falsifical': 341,\n",
       " 'dansezi': 342,\n",
       " 'sapi': 343,\n",
       " 'continuare': 344,\n",
       " 'concentreazate': 345,\n",
       " 'cauta': 346,\n",
       " 'citeste': 347,\n",
       " 'alergi': 348,\n",
       " 'canti': 349,\n",
       " 'zambesti': 350,\n",
       " 'vorbesti': 351,\n",
       " 'opri': 352,\n",
       " 'muncesti': 353,\n",
       " 'scrii': 354,\n",
       " 'incercam': 355,\n",
       " 'viata': 356,\n",
       " 'inainte': 357,\n",
       " 'ghiceste': 358,\n",
       " 'realizeazal': 359,\n",
       " 'fao': 360,\n",
       " 'opreasca': 361,\n",
       " 'miscate': 362,\n",
       " 'liniste': 363,\n",
       " 'picioarele': 364,\n",
       " 'acuma': 365,\n",
       " 'bea': 366,\n",
       " 'din': 367,\n",
       " 'vorbit': 368,\n",
       " 'ial': 369,\n",
       " 'iao': 370,\n",
       " 'sau': 371,\n",
       " 'devenit': 372,\n",
       " 'speriat': 373,\n",
       " 'necrezut': 374,\n",
       " 'plimbate': 375,\n",
       " 'ne': 376,\n",
       " 'cerem': 377,\n",
       " 'scuze': 378,\n",
       " 'putem': 379,\n",
       " 'pleca': 380,\n",
       " 'stim': 381,\n",
       " 'vorbim': 382,\n",
       " 'avem': 383,\n",
       " 'ambele': 384,\n",
       " 'ploaie': 385,\n",
       " 'odihna': 386,\n",
       " 'razboi': 387,\n",
       " 'venim': 388,\n",
       " 'faimosi': 389,\n",
       " 'dragostea': 390,\n",
       " 'cei': 391,\n",
       " 'construit': 392,\n",
       " 'facut': 393,\n",
       " 'intarziat': 394,\n",
       " 'poti': 395,\n",
       " 'odihni': 396,\n",
       " 'crud': 397,\n",
       " 'cruda': 398,\n",
       " 'ciudat': 399,\n",
       " 'aeriseste': 400,\n",
       " 'salteaua': 401,\n",
       " 'teai': 402,\n",
       " 'minti': 403,\n",
       " 'intru': 404,\n",
       " 'intarzii': 405,\n",
       " 'risca': 406,\n",
       " 'toti': 407,\n",
       " 'cantat': 408,\n",
       " 'mananca': 409,\n",
       " 'simtea': 410,\n",
       " 'menajera': 411,\n",
       " 'servitoare': 412,\n",
       " 'seful': 413,\n",
       " 'foarte': 414,\n",
       " 'tinete': 415,\n",
       " 'franghia': 416,\n",
       " 'retras': 417,\n",
       " 'cred': 418,\n",
       " 'chiar': 419,\n",
       " 'placi': 420,\n",
       " 'fur': 421,\n",
       " 'adormit': 422,\n",
       " 'urasc': 423,\n",
       " 'iarna': 424,\n",
       " 'boston': 425,\n",
       " 'merele': 426,\n",
       " 'vaslesc': 427,\n",
       " 'tenisul': 428,\n",
       " 'uitat': 429,\n",
       " 'intro': 430,\n",
       " 'miam': 431,\n",
       " 'pierdut': 432,\n",
       " 'cheia': 433,\n",
       " 'lipseste': 434,\n",
       " 'bostonul': 435,\n",
       " 'imprumut': 436,\n",
       " 'citesc': 437,\n",
       " 'vazut': 438,\n",
       " 'bataie': 439,\n",
       " 'cainele': 440,\n",
       " 'vad': 441,\n",
       " 'casa': 442,\n",
       " 'iam': 443,\n",
       " 'spus': 444,\n",
       " 'eram': 445,\n",
       " 'ingaduitor': 446,\n",
       " 'lua': 447,\n",
       " 'privi': 448,\n",
       " 'televizorul': 449,\n",
       " 'epuizat': 450,\n",
       " 'impartial': 451,\n",
       " 'sensibil': 452,\n",
       " 'sarac': 453,\n",
       " 'dureros': 454,\n",
       " 'vulpe': 455,\n",
       " 'clar': 456,\n",
       " 'defect': 457,\n",
       " 'gluma': 458,\n",
       " 'sar': 459,\n",
       " 'putea': 460,\n",
       " 'ajute': 461,\n",
       " 'treaca': 462,\n",
       " 'vina': 463,\n",
       " 'merita': 464,\n",
       " 'continuati': 465,\n",
       " 'urcati': 466,\n",
       " 'urci': 467,\n",
       " 'lupti': 468,\n",
       " 'grabesti': 469,\n",
       " 'dai': 470,\n",
       " 'coate': 471,\n",
       " 'tinem': 472,\n",
       " 'legatura': 473,\n",
       " 'spui': 474,\n",
       " 'vaslesti': 475,\n",
       " 'scurta': 476,\n",
       " 'frumoasa': 477,\n",
       " 'inchide': 478,\n",
       " 'usa': 479,\n",
       " 'incuie': 480,\n",
       " 'seiful': 481,\n",
       " 'iubirea': 482,\n",
       " 'nebunie': 483,\n",
       " 'oferta': 484,\n",
       " 'fal': 485,\n",
       " 'scurt': 486,\n",
       " 'repede': 487,\n",
       " 'fama': 488,\n",
       " 'fati': 489,\n",
       " 'patul': 490,\n",
       " 'capul': 491,\n",
       " 'numele': 492,\n",
       " 'cheama': 493,\n",
       " 'indeparteazate': 494,\n",
       " 'capota': 495,\n",
       " 'impacate': 496,\n",
       " 'insuti': 497,\n",
       " 'insati': 498,\n",
       " 'pune': 499,\n",
       " 'trimitel': 500,\n",
       " 'iubeste': 501,\n",
       " 'incepe': 502,\n",
       " 'amesteca': 503,\n",
       " 'supa': 504,\n",
       " 'juca': 505,\n",
       " 'indreaptate': 506,\n",
       " 'luatil': 507,\n",
       " 'arestatil': 508,\n",
       " 'falsa': 509,\n",
       " 'fals': 510,\n",
       " 'acesta': 511,\n",
       " 'fiul': 512,\n",
       " 'baiatul': 513,\n",
       " 'simplu': 514,\n",
       " 'aceea': 515,\n",
       " 'lor': 516,\n",
       " 'servit': 517,\n",
       " 'calmi': 518,\n",
       " 'joc': 519,\n",
       " 'cuvinte': 520,\n",
       " 'ieftina': 521,\n",
       " 'matur': 522,\n",
       " 'optimist': 523,\n",
       " 'tocmai': 524,\n",
       " 'stat': 525,\n",
       " 'impuscato': 526,\n",
       " 'mary': 527,\n",
       " 'era': 528,\n",
       " 'murdar': 529,\n",
       " 'avea': 530,\n",
       " 'nou': 531,\n",
       " 'folosesteti': 532,\n",
       " 'pumnul': 533,\n",
       " 'putin': 534,\n",
       " 'pazestemi': 535,\n",
       " 'spatele': 536,\n",
       " 'masina': 537,\n",
       " 'gresit': 538,\n",
       " 'verisori': 539,\n",
       " 'datorez': 540,\n",
       " 'face': 541,\n",
       " 'crede': 542,\n",
       " 'gandeste': 543,\n",
       " 'vrea': 544,\n",
       " 'placinta': 545,\n",
       " 'aratati': 546,\n",
       " 'retragete': 547,\n",
       " 'fierbe': 548,\n",
       " 'apa': 549,\n",
       " 'intram': 550,\n",
       " 'inota': 551,\n",
       " 'cafea': 552,\n",
       " 'inapoi': 553,\n",
       " 'vacile': 554,\n",
       " 'iarba': 555,\n",
       " 'opreste': 556,\n",
       " 'motorul': 557,\n",
       " 'cunosti': 558,\n",
       " 'fi': 559,\n",
       " 'prost': 560,\n",
       " 'tenta': 561,\n",
       " 'urca': 562,\n",
       " 'dami': 563,\n",
       " 'bere': 564,\n",
       " 'an': 565,\n",
       " 'numara': 566,\n",
       " 'unchiul': 567,\n",
       " 'instarit': 568,\n",
       " 'bogat': 569,\n",
       " 'sia': 570,\n",
       " 'mutat': 571,\n",
       " 'privirea': 572,\n",
       " 'privit': 573,\n",
       " 'sens': 574,\n",
       " 'canta': 575,\n",
       " 'cantec': 576,\n",
       " 'dat': 577,\n",
       " 'cat': 578,\n",
       " 'costa': 579,\n",
       " 'imbratiseazal': 580,\n",
       " 'partea': 581,\n",
       " 'baiat': 582,\n",
       " 'tradat': 583,\n",
       " 'creat': 584,\n",
       " 'trisat': 585,\n",
       " 'cadou': 586,\n",
       " 'aruncat': 587,\n",
       " 'vis': 588,\n",
       " 'companie': 589,\n",
       " 'distrat': 590,\n",
       " 'renuntat': 591,\n",
       " 'cant': 592,\n",
       " 'gatesc': 593,\n",
       " 'lasagna': 594,\n",
       " 'sotia': 595,\n",
       " 'propun': 596,\n",
       " 'pleci': 597,\n",
       " 'odihnesc': 598,\n",
       " 'cursa': 599,\n",
       " 'muta': 600,\n",
       " 'curand': 601,\n",
       " 'om': 602,\n",
       " 'plang': 603,\n",
       " 'lacom': 604,\n",
       " 'lacoma': 605,\n",
       " 'entuziasmat': 606,\n",
       " 'dezbrac': 607,\n",
       " 'somer': 608,\n",
       " 'obisnuit': 609,\n",
       " 'doctor': 610,\n",
       " 'doarme': 611,\n",
       " 'secret': 612,\n",
       " 'functionat': 613,\n",
       " 'rost': 614,\n",
       " 'miroase': 615,\n",
       " 'soarece': 616,\n",
       " 'periculos': 617,\n",
       " 'multa': 618,\n",
       " 'alegerea': 619,\n",
       " 'ta': 620,\n",
       " 'da': 621,\n",
       " 'asculti': 622,\n",
       " 'curent': 623,\n",
       " 'cauti': 624,\n",
       " 'pace': 625,\n",
       " 'fac': 626,\n",
       " 'intample': 627,\n",
       " 'larg': 628,\n",
       " 'tatal': 629,\n",
       " 'inima': 630,\n",
       " 'incheieturile': 631,\n",
       " 'lovit': 632,\n",
       " 'lasi': 633,\n",
       " 'contorul': 634,\n",
       " 'cultiva': 635,\n",
       " 'trandafiri': 636,\n",
       " 'trenul': 637,\n",
       " 'opriti': 638,\n",
       " 'acela': 639,\n",
       " 'hotel': 640,\n",
       " 'masa': 641,\n",
       " 'ideea': 642,\n",
       " 'legea': 643,\n",
       " 'ochii': 644,\n",
       " 'intalnit': 645,\n",
       " 'buzele': 646,\n",
       " 'moara': 647,\n",
       " 'le': 648,\n",
       " 'aliati': 649,\n",
       " 'simpla': 650,\n",
       " 'zarul': 651,\n",
       " 'timpul': 652,\n",
       " 'spune': 653,\n",
       " 'astazi': 654,\n",
       " 'danseaza': 655,\n",
       " 'tia': 656,\n",
       " 'dus': 657,\n",
       " 'dorul': 658,\n",
       " 'ar': 659,\n",
       " 'trebui': 660,\n",
       " 'manance': 661,\n",
       " 'nui': 662,\n",
       " 'pasa': 663,\n",
       " 'ajutat': 664,\n",
       " 'rationali': 665,\n",
       " 'impartiali': 666,\n",
       " 'ati': 667,\n",
       " 'dezamagire': 668,\n",
       " 'undeai': 669,\n",
       " 'ceasca': 670,\n",
       " 'joaca': 671,\n",
       " 'golf': 672,\n",
       " 'intrebi': 673,\n",
       " 'femeilor': 674,\n",
       " 'lea': 675,\n",
       " 'placut': 676,\n",
       " 'renunta': 677,\n",
       " 'raspunde': 678,\n",
       " 'aveai': 679,\n",
       " 'geloasa': 680,\n",
       " 'genul': 681,\n",
       " 'nervos': 682,\n",
       " 'nervoasa': 683,\n",
       " 'norocos': 684,\n",
       " 'albinele': 685,\n",
       " 'miere': 686,\n",
       " 'inghite': 687,\n",
       " 'si': 688,\n",
       " 'suna': 689,\n",
       " 'politie': 690,\n",
       " 'politia': 691,\n",
       " 'pisicilor': 692,\n",
       " 'cutiile': 693,\n",
       " 'verificati': 694,\n",
       " 'trapa': 695,\n",
       " 'odata': 696,\n",
       " 'inspre': 697,\n",
       " 'felicitari': 698,\n",
       " 'acoperati': 699,\n",
       " 'pasat': 700,\n",
       " 'cuiva': 701,\n",
       " 'auzito': 702,\n",
       " 'timp': 703,\n",
       " 'mananci': 704,\n",
       " 'peste': 705,\n",
       " 'mancati': 706,\n",
       " 'hranesti': 707,\n",
       " 'cum': 708,\n",
       " 'iti': 709,\n",
       " 'amintesti': 710,\n",
       " 'retrage': 711,\n",
       " 'razgandi': 712,\n",
       " 'fie': 713,\n",
       " 'zgarcit': 714,\n",
       " 'intoarce': 715,\n",
       " 'imbata': 716,\n",
       " 'nuti': 717,\n",
       " 'nai': 718,\n",
       " 'dubleazati': 719,\n",
       " 'pariul': 720,\n",
       " 'miza': 721,\n",
       " 'prudent': 722,\n",
       " 'atentie': 723,\n",
       " 'inauntru': 724,\n",
       " 'dute': 725,\n",
       " 'floricele': 726,\n",
       " 'porumb': 727,\n",
       " 'dumnezeu': 728,\n",
       " 'omul': 729,\n",
       " 'iati': 730,\n",
       " 'lucrurile': 731,\n",
       " 'pictor': 732,\n",
       " 'paranormal': 733,\n",
       " 'incatusat': 734,\n",
       " 'mintit': 735,\n",
       " 'usurinta': 736,\n",
       " 'fata': 737,\n",
       " 'concediat': 738,\n",
       " 'scrie': 739,\n",
       " 'carti': 740,\n",
       " 'gradinar': 741,\n",
       " 'fraier': 742,\n",
       " 'fotogenic': 743,\n",
       " 'strans': 744,\n",
       " 'lumanarea': 745,\n",
       " 'toata': 746,\n",
       " 'lumea': 747,\n",
       " 'cati': 748,\n",
       " 'ani': 749,\n",
       " 'aveti': 750,\n",
       " 'paianjenii': 751,\n",
       " 'aproape': 752,\n",
       " 'ca': 753,\n",
       " 'japonez': 754,\n",
       " 'egipt': 755,\n",
       " 'amuzat': 756,\n",
       " 'copt': 757,\n",
       " 'prajituri': 758,\n",
       " 'sunat': 759,\n",
       " 'telefon': 760,\n",
       " 'gasesc': 761,\n",
       " 'reusesc': 762,\n",
       " 'ganduri': 763,\n",
       " 'meritato': 764,\n",
       " 'ascultat': 765,\n",
       " 'observat': 766,\n",
       " 'tipat': 767,\n",
       " 'descarcat': 768,\n",
       " 'doua': 769,\n",
       " 'pisici': 770,\n",
       " 'tipete': 771,\n",
       " 'tipand': 772,\n",
       " 'cot': 773,\n",
       " 'terminat': 774,\n",
       " 'pur': 775,\n",
       " 'panicat': 776,\n",
       " 'interesul': 777,\n",
       " 'negrese': 778,\n",
       " 'sarit': 779,\n",
       " 'cina': 780,\n",
       " 'creion': 781,\n",
       " 'verific': 782,\n",
       " 'studiez': 783,\n",
       " 'comandat': 784,\n",
       " 'pizza': 785,\n",
       " 'pacalit': 786,\n",
       " 'taxele': 787,\n",
       " 'prefer': 788,\n",
       " 'mersul': 789,\n",
       " 'bicicleta': 790,\n",
       " 'cafeaua': 791,\n",
       " 'citit': 792,\n",
       " 'scrisoare': 793,\n",
       " 'adus': 794,\n",
       " 'aminte': 795,\n",
       " 'alerg': 796,\n",
       " 'fiecare': 797,\n",
       " 'zi': 798,\n",
       " 'inscris': 799,\n",
       " 'gol': 800,\n",
       " 'trimis': 801,\n",
       " 'trimiso': 802,\n",
       " 'aruncato': 803,\n",
       " 'chitara': 804,\n",
       " 'atacat': 805,\n",
       " 'ingrijorat': 806,\n",
       " 'condamnat': 807,\n",
       " 'disperat': 808,\n",
       " 'impresionat': 809,\n",
       " 'rapit': 810,\n",
       " 'ascultam': 811,\n",
       " 'neglijent': 812,\n",
       " 'pietrificat': 813,\n",
       " 'sceptic': 814,\n",
       " 'surprins': 815,\n",
       " 'ingrozit': 816,\n",
       " 'dormeam': 817,\n",
       " 'as': 818,\n",
       " 'recunoscator': 819,\n",
       " 'jur': 820,\n",
       " 'gata': 821,\n",
       " 'inginer': 822,\n",
       " 'competitiv': 823,\n",
       " 'numi': 824,\n",
       " 'rusine': 825,\n",
       " 'flamand': 826,\n",
       " 'actor': 827,\n",
       " 'profesor': 828,\n",
       " 'cald': 829,\n",
       " 'semn': 830,\n",
       " 'surpriza': 831,\n",
       " 'sistemul': 832,\n",
       " 'nostru': 833,\n",
       " 'zambiti': 834,\n",
       " 'exersezi': 835,\n",
       " 'restul': 836,\n",
       " 'secretul': 837,\n",
       " 'intins': 838,\n",
       " 'lasal': 839,\n",
       " 'intre': 840,\n",
       " 'inaltam': 841,\n",
       " 'zmeie': 842,\n",
       " 'odihnim': 843,\n",
       " 'tau': 844,\n",
       " 'decizie': 845,\n",
       " 'mica': 846,\n",
       " 'mic': 847,\n",
       " 'faceti': 848,\n",
       " 'zgomot': 849,\n",
       " 'nepoata': 850,\n",
       " 'craciun': 851,\n",
       " 'amortit': 852,\n",
       " 'niciodata': 853,\n",
       " 'urma': 854,\n",
       " 'pierzi': 855,\n",
       " 'speranta': 856,\n",
       " 'nul': 857,\n",
       " 'doreste': 858,\n",
       " 'gura': 859,\n",
       " 'ridica': 860,\n",
       " 'arma': 861,\n",
       " 'preturile': 862,\n",
       " 'mari': 863,\n",
       " 'cantareata': 864,\n",
       " 'nare': 865,\n",
       " 'nerabdatoare': 866,\n",
       " 'rabdare': 867,\n",
       " 'ingrijoreaza': 868,\n",
       " 'groaznic': 869,\n",
       " 'straniu': 870,\n",
       " 'deschis': 871,\n",
       " 'murit': 872,\n",
       " 'lacul': 873,\n",
       " 'mare': 874,\n",
       " 'frunzele': 875,\n",
       " 'lumina': 876,\n",
       " 'pornita': 877,\n",
       " 'rece': 878,\n",
       " 'iata': 879,\n",
       " 'echipa': 880,\n",
       " 'imbratisat': 881,\n",
       " 'mau': 882,\n",
       " 'infuriat': 883,\n",
       " 'actori': 884,\n",
       " 'frumusei': 885,\n",
       " 'lau': 886,\n",
       " 'prins': 887,\n",
       " 'condus': 888,\n",
       " 'spre': 889,\n",
       " 'ignorat': 890,\n",
       " 'par': 891,\n",
       " 'miscati': 892,\n",
       " 'innebunit': 893,\n",
       " 'erau': 894,\n",
       " 'murdari': 895,\n",
       " 'norocosi': 896,\n",
       " 'aveau': 897,\n",
       " 'tineri': 898,\n",
       " 'plece': 899,\n",
       " 'cartea': 900,\n",
       " 'noua': 901,\n",
       " 'aruncai': 902,\n",
       " 'azi': 903,\n",
       " 'vineri': 904,\n",
       " 'luni': 905,\n",
       " 'indepartat': 906,\n",
       " 'pat': 907,\n",
       " 'exagereaza': 908,\n",
       " 'insotitori': 909,\n",
       " 'iepuri': 910,\n",
       " 'rezistent': 911,\n",
       " 'musulman': 912,\n",
       " 'divortat': 913,\n",
       " 'vopseste': 914,\n",
       " 'zugraveste': 915,\n",
       " 'ultimul': 916,\n",
       " 'stadiu': 917,\n",
       " 'arata': 918,\n",
       " 'tanar': 919,\n",
       " 'decedat': 920,\n",
       " 'indulgent': 921,\n",
       " 'bland': 922,\n",
       " 'rasfatat': 923,\n",
       " 'purta': 924,\n",
       " 'vesta': 925,\n",
       " 'descuie': 926,\n",
       " 'meritat': 927,\n",
       " 'pazesteti': 928,\n",
       " 'crezut': 929,\n",
       " 'iubim': 930,\n",
       " 'picnicurile': 931,\n",
       " 'studiem': 932,\n",
       " 'vom': 933,\n",
       " 'sta': 934,\n",
       " 'energici': 935,\n",
       " 'singuri': 936,\n",
       " 'rezistenti': 937,\n",
       " 'blocati': 938,\n",
       " 'plecati': 939,\n",
       " 'cunoscut': 940,\n",
       " 'binecuvantare': 941,\n",
       " 'ceasul': 942,\n",
       " 'cand': 943,\n",
       " 'sfarsit': 944,\n",
       " 'sti': 945,\n",
       " 'noteazati': 946,\n",
       " 'obraznic': 947,\n",
       " 'obraznica': 948,\n",
       " 'iei': 949,\n",
       " 'arati': 950,\n",
       " 'stupid': 951,\n",
       " 'vei': 952,\n",
       " 'las': 953,\n",
       " 'inger': 954,\n",
       " 'impartiala': 955,\n",
       " 'leul': 956,\n",
       " 'oricine': 957,\n",
       " 'faca': 958,\n",
       " 'canadian': 959,\n",
       " 'canadianca': 960,\n",
       " 'dusmanul': 961,\n",
       " 'studenti': 962,\n",
       " 'candva': 963,\n",
       " 'maine': 964,\n",
       " 'acest': 965,\n",
       " 'numar': 966,\n",
       " 'ajuti': 967,\n",
       " 'alerga': 968,\n",
       " 'sertarul': 969,\n",
       " 'ajutane': 970,\n",
       " 'vii': 971,\n",
       " 'zambit': 972,\n",
       " 'imediat': 973,\n",
       " 'vreti': 974,\n",
       " 'cainii': 975,\n",
       " 'latra': 976,\n",
       " 'insela': 977,\n",
       " 'duce': 978,\n",
       " 'cai': 979,\n",
       " 'gresite': 980,\n",
       " 'induce': 981,\n",
       " 'eroare': 982,\n",
       " 'provoca': 983,\n",
       " 'fraieri': 984,\n",
       " 'atinge': 985,\n",
       " 'pana': 986,\n",
       " 'ranjit': 987,\n",
       " 'langa': 988,\n",
       " 'treci': 989,\n",
       " 'subiect': 990,\n",
       " 'lupta': 991,\n",
       " 'fara': 992,\n",
       " 'drum': 993,\n",
       " 'bucurie': 994,\n",
       " 'picasso': 995,\n",
       " 'dascalul': 996,\n",
       " 'nesociabil': 997,\n",
       " 'jurnal': 998,\n",
       " 'pescuiasca': 999,\n",
       " ...}"
      ]
     },
     "execution_count": 178,
     "metadata": {},
     "output_type": "execute_result"
    }
   ],
   "source": [
    "util.word_2_index_out"
   ]
  },
  {
   "cell_type": "code",
   "execution_count": 179,
   "metadata": {},
   "outputs": [
    {
     "name": "stdout",
     "output_type": "stream",
     "text": [
      "(['hi'], ['buna'])\n",
      "(['run'], ['fugi'])\n",
      "(['who'], ['cine'])\n",
      "(['fire'], ['foc'])\n",
      "(['help'], ['ajutor'])\n",
      "(['jump'], ['sari'])\n",
      "(['stop'], ['oprestete'])\n",
      "(['wait'], ['asteapta'])\n",
      "(['hello'], ['salut'])\n",
      "(['hello'], ['buna'])\n",
      "(['hurry'], ['haide'])\n",
      "(['hurry'], ['grabestete'])\n",
      "(['relax'], ['calmeazate'])\n",
      "(['smile'], ['zambeste'])\n",
      "(['attack'], ['ataca'])\n",
      "(['attack'], ['atacati'])\n",
      "(['cheers'], ['noroc'])\n",
      "(['cheers'], ['sanatate'])\n",
      "(['cheers'], ['noroc', 'bun'])\n",
      "(['freeze'], ['stai', 'pe', 'loc'])\n",
      "(['get', 'up'], ['ridicate'])\n",
      "(['really'], ['serios'])\n",
      "(['ask', 'tom'], ['intreabal', 'pe', 'tom'])\n",
      "(['awesome'], ['maxim'])\n"
     ]
    }
   ],
   "source": [
    "for i in range(len(util.data[11000::])):\n",
    "    print(util.data[i])"
   ]
  },
  {
   "cell_type": "code",
   "execution_count": 180,
   "metadata": {},
   "outputs": [
    {
     "name": "stderr",
     "output_type": "stream",
     "text": [
      "C:\\Users\\Cordu\\Anaconda3\\lib\\site-packages\\ipykernel_launcher.py:5: TqdmDeprecationWarning: This function will be removed in tqdm==5.0.0\n",
      "Please use `tqdm.notebook.tqdm` instead of `tqdm.tqdm_notebook`\n",
      "  \"\"\"\n"
     ]
    },
    {
     "data": {
      "application/vnd.jupyter.widget-view+json": {
       "model_id": "74960085903b4f3684046c5e51d8976e",
       "version_major": 2,
       "version_minor": 0
      },
      "text/plain": [
       "HBox(children=(FloatProgress(value=0.0, max=24.0), HTML(value='')))"
      ]
     },
     "metadata": {},
     "output_type": "display_data"
    },
    {
     "name": "stdout",
     "output_type": "stream",
     "text": [
      "\n"
     ]
    }
   ],
   "source": [
    "def evaluate_model():\n",
    "    \n",
    "    prediction_output = []\n",
    "    \n",
    "    for batch in tqdm_notebook(util.data[11000:]):\n",
    "        \n",
    "        input_batch = batch[0]\n",
    "        target_batch = batch[1]\n",
    "        \n",
    "        sentence = torch.LongTensor([util.word_2_index_in[i] for i in input_batch]).view(1, -1).to(device)\n",
    "        target_pred = torch.LongTensor([util.word_2_index_out[i] for i in target_batch]).view(1, -1).to(device)\n",
    "        \n",
    "        \n",
    "        with torch.no_grad():\n",
    "            target = [1] # target starts with SOS\n",
    "            for i in range(100):\n",
    "                trg_tensor = torch.LongTensor(target).view(1, -1).to(device)\n",
    "                prediction = model(sentence.view(1, -1), trg_tensor)\n",
    "                topv, topi = prediction[0][i].topk(1)\n",
    "                target.append(topi.item())\n",
    "                if topi.item() == 2:\n",
    "                    break\n",
    "                 \n",
    "        target_words = [util.index_2_word_out[i] for i in target]\n",
    "        prediction_output.append((torch.LongTensor(target).view(1, -1).to(device), target_pred))\n",
    "\n",
    "    return prediction_output\n",
    "\n",
    "prediction_output = evaluate_model()"
   ]
  },
  {
   "cell_type": "code",
   "execution_count": 181,
   "metadata": {},
   "outputs": [
    {
     "name": "stdout",
     "output_type": "stream",
     "text": [
      "['ei', 'siau', 'format', 'propria', 'asociatie', 'la', 'nivel', 'national', 'asociatia', 'americana', 'a', 'persoanelor', 'pensionate']\n",
      "['la', 'sa', 'plec']\n",
      "----------\n",
      "['noi', 'oamenii', 'avem', 'o', 'modalitate', 'foarte', 'buna', 'de', 'a', 'rastalmaci', 'intamplarile', 'pentru', 'a', 'se', 'potrivi', 'cu', 'concluzia', 'noastra', 'de', 'indata', 'ce', 'neam', 'facut', 'una']\n",
      "['spunemi']\n",
      "----------\n",
      "['majoritatea', 'oamenilor', 'spun', 'ca', 'cel', 'mai', 'bun', 'mod', 'de', 'a', 'invata', 'o', 'limba', 'straina', 'este', 'sa', 'o', 'inveti', 'de', 'la', 'un', 'vorbitor', 'nativ']\n",
      "['spunemi']\n",
      "----------\n",
      "['de', 'obicei', 'el', 'este', 'direct', 'si', 'sincer', 'si', 'astfel', 'castiga', 'increderea', 'celor', 'care', 'il', 'intalnesc']\n",
      "['trebuia', 'sa', 'plec']\n",
      "----------\n",
      "['zilele', 'saptamanii', 'sunt', 'luni', 'marti', 'miercuri', 'joi', 'vineri', 'sambata', 'duminica']\n",
      "['cine', 'este', 'bine']\n",
      "----------\n",
      "['oficialii', 'chinezi', 'spun', 'ca', 'cresterea', 'economica', 'a', 'scazut', 'la', 'minimul', 'ultimilor', 'trei', 'ani', 'din', 'cauza', 'economiei', 'globale']\n",
      "['cine', 'este', 'mai']\n",
      "----------\n",
      "['cred', 'ca', 'e', 'improbabil', 'ca', 'extraterestri', 'similari', 'cu', 'ceea', 'ce', 'vedem', 'in', 'filme', 'sa', 'fi', 'vizitat', 'vreodata', 'planeta', 'noastra']\n",
      "['ea', 'este', 'prezent']\n",
      "----------\n",
      "['nelson', 'mandela', 'a', 'fost', 'unul', 'dintre', 'acei', 'oameni', 'rari', 'care', 'au', 'reusit', 'sa', 'castige', 'recunoastere', 'universala', 'in', 'intreaga', 'lume']\n",
      "['vreau', 'unul']\n",
      "----------\n",
      "['', 'daca', 'esti', 'obosit', 'de', 'ce', 'nu', 'te', 'duci', 'la', 'culcare', '', 'pentru', 'ca', 'daca', 'ma', 'duc', 'la', 'culcare', 'acum', 'ma', 'voi', 'trezi', 'prea', 'devreme']\n",
      "['esti', 'suparat']\n",
      "----------\n",
      "['in', 'timpurile', 'grele', 'poate', 'ca', 'oamenii', 'nu', 'mai', 'pleaca', 'in', 'vacanta', 'si', 'poate', 'ca', 'sunt', 'dispusi', 'sa', 'plateasca', 'suplimentar', 'pentru', 'o', 'cafea', 'buna']\n",
      "['spunemi']\n",
      "----------\n",
      "['in', 'timpurile', 'grele', 'poate', 'ca', 'oamenii', 'nu', 'pleaca', 'in', 'vacanta', 'si', 'sunt', 'mai', 'dispusi', 'sa', 'plateasca', 'in', 'plus', 'pentru', 'o', 'cafea', 'buna']\n",
      "['spunemi']\n",
      "----------\n",
      "['presedintele', 'barack', 'obama', 'a', 'laudat', 'polonia', 'ca', 'un', 'bun', 'exemplu', 'pentru', 'democratiile', 'aspirante', 'din', 'orientul', 'mijlociu', 'sau', 'din', 'alta', 'parte']\n",
      "['perfect']\n",
      "----------\n",
      "['desi', 'tom', 'ia', 'spus', 'lui', 'mary', 'despre', 'problema', 'lui', 'el', 'nu', 'a', 'vrut', 'sa', 'asculte', 'de', 'nici', 'un', 'sfat', 'deal', 'ei', 'despre', 'cum', 'se', 'poate', 'rezolva']\n",
      "['ea', 'este', 'prezent']\n",
      "----------\n",
      "['am', 'venit', 'aici', 'ca', 'sa', 'vad', 'daca', 'pot', 'sa', 'ajut', 'cu', 'ceva', 'dar', 'se', 'pare', 'ca', 'nu', 'e', 'nimic', 'de', 'facut', 'pentru', 'mine']\n",
      "['ea', 'este', 'bine']\n",
      "----------\n",
      "['organizatia', 'mondiala', 'a', 'sanatatii', 'spune', 'ca', 'abuzul', 'de', 'alcool', 'este', 'a', 'treia', 'principala', 'cauza', 'de', 'deces', 'si', 'de', 'invaliditate', 'in', 'lume']\n",
      "['spunemi']\n",
      "----------\n",
      "['auzise', 'ca', 'a', 'inceput', 'razboiul', 'dar', 'nu', 'a', 'constientizat', 'asta', 'timp', 'indelungat', 'pana', 'cand', 'tatal', 'sau', 'a', 'fost', 'inrolat']\n",
      "['spunemi']\n",
      "----------\n",
      "['daca', 'nu', 'doriti', 'sa', 'va', 'dati', 'cu', 'crema', 'de', 'protectie', 'solara', 'e', 'problema', 'dumneavoastra', 'dar', 'sa', 'nu', 'veniti', 'sa', 'va', 'plangeti', 'la', 'mine', 'cand', 'va', 'veti', 'fi', 'ars']\n",
      "['calmeazate']\n",
      "----------\n",
      "['preturile', 'la', 'mancare', 'sunt', 'la', 'cel', 'mai', 'ridicat', 'nivel', 'din', '', 'de', 'cand', 'organizatia', 'natiunilor', 'unite', 'pentru', 'alimentatie', 'si', 'agricultura', 'a', 'inceput', 'sa', 'tina', 'evidenta', 'preturilor']\n",
      "['calmeazate']\n",
      "----------\n",
      "['orasele', 'si', 'provinciile', 'dea', 'lungul', 'raului', 'yangtze', 'din', 'china', 'centrala', 'se', 'lupta', 'cu', 'cea', 'mai', 'rea', 'seceta', 'a', 'tarii', 'din', 'ultimii', '', 'de', 'ani']\n",
      "['ea', 'este', 'suparat']\n",
      "----------\n",
      "['cred', 'ca', 'e', 'o', 'rusine', 'ca', 'unii', 'dintre', 'profesorii', 'de', 'limbi', 'straine', 'au', 'putut', 'sa', 'termine', 'facultatea', 'fara', 'sa', 'fi', 'studiat', 'cu', 'un', 'vorbitor', 'nativ']\n",
      "['schiez']\n",
      "----------\n",
      "['cinci', 'cutremure', 'slabe', 'depasind', 'magnitudinea', '', 'pe', 'scara', 'richter', 'au', 'zguduit', 'japonia', 'doar', 'in', 'aceasta', 'saptamana', 'iar', 'oamenii', 'de', 'stiinta', 'avertizeaza', 'ca', 'replica', 'mai', 'mare', 'urmeaza', 'sa', 'loveasca']\n",
      "['calmeazate']\n",
      "----------\n",
      "['sunt', 'patru', 'principale', 'cauze', 'ale', 'decesului', 'datorita', 'alcoolului', 'prima', 'leziunile', 'din', 'accidentele', 'de', 'masina', 'sau', 'actele', 'de', 'violenta', 'bolile', 'ca', 'ciroza', 'ficatului', 'cancerul', 'si', 'cele', 'cardiovasculare', 'sunt', 'celelalte', 'cauze']\n",
      "['esti', 'suparat']\n",
      "----------\n",
      "['economiile', 'directionate', 'de', 'sus', 'in', 'jos', 'nu', 'functioneaza', 'niciodata', 'a', 'spus', 'obama', 'tara', 'nu', 'are', 'succes', 'cand', 'doar', 'cei', 'din', 'patura', 'de', 'sus', 'o', 'duc', 'bine', 'noi', 'reusim', 'cand', 'clasa', 'de', 'mijloc', 'se', 'mareste', 'cand', 'se', 'simte', 'o', 'mai', 'buna', 'securitate']\n",
      "['mam', 'intors']\n",
      "----------\n",
      "['amprenta', 'de', 'carbon', 'este', 'cantitatea', 'de', 'poluare', 'cu', 'dioxid', 'de', 'carbon', 'pe', 'care', 'noi', 'o', 'producem', 'ca', 'urmare', 'a', 'activitatiilor', 'noastre', 'unii', 'oameni', 'incearca', 'sasi', 'reduca', 'amprenta', 'lor', 'de', 'carbon', 'pentru', 'ca', 'sunt', 'ingrijorati', 'de', 'schimbarea', 'climatica']\n",
      "['spunemi']\n",
      "----------\n",
      "24\n",
      "2.7639104050847664e-308\n"
     ]
    }
   ],
   "source": [
    "from nltk.translate.bleu_score import sentence_bleu\n",
    "\n",
    "prediction = []\n",
    "target = []\n",
    "total_blue = 0\n",
    "for sent, tar in prediction_output: \n",
    "    \n",
    "    sentence_it = [util.index_2_word_out[word.item()] for word in sent.view(1, -1)[0][1:-1]]\n",
    "    target_it = [util.index_2_word_out[word.item()] for word in tar.view(1, -1)[0]]\n",
    "    print(target_it)\n",
    "    print(sentence_it)\n",
    "    print('----------')\n",
    "    total_blue += sentence_bleu([target_it], sentence_it, weights=(0.33, 0.33, 0.33, 0.33))\n",
    "\n",
    "print(len(prediction_output))\n",
    "print(total_blue / len(prediction_output))"
   ]
  },
  {
   "cell_type": "code",
   "execution_count": null,
   "metadata": {},
   "outputs": [],
   "source": []
  }
 ],
 "metadata": {
  "kernelspec": {
   "display_name": "Python 3",
   "language": "python",
   "name": "python3"
  },
  "language_info": {
   "codemirror_mode": {
    "name": "ipython",
    "version": 3
   },
   "file_extension": ".py",
   "mimetype": "text/x-python",
   "name": "python",
   "nbconvert_exporter": "python",
   "pygments_lexer": "ipython3",
   "version": "3.7.3"
  }
 },
 "nbformat": 4,
 "nbformat_minor": 4
}
